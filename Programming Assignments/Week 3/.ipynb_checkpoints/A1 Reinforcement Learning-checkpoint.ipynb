{
 "cells": [
  {
   "cell_type": "markdown",
   "metadata": {},
   "source": [
    "# Deep Q-Learning - Lunar Lander\n",
    "\n",
    "In this assignment, you will train an agent to land a lunar lander safely on a landing pad on the surface of the moon.\n",
    "\n",
    "\n",
    "# Outline\n",
    "- [ 1 - Import Packages](#1) <img align=\"Right\" src=\"./images/C3_W3_A1_LunarLander.gif\" width = 60% >\n",
    "- [ 2 - Hyperparameters](#2)\n",
    "- [ 3 - The Lunar Lander Environment](#3)\n",
    "  - [ 3.1 Action Space](#3.1)\n",
    "  - [ 3.2 Observation Space](#3.2)\n",
    "  - [ 3.3 Rewards](#3.3)\n",
    "  - [ 3.4 Episode Termination](#3.4)\n",
    "- [ 4 - Load the Environment](#4)\n",
    "- [ 5 - Interacting with the Gym Environment](#5)\n",
    "    - [ 5.1 Exploring the Environment's Dynamics](#5.1)\n",
    "- [ 6 - Deep Q-Learning](#6)\n",
    "  - [ 6.1 Target Network](#6.1)\n",
    "    - [ Exercise 1](#ex01)\n",
    "  - [ 6.2 Experience Replay](#6.2)\n",
    "- [ 7 - Deep Q-Learning Algorithm with Experience Replay](#7)\n",
    "  - [ Exercise 2](#ex02)\n",
    "- [ 8 - Update the Network Weights](#8)\n",
    "- [ 9 - Train the Agent](#9)\n",
    "- [ 10 - See the Trained Agent In Action](#10)\n",
    "- [ 11 - Congratulations!](#11)\n",
    "- [ 12 - References](#12)\n"
   ]
  },
  {
   "cell_type": "markdown",
   "metadata": {},
   "source": [
    "_**NOTE:** To prevent errors from the autograder, you are not allowed to edit or delete non-graded cells in this lab. Please also refrain from adding any new cells. \n",
    "**Once you have passed this assignment** and want to experiment with any of the non-graded code, you may follow the instructions at the bottom of this notebook._"
   ]
  },
  {
   "cell_type": "markdown",
   "metadata": {},
   "source": [
    "<a name=\"1\"></a>\n",
    "## 1 - Import Packages\n",
    "\n",
    "We'll make use of the following packages:\n",
    "- `numpy` is a package for scientific computing in python.\n",
    "- `deque` will be our data structure for our memory buffer.\n",
    "- `namedtuple` will be used to store the experience tuples.\n",
    "- The `gym` toolkit is a collection of environments that can be used to test reinforcement learning algorithms. We should note that in this notebook we are using `gym` version `0.24.0`.\n",
    "- `PIL.Image` and `pyvirtualdisplay` are needed to render the Lunar Lander environment.\n",
    "- We will use several modules from the `tensorflow.keras` framework for building deep learning models.\n",
    "- `utils` is a module that contains helper functions for this assignment. You do not need to modify the code in this file.\n",
    "\n",
    "Run the cell below to import all the necessary packages."
   ]
  },
  {
   "cell_type": "code",
   "execution_count": 1,
   "metadata": {
    "deletable": false,
    "id": "KYbOPKRtfQOr"
   },
   "outputs": [
    {
     "name": "stderr",
     "output_type": "stream",
     "text": [
      "/home/hope1300/.local/lib/python3.10/site-packages/tensorflow/__init__.py:29: DeprecationWarning: The distutils package is deprecated and slated for removal in Python 3.12. Use setuptools or check PEP 632 for potential alternatives\n",
      "  import distutils as _distutils\n",
      "2024-11-15 15:48:52.936102: I tensorflow/core/platform/cpu_feature_guard.cc:193] This TensorFlow binary is optimized with oneAPI Deep Neural Network Library (oneDNN) to use the following CPU instructions in performance-critical operations:  AVX2 FMA\n",
      "To enable them in other operations, rebuild TensorFlow with the appropriate compiler flags.\n",
      "2024-11-15 15:48:53.040657: W tensorflow/stream_executor/platform/default/dso_loader.cc:64] Could not load dynamic library 'libcudart.so.11.0'; dlerror: libcudart.so.11.0: cannot open shared object file: No such file or directory\n",
      "2024-11-15 15:48:53.040673: I tensorflow/stream_executor/cuda/cudart_stub.cc:29] Ignore above cudart dlerror if you do not have a GPU set up on your machine.\n",
      "2024-11-15 15:48:53.056492: E tensorflow/stream_executor/cuda/cuda_blas.cc:2981] Unable to register cuBLAS factory: Attempting to register factory for plugin cuBLAS when one has already been registered\n",
      "2024-11-15 15:48:53.480933: W tensorflow/stream_executor/platform/default/dso_loader.cc:64] Could not load dynamic library 'libnvinfer.so.7'; dlerror: libnvinfer.so.7: cannot open shared object file: No such file or directory\n",
      "2024-11-15 15:48:53.481004: W tensorflow/stream_executor/platform/default/dso_loader.cc:64] Could not load dynamic library 'libnvinfer_plugin.so.7'; dlerror: libnvinfer_plugin.so.7: cannot open shared object file: No such file or directory\n",
      "2024-11-15 15:48:53.481009: W tensorflow/compiler/tf2tensorrt/utils/py_utils.cc:38] TF-TRT Warning: Cannot dlopen some TensorRT libraries. If you would like to use Nvidia GPU with TensorRT, please make sure the missing libraries mentioned above are installed properly.\n"
     ]
    }
   ],
   "source": [
    "import time\n",
    "from collections import deque, namedtuple\n",
    "\n",
    "import gym\n",
    "import utils\n",
    "from pyvirtualdisplay import Display\n",
    "import numpy as np\n",
    "import PIL.Image\n",
    "import tensorflow as tf\n",
    "\n",
    "\n",
    "\n",
    "from keras import Sequential\n",
    "from keras.layers import Dense, Input\n",
    "from keras.losses import MSE\n",
    "from tensorflow.keras.optimizers import Adam\n"
   ]
  },
  {
   "cell_type": "code",
   "execution_count": 2,
   "metadata": {},
   "outputs": [
    {
     "name": "stdout",
     "output_type": "stream",
     "text": [
      "No GPUs detected.\n"
     ]
    },
    {
     "name": "stderr",
     "output_type": "stream",
     "text": [
      "2024-11-15 15:48:54.291819: I tensorflow/stream_executor/cuda/cuda_gpu_executor.cc:966] could not open file to read NUMA node: /sys/bus/pci/devices/0000:01:00.0/numa_node\n",
      "Your kernel may have been built without NUMA support.\n",
      "2024-11-15 15:48:54.291959: W tensorflow/stream_executor/platform/default/dso_loader.cc:64] Could not load dynamic library 'libcudart.so.11.0'; dlerror: libcudart.so.11.0: cannot open shared object file: No such file or directory\n",
      "2024-11-15 15:48:54.292012: W tensorflow/stream_executor/platform/default/dso_loader.cc:64] Could not load dynamic library 'libcublas.so.11'; dlerror: libcublas.so.11: cannot open shared object file: No such file or directory\n",
      "2024-11-15 15:48:54.292058: W tensorflow/stream_executor/platform/default/dso_loader.cc:64] Could not load dynamic library 'libcublasLt.so.11'; dlerror: libcublasLt.so.11: cannot open shared object file: No such file or directory\n",
      "2024-11-15 15:48:54.292102: W tensorflow/stream_executor/platform/default/dso_loader.cc:64] Could not load dynamic library 'libcufft.so.10'; dlerror: libcufft.so.10: cannot open shared object file: No such file or directory\n",
      "2024-11-15 15:48:54.292146: W tensorflow/stream_executor/platform/default/dso_loader.cc:64] Could not load dynamic library 'libcurand.so.10'; dlerror: libcurand.so.10: cannot open shared object file: No such file or directory\n",
      "2024-11-15 15:48:54.292189: W tensorflow/stream_executor/platform/default/dso_loader.cc:64] Could not load dynamic library 'libcusolver.so.11'; dlerror: libcusolver.so.11: cannot open shared object file: No such file or directory\n",
      "2024-11-15 15:48:54.292231: W tensorflow/stream_executor/platform/default/dso_loader.cc:64] Could not load dynamic library 'libcusparse.so.11'; dlerror: libcusparse.so.11: cannot open shared object file: No such file or directory\n",
      "2024-11-15 15:48:54.292273: W tensorflow/stream_executor/platform/default/dso_loader.cc:64] Could not load dynamic library 'libcudnn.so.8'; dlerror: libcudnn.so.8: cannot open shared object file: No such file or directory\n",
      "2024-11-15 15:48:54.292282: W tensorflow/core/common_runtime/gpu/gpu_device.cc:1934] Cannot dlopen some GPU libraries. Please make sure the missing libraries mentioned above are installed properly if you would like to use GPU. Follow the guide at https://www.tensorflow.org/install/gpu for how to download and setup the required libraries for your platform.\n",
      "Skipping registering GPU devices...\n"
     ]
    }
   ],
   "source": [
    "# List all physical devices (including GPUs)\n",
    "gpus = tf.config.list_physical_devices('GPU')\n",
    "\n",
    "if gpus:\n",
    "    for gpu in gpus:\n",
    "        print(f\"Device: {gpu}\")\n",
    "        \n",
    "        # Get memory info (optional)\n",
    "        memory_info = tf.config.experimental.get_memory_info(gpu)\n",
    "        print(f\"Memory Info: {memory_info}\")\n",
    "else:\n",
    "    print(\"No GPUs detected.\")\n"
   ]
  },
  {
   "cell_type": "code",
   "execution_count": 3,
   "metadata": {
    "deletable": false,
    "editable": false
   },
   "outputs": [],
   "source": [
    "# Set up a virtual display to render the Lunar Lander environment.\n",
    "Display(visible=0, size=(840, 480)).start();\n",
    "\n",
    "# Set the random seed for TensorFlow\n",
    "tf.random.set_seed(utils.SEED)"
   ]
  },
  {
   "cell_type": "markdown",
   "metadata": {},
   "source": [
    "<a name=\"2\"></a>\n",
    "## 2 - Hyperparameters\n",
    "\n",
    "Run the cell below to set the hyperparameters."
   ]
  },
  {
   "cell_type": "code",
   "execution_count": 4,
   "metadata": {
    "deletable": false,
    "editable": false
   },
   "outputs": [],
   "source": [
    "MEMORY_SIZE = 100_000     # size of memory buffer\n",
    "GAMMA = 0.995             # discount factor\n",
    "ALPHA = 1e-3              # learning rate  \n",
    "NUM_STEPS_FOR_UPDATE = 4  # perform a learning update every C time steps"
   ]
  },
  {
   "cell_type": "markdown",
   "metadata": {},
   "source": [
    "<a name=\"3\"></a>\n",
    "## 3 - The Lunar Lander Environment\n",
    "\n",
    "In this notebook we will be using [OpenAI's Gym Library](https://www.gymlibrary.dev/). The Gym library provides a wide variety of environments for reinforcement learning. To put it simply, an environment represents a problem or task to be solved. In this notebook, we will try to solve the Lunar Lander environment using reinforcement learning.\n",
    "\n",
    "The goal of the Lunar Lander environment is to land the lunar lander safely on the landing pad on the surface of the moon. The landing pad is designated by two flag poles and its center is at coordinates `(0,0)` but the lander is also allowed to land outside of the landing pad. The lander starts at the top center of the environment with a random initial force applied to its center of mass and has infinite fuel. The environment is considered solved if you get `200` points. \n",
    "\n",
    "![LunarLander](./images/C3_W3_A1_LunarLander.gif)\n",
    "<p style=\"text-align: center; font-style: italic\">Fig 1. Lunar Lander Environment</p>\n",
    "\n",
    "<a name=\"3.1\"></a>\n",
    "### 3.1 Action Space\n",
    "\n",
    "The agent has four discrete actions available:\n",
    "\n",
    "* Do nothing.\n",
    "* Fire right engine.\n",
    "* Fire main engine.\n",
    "* Fire left engine.\n",
    "\n",
    "Each action has a corresponding numerical value:\n",
    "\n",
    "```text\n",
    "Do nothing = 0\n",
    "Fire right engine = 1\n",
    "Fire main engine = 2\n",
    "Fire left engine = 3\n",
    "```\n",
    "\n",
    "<a name=\"3.2\"></a>\n",
    "### 3.2 Observation Space\n",
    "\n",
    "The agent's observation space consists of a state vector with 8 variables:\n",
    "\n",
    "* Its $(x,y)$ coordinates. The landing pad is always at coordinates $(0,0)$.\n",
    "* Its linear velocities $(\\dot x,\\dot y)$.\n",
    "* Its angle $\\theta$.\n",
    "* Its angular velocity $\\dot \\theta$.\n",
    "* Two booleans, $l$ and $r$, that represent whether each leg is in contact with the ground or not.\n",
    "\n",
    "<a name=\"3.3\"></a>\n",
    "### 3.3 Rewards\n",
    "\n",
    "After every step, a reward is granted. The total reward of an episode is the sum of the rewards for all the steps within that episode.\n",
    "\n",
    "For each step, the reward:\n",
    "- is increased/decreased the closer/further the lander is to the landing pad.\n",
    "- is increased/decreased the slower/faster the lander is moving.\n",
    "- is decreased the more the lander is tilted (angle not horizontal).\n",
    "- is increased by 10 points for each leg that is in contact with the ground.\n",
    "- is decreased by 0.03 points each frame a side engine is firing.\n",
    "- is decreased by 0.3 points each frame the main engine is firing.\n",
    "\n",
    "The episode receives an additional reward of -100 or +100 points for crashing or landing safely respectively.\n",
    "\n",
    "<a name=\"3.4\"></a>\n",
    "### 3.4 Episode Termination\n",
    "\n",
    "An episode ends (i.e the environment enters a terminal state) if:\n",
    "\n",
    "* The lunar lander crashes (i.e if the body of the lunar lander comes in contact with the surface of the moon).\n",
    "\n",
    "* The absolute value of the lander's $x$-coordinate is greater than 1 (i.e. it goes beyond the left or right border)\n",
    "\n",
    "You can check out the [Open AI Gym documentation](https://www.gymlibrary.dev/environments/box2d/lunar_lander/) for a full description of the environment. "
   ]
  },
  {
   "cell_type": "markdown",
   "metadata": {},
   "source": [
    "<a name=\"4\"></a>\n",
    "## 4 - Load the Environment\n",
    "\n",
    "We start by loading the `LunarLander-v2` environment from the `gym` library by using the `.make()` method. `LunarLander-v2` is the latest version of the Lunar Lander environment and you can read about its version history in the [Open AI Gym documentation](https://www.gymlibrary.dev/environments/box2d/lunar_lander/#version-history)."
   ]
  },
  {
   "cell_type": "code",
   "execution_count": 5,
   "metadata": {
    "deletable": false,
    "editable": false,
    "id": "ILVMYKewfR0n"
   },
   "outputs": [
    {
     "name": "stderr",
     "output_type": "stream",
     "text": [
      "/home/hope1300/.local/lib/python3.10/site-packages/gym/core.py:317: DeprecationWarning: \u001b[33mWARN: Initializing wrapper in old step API which returns one bool instead of two. It is recommended to set `new_step_api=True` to use new step API. This will be the default behaviour in future.\u001b[0m\n",
      "  deprecation(\n",
      "/home/hope1300/.local/lib/python3.10/site-packages/gym/wrappers/step_api_compatibility.py:39: DeprecationWarning: \u001b[33mWARN: Initializing environment in old step API which returns one bool instead of two. It is recommended to set `new_step_api=True` to use new step API. This will be the default behaviour in future.\u001b[0m\n",
      "  deprecation(\n"
     ]
    }
   ],
   "source": [
    "env = gym.make('LunarLander-v2')"
   ]
  },
  {
   "cell_type": "markdown",
   "metadata": {},
   "source": [
    "Once we load the environment we use the `.reset()` method to reset the environment to the initial state. The lander starts at the top center of the environment and we can render the first frame of the environment by using the `.render()` method."
   ]
  },
  {
   "cell_type": "code",
   "execution_count": 6,
   "metadata": {
    "deletable": false,
    "editable": false
   },
   "outputs": [
    {
     "name": "stderr",
     "output_type": "stream",
     "text": [
      "/home/hope1300/.local/lib/python3.10/site-packages/gym/core.py:43: DeprecationWarning: \u001b[33mWARN: The argument mode in render method is deprecated; use render_mode during environment initialization instead.\n",
      "See here for more information: https://www.gymlibrary.ml/content/api/\u001b[0m\n",
      "  deprecation(\n"
     ]
    },
    {
     "data": {
      "image/jpeg": "[encoded data removed]",
      "image/png": "[encoded data removed]",
      "text/plain": [
       "<PIL.Image.Image image mode=RGB size=600x400>"
      ]
     },
     "execution_count": 6,
     "metadata": {},
     "output_type": "execute_result"
    }
   ],
   "source": [
    "env.reset()\n",
    "PIL.Image.fromarray(env.render(mode='rgb_array'))"
   ]
  },
  {
   "cell_type": "markdown",
   "metadata": {},
   "source": [
    "In order to build our neural network later on we need to know the size of the state vector and the number of valid actions. We can get this information from our environment by using the `.observation_space.shape` and `action_space.n` methods, respectively."
   ]
  },
  {
   "cell_type": "code",
   "execution_count": 7,
   "metadata": {
    "deletable": false,
    "editable": false,
    "id": "x3fdqdG4CUu2"
   },
   "outputs": [
    {
     "name": "stdout",
     "output_type": "stream",
     "text": [
      "State Shape: (8,)\n",
      "Number of actions: 4\n"
     ]
    }
   ],
   "source": [
    "state_size = env.observation_space.shape\n",
    "num_actions = env.action_space.n\n",
    "\n",
    "print('State Shape:', state_size)\n",
    "print('Number of actions:', num_actions)"
   ]
  },
  {
   "cell_type": "markdown",
   "metadata": {},
   "source": [
    "<a name=\"5\"></a>\n",
    "## 5 - Interacting with the Gym Environment\n",
    "\n",
    "The Gym library implements the standard “agent-environment loop” formalism:\n",
    "\n",
    "<br>\n",
    "<center>\n",
    "<video src = \"./videos/C3_W3_A1_RLFormalism.m4v\" width=\"840\" height=\"480\" controls autoplay loop poster=\"./images/C3_W3_A1_RLFormalism.png\"> </video>\n",
    "<figcaption style = \"text-align:center; font-style:italic\">Fig 2. Agent-environment Loop Formalism.</figcaption>\n",
    "</center>\n",
    "<br>\n",
    "\n",
    "In the standard “agent-environment loop” formalism, an agent interacts with the environment in discrete time steps $t=0,1,2,...$. At each time step $t$, the agent uses a policy $\\pi$ to select an action $A_t$ based on its observation of the environment's state $S_t$. The agent receives a numerical reward $R_t$ and on the next time step, moves to a new state $S_{t+1}$.\n",
    "\n",
    "<a name=\"5.1\"></a>\n",
    "### 5.1 Exploring the Environment's Dynamics\n",
    "\n",
    "In Open AI's Gym environments, we use the `.step()` method to run a single time step of the environment's dynamics. In the version of `gym` that we are using the `.step()` method accepts an action and returns four values:\n",
    "\n",
    "* `observation` (**object**): an environment-specific object representing your observation of the environment. In the Lunar Lander environment this corresponds to a numpy array containing the positions and velocities of the lander as described in section [3.2 Observation Space](#3.2).\n",
    "\n",
    "\n",
    "* `reward` (**float**): amount of reward returned as a result of taking the given action. In the Lunar Lander environment this corresponds to a float of type `numpy.float64` as described in section [3.3 Rewards](#3.3).\n",
    "\n",
    "\n",
    "* `done` (**boolean**): When done is `True`, it indicates the episode has terminated and it’s time to reset the environment. \n",
    "\n",
    "\n",
    "* `info` (**dictionary**): diagnostic information useful for debugging. We won't be using this variable in this notebook but it is shown here for completeness.\n",
    "\n",
    "To begin an episode, we need to reset the environment to an initial state. We do this by using the `.reset()` method. "
   ]
  },
  {
   "cell_type": "code",
   "execution_count": 8,
   "metadata": {
    "deletable": false,
    "editable": false
   },
   "outputs": [],
   "source": [
    "# Reset the environment and get the initial state.\n",
    "current_state = env.reset()"
   ]
  },
  {
   "cell_type": "markdown",
   "metadata": {},
   "source": [
    "Once the environment is reset, the agent can start taking actions in the environment by using the `.step()` method. Note that the agent can only take one action per time step. \n",
    "\n",
    "In the cell below you can select different actions and see how the returned values change depending on the action taken. Remember that in this environment the agent has four discrete actions available and we specify them in code by using their corresponding numerical value:\n",
    "\n",
    "```text\n",
    "Do nothing = 0\n",
    "Fire right engine = 1\n",
    "Fire main engine = 2\n",
    "Fire left engine = 3\n",
    "```"
   ]
  },
  {
   "cell_type": "code",
   "execution_count": 9,
   "metadata": {
    "deletable": false
   },
   "outputs": [
    {
     "name": "stderr",
     "output_type": "stream",
     "text": [
      "/mnt/f/Github/Unsupervised-ML-RL/Programming Assignments/Week 3/utils.py:357: DeprecationWarning: `np.bool` is a deprecated alias for the builtin `bool`. To silence this warning, use `bool` by itself. Doing this will not modify any behavior and is safe. If you specifically wanted the numpy scalar type, use `np.bool_` here.\n",
      "Deprecated in NumPy 1.20; for more details and guidance: https://numpy.org/devdocs/release/1.20.0-notes.html#deprecations\n",
      "  (STATE_VECTOR_COL_NAME, 'Ground contact', 'Left Leg?'): get_state(6, np.bool),\n"
     ]
    },
    {
     "data": {
      "text/html": [
       "<style type=\"text/css\">\n",
       "#T_c89ec_ th {\n",
       "  border: 1px solid grey;\n",
       "  text-align: center;\n",
       "}\n",
       "#T_c89ec_ tbody td {\n",
       "  border: 1px solid grey;\n",
       "  text-align: center;\n",
       "}\n",
       "#T_c89ec_row0_col0, #T_c89ec_row1_col1, #T_c89ec_row1_col2, #T_c89ec_row1_col3, #T_c89ec_row1_col4, #T_c89ec_row1_col5, #T_c89ec_row1_col6, #T_c89ec_row1_col7, #T_c89ec_row1_col8, #T_c89ec_row1_col9, #T_c89ec_row1_col10, #T_c89ec_row1_col11, #T_c89ec_row2_col0, #T_c89ec_row3_col1, #T_c89ec_row3_col2, #T_c89ec_row3_col3, #T_c89ec_row3_col4, #T_c89ec_row3_col5, #T_c89ec_row3_col6, #T_c89ec_row3_col7, #T_c89ec_row3_col8, #T_c89ec_row3_col9, #T_c89ec_row3_col10, #T_c89ec_row3_col11, #T_c89ec_row4_col1, #T_c89ec_row4_col2, #T_c89ec_row4_col3, #T_c89ec_row4_col4, #T_c89ec_row4_col5, #T_c89ec_row4_col6, #T_c89ec_row4_col7, #T_c89ec_row4_col8, #T_c89ec_row4_col9, #T_c89ec_row4_col10, #T_c89ec_row4_col11 {\n",
       "  background-color: grey;\n",
       "}\n",
       "</style>\n",
       "<table id=\"T_c89ec_\">\n",
       "  <thead>\n",
       "    <tr>\n",
       "      <th class=\"blank level0\" >&nbsp;</th>\n",
       "      <th class=\"col_heading level0 col0\" ></th>\n",
       "      <th class=\"col_heading level0 col1\" colspan=\"8\">State Vector</th>\n",
       "      <th class=\"col_heading level0 col9\" colspan=\"3\">Derived from the State Vector (the closer to zero, the better)</th>\n",
       "    </tr>\n",
       "    <tr>\n",
       "      <th class=\"blank level1\" >&nbsp;</th>\n",
       "      <th class=\"col_heading level1 col0\" ></th>\n",
       "      <th class=\"col_heading level1 col1\" colspan=\"2\">Coordinate</th>\n",
       "      <th class=\"col_heading level1 col3\" colspan=\"2\">Velocity</th>\n",
       "      <th class=\"col_heading level1 col5\" colspan=\"2\">Tilting</th>\n",
       "      <th class=\"col_heading level1 col7\" colspan=\"2\">Ground contact</th>\n",
       "      <th class=\"col_heading level1 col9\" >Distance from landing pad</th>\n",
       "      <th class=\"col_heading level1 col10\" >Velocity</th>\n",
       "      <th class=\"col_heading level1 col11\" >Tilting Angle (absolute value)</th>\n",
       "    </tr>\n",
       "    <tr>\n",
       "      <th class=\"blank level2\" >&nbsp;</th>\n",
       "      <th class=\"col_heading level2 col0\" ></th>\n",
       "      <th class=\"col_heading level2 col1\" >X (Horizontal)</th>\n",
       "      <th class=\"col_heading level2 col2\" >Y (Vertical)</th>\n",
       "      <th class=\"col_heading level2 col3\" >X (Horizontal)</th>\n",
       "      <th class=\"col_heading level2 col4\" >Y (Vertical)</th>\n",
       "      <th class=\"col_heading level2 col5\" >Angle</th>\n",
       "      <th class=\"col_heading level2 col6\" >Angular Velocity</th>\n",
       "      <th class=\"col_heading level2 col7\" >Left Leg?</th>\n",
       "      <th class=\"col_heading level2 col8\" >Right Leg?</th>\n",
       "      <th class=\"col_heading level2 col9\" ></th>\n",
       "      <th class=\"col_heading level2 col10\" ></th>\n",
       "      <th class=\"col_heading level2 col11\" ></th>\n",
       "    </tr>\n",
       "  </thead>\n",
       "  <tbody>\n",
       "    <tr>\n",
       "      <th id=\"T_c89ec_level0_row0\" class=\"row_heading level0 row0\" >Current State</th>\n",
       "      <td id=\"T_c89ec_row0_col0\" class=\"data row0 col0\" ></td>\n",
       "      <td id=\"T_c89ec_row0_col1\" class=\"data row0 col1\" >0.000985</td>\n",
       "      <td id=\"T_c89ec_row0_col2\" class=\"data row0 col2\" >1.419459</td>\n",
       "      <td id=\"T_c89ec_row0_col3\" class=\"data row0 col3\" >0.099739</td>\n",
       "      <td id=\"T_c89ec_row0_col4\" class=\"data row0 col4\" >0.379483</td>\n",
       "      <td id=\"T_c89ec_row0_col5\" class=\"data row0 col5\" >-0.001134</td>\n",
       "      <td id=\"T_c89ec_row0_col6\" class=\"data row0 col6\" >-0.022592</td>\n",
       "      <td id=\"T_c89ec_row0_col7\" class=\"data row0 col7\" >False</td>\n",
       "      <td id=\"T_c89ec_row0_col8\" class=\"data row0 col8\" >False</td>\n",
       "      <td id=\"T_c89ec_row0_col9\" class=\"data row0 col9\" >1.419459</td>\n",
       "      <td id=\"T_c89ec_row0_col10\" class=\"data row0 col10\" >0.392371</td>\n",
       "      <td id=\"T_c89ec_row0_col11\" class=\"data row0 col11\" >0.001134</td>\n",
       "    </tr>\n",
       "    <tr>\n",
       "      <th id=\"T_c89ec_level0_row1\" class=\"row_heading level0 row1\" >Action</th>\n",
       "      <td id=\"T_c89ec_row1_col0\" class=\"data row1 col0\" >Do nothing</td>\n",
       "      <td id=\"T_c89ec_row1_col1\" class=\"data row1 col1\" ></td>\n",
       "      <td id=\"T_c89ec_row1_col2\" class=\"data row1 col2\" ></td>\n",
       "      <td id=\"T_c89ec_row1_col3\" class=\"data row1 col3\" ></td>\n",
       "      <td id=\"T_c89ec_row1_col4\" class=\"data row1 col4\" ></td>\n",
       "      <td id=\"T_c89ec_row1_col5\" class=\"data row1 col5\" ></td>\n",
       "      <td id=\"T_c89ec_row1_col6\" class=\"data row1 col6\" ></td>\n",
       "      <td id=\"T_c89ec_row1_col7\" class=\"data row1 col7\" ></td>\n",
       "      <td id=\"T_c89ec_row1_col8\" class=\"data row1 col8\" ></td>\n",
       "      <td id=\"T_c89ec_row1_col9\" class=\"data row1 col9\" ></td>\n",
       "      <td id=\"T_c89ec_row1_col10\" class=\"data row1 col10\" ></td>\n",
       "      <td id=\"T_c89ec_row1_col11\" class=\"data row1 col11\" ></td>\n",
       "    </tr>\n",
       "    <tr>\n",
       "      <th id=\"T_c89ec_level0_row2\" class=\"row_heading level0 row2\" >Next State</th>\n",
       "      <td id=\"T_c89ec_row2_col0\" class=\"data row2 col0\" ></td>\n",
       "      <td id=\"T_c89ec_row2_col1\" class=\"data row2 col1\" >0.001970</td>\n",
       "      <td id=\"T_c89ec_row2_col2\" class=\"data row2 col2\" >1.427418</td>\n",
       "      <td id=\"T_c89ec_row2_col3\" class=\"data row2 col3\" >0.099604</td>\n",
       "      <td id=\"T_c89ec_row2_col4\" class=\"data row2 col4\" >0.353774</td>\n",
       "      <td id=\"T_c89ec_row2_col5\" class=\"data row2 col5\" >-0.002251</td>\n",
       "      <td id=\"T_c89ec_row2_col6\" class=\"data row2 col6\" >-0.022327</td>\n",
       "      <td id=\"T_c89ec_row2_col7\" class=\"data row2 col7\" >False</td>\n",
       "      <td id=\"T_c89ec_row2_col8\" class=\"data row2 col8\" >False</td>\n",
       "      <td id=\"T_c89ec_row2_col9\" class=\"data row2 col9\" >1.427420</td>\n",
       "      <td id=\"T_c89ec_row2_col10\" class=\"data row2 col10\" >0.367528</td>\n",
       "      <td id=\"T_c89ec_row2_col11\" class=\"data row2 col11\" >0.002251</td>\n",
       "    </tr>\n",
       "    <tr>\n",
       "      <th id=\"T_c89ec_level0_row3\" class=\"row_heading level0 row3\" >Reward</th>\n",
       "      <td id=\"T_c89ec_row3_col0\" class=\"data row3 col0\" >1.576546</td>\n",
       "      <td id=\"T_c89ec_row3_col1\" class=\"data row3 col1\" ></td>\n",
       "      <td id=\"T_c89ec_row3_col2\" class=\"data row3 col2\" ></td>\n",
       "      <td id=\"T_c89ec_row3_col3\" class=\"data row3 col3\" ></td>\n",
       "      <td id=\"T_c89ec_row3_col4\" class=\"data row3 col4\" ></td>\n",
       "      <td id=\"T_c89ec_row3_col5\" class=\"data row3 col5\" ></td>\n",
       "      <td id=\"T_c89ec_row3_col6\" class=\"data row3 col6\" ></td>\n",
       "      <td id=\"T_c89ec_row3_col7\" class=\"data row3 col7\" ></td>\n",
       "      <td id=\"T_c89ec_row3_col8\" class=\"data row3 col8\" ></td>\n",
       "      <td id=\"T_c89ec_row3_col9\" class=\"data row3 col9\" ></td>\n",
       "      <td id=\"T_c89ec_row3_col10\" class=\"data row3 col10\" ></td>\n",
       "      <td id=\"T_c89ec_row3_col11\" class=\"data row3 col11\" ></td>\n",
       "    </tr>\n",
       "    <tr>\n",
       "      <th id=\"T_c89ec_level0_row4\" class=\"row_heading level0 row4\" >Episode Terminated</th>\n",
       "      <td id=\"T_c89ec_row4_col0\" class=\"data row4 col0\" >False</td>\n",
       "      <td id=\"T_c89ec_row4_col1\" class=\"data row4 col1\" ></td>\n",
       "      <td id=\"T_c89ec_row4_col2\" class=\"data row4 col2\" ></td>\n",
       "      <td id=\"T_c89ec_row4_col3\" class=\"data row4 col3\" ></td>\n",
       "      <td id=\"T_c89ec_row4_col4\" class=\"data row4 col4\" ></td>\n",
       "      <td id=\"T_c89ec_row4_col5\" class=\"data row4 col5\" ></td>\n",
       "      <td id=\"T_c89ec_row4_col6\" class=\"data row4 col6\" ></td>\n",
       "      <td id=\"T_c89ec_row4_col7\" class=\"data row4 col7\" ></td>\n",
       "      <td id=\"T_c89ec_row4_col8\" class=\"data row4 col8\" ></td>\n",
       "      <td id=\"T_c89ec_row4_col9\" class=\"data row4 col9\" ></td>\n",
       "      <td id=\"T_c89ec_row4_col10\" class=\"data row4 col10\" ></td>\n",
       "      <td id=\"T_c89ec_row4_col11\" class=\"data row4 col11\" ></td>\n",
       "    </tr>\n",
       "  </tbody>\n",
       "</table>\n"
      ],
      "text/plain": [
       "<pandas.io.formats.style.Styler at 0x7f95743425c0>"
      ]
     },
     "metadata": {},
     "output_type": "display_data"
    }
   ],
   "source": [
    "# Select an action\n",
    "action = 0\n",
    "\n",
    "# Run a single time step of the environment's dynamics with the given action.\n",
    "next_state, reward, done, _ = env.step(action)\n",
    "\n",
    "# Display table with values.\n",
    "utils.display_table(current_state, action, next_state, reward, done)\n",
    "\n",
    "# Replace the `current_state` with the state after the action is taken\n",
    "current_state = next_state"
   ]
  },
  {
   "cell_type": "markdown",
   "metadata": {},
   "source": [
    "In practice, when we train the agent we use a loop to allow the agent to take many consecutive actions during an episode."
   ]
  },
  {
   "cell_type": "markdown",
   "metadata": {},
   "source": [
    "<a name=\"6\"></a>\n",
    "## 6 - Deep Q-Learning\n",
    "\n",
    "In cases where both the state and action space are discrete we can estimate the action-value function iteratively by using the Bellman equation:\n",
    "\n",
    "$$\n",
    "Q_{i+1}(s,a) = R + \\gamma \\max_{a'}Q_i(s',a')\n",
    "$$\n",
    "\n",
    "This iterative method converges to the optimal action-value function $Q^*(s,a)$ as $i\\to\\infty$. This means that the agent just needs to gradually explore the state-action space and keep updating the estimate of $Q(s,a)$ until it converges to the optimal action-value function $Q^*(s,a)$. However, in cases where the state space is continuous it becomes practically impossible to explore the entire state-action space. Consequently, this also makes it practically impossible to gradually estimate $Q(s,a)$ until it converges to $Q^*(s,a)$.\n",
    "\n",
    "In the Deep $Q$-Learning, we solve this problem by using a neural network to estimate the action-value function $Q(s,a)\\approx Q^*(s,a)$. We call this neural network a $Q$-Network and it can be trained by adjusting its weights at each iteration to minimize the mean-squared error in the Bellman equation.\n",
    "\n",
    "Unfortunately, using neural networks in reinforcement learning to estimate action-value functions has proven to be highly unstable. Luckily, there's a couple of techniques that can be employed to avoid instabilities. These techniques consist of using a ***Target Network*** and ***Experience Replay***. We will explore these two techniques in the following sections."
   ]
  },
  {
   "cell_type": "markdown",
   "metadata": {},
   "source": [
    "<a name=\"6.1\"></a>\n",
    "### 6.1 Target Network\n",
    "\n",
    "We can train the $Q$-Network by adjusting it's weights at each iteration to minimize the mean-squared error in the Bellman equation, where the target values are given by:\n",
    "\n",
    "$$\n",
    "y = R + \\gamma \\max_{a'}Q(s',a';w)\n",
    "$$\n",
    "\n",
    "where $w$ are the weights of the $Q$-Network. This means that we are adjusting the weights $w$ at each iteration to minimize the following error:\n",
    "\n",
    "$$\n",
    "\\overbrace{\\underbrace{R + \\gamma \\max_{a'}Q(s',a'; w)}_{\\rm {y~target}} - Q(s,a;w)}^{\\rm {Error}}\n",
    "$$\n",
    "\n",
    "Notice that this forms a problem because the $y$ target is changing on every iteration. Having a constantly moving target can lead to oscillations and instabilities. To avoid this, we can create\n",
    "a separate neural network for generating the $y$ targets. We call this separate neural network the **target $\\hat Q$-Network** and it will have the same architecture as the original $Q$-Network. By using the target $\\hat Q$-Network, the above error becomes:\n",
    "\n",
    "$$\n",
    "\\overbrace{\\underbrace{R + \\gamma \\max_{a'}\\hat{Q}(s',a'; w^-)}_{\\rm {y~target}} - Q(s,a;w)}^{\\rm {Error}}\n",
    "$$\n",
    "\n",
    "where $w^-$ and $w$ are the weights of the target $\\hat Q$-Network and $Q$-Network, respectively.\n",
    "\n",
    "In practice, we will use the following algorithm: every $C$ time steps we will use the $\\hat Q$-Network to generate the $y$ targets and update the weights of the target $\\hat Q$-Network using the weights of the $Q$-Network. We will update the weights $w^-$ of the the target $\\hat Q$-Network using a **soft update**. This means that we will update the weights $w^-$ using the following rule:\n",
    " \n",
    "$$\n",
    "w^-\\leftarrow \\tau w + (1 - \\tau) w^-\n",
    "$$\n",
    "\n",
    "where $\\tau\\ll 1$. By using the soft update, we are ensuring that the target values, $y$, change slowly, which greatly improves the stability of our learning algorithm."
   ]
  },
  {
   "cell_type": "markdown",
   "metadata": {},
   "source": [
    "<a name=\"ex01\"></a>\n",
    "### Exercise 1\n",
    "\n",
    "In this exercise you will create the $Q$ and target $\\hat Q$ networks and set the optimizer. Remember that the Deep $Q$-Network (DQN) is a neural network that approximates the action-value function $Q(s,a)\\approx Q^*(s,a)$. It does this by learning how to map states to $Q$ values.\n",
    "\n",
    "To solve the Lunar Lander environment, we are going to employ a DQN with the following architecture:\n",
    "\n",
    "* An `Input` layer that takes `state_size` as input.\n",
    "\n",
    "* A `Dense` layer with `64` units and a `relu` activation function.\n",
    "\n",
    "* A `Dense` layer with `64` units and a `relu` activation function.\n",
    "\n",
    "* A `Dense` layer with `num_actions` units and a `linear` activation function. This will be the output layer of our network.\n",
    "\n",
    "\n",
    "In the cell below you should create the $Q$-Network and the target $\\hat Q$-Network using the model architecture described above. Remember that both the $Q$-Network and the target $\\hat Q$-Network have the same architecture.\n",
    "\n",
    "Lastly, you should set `Adam` as the optimizer with a learning rate equal to `ALPHA`. Recall that `ALPHA` was defined in the [Hyperparameters](#2) section. We should note that for this exercise you should use the already imported packages:\n",
    "```python\n",
    "from tensorflow.keras.layers import Dense, Input\n",
    "from tensorflow.keras.optimizers import Adam\n",
    "```"
   ]
  },
  {
   "cell_type": "code",
   "execution_count": 10,
   "metadata": {
    "deletable": false
   },
   "outputs": [
    {
     "name": "stderr",
     "output_type": "stream",
     "text": [
      "2024-11-15 15:48:55.495728: I tensorflow/core/platform/cpu_feature_guard.cc:193] This TensorFlow binary is optimized with oneAPI Deep Neural Network Library (oneDNN) to use the following CPU instructions in performance-critical operations:  AVX2 FMA\n",
      "To enable them in other operations, rebuild TensorFlow with the appropriate compiler flags.\n",
      "/usr/lib/python3.10/random.py:370: DeprecationWarning: non-integer arguments to randrange() have been deprecated since Python 3.10 and will be removed in a subsequent version\n",
      "  return self.randrange(a, b+1)\n"
     ]
    }
   ],
   "source": [
    "# UNQ_C1\n",
    "# GRADED CELL\n",
    "\n",
    "# Create the Q-Network\n",
    "q_network = Sequential([\n",
    "    ### START CODE HERE ### \n",
    "    Input(shape=state_size),\n",
    "    Dense(64, activation='relu'),\n",
    "    Dense(64, activation='relu'),\n",
    "    Dense(num_actions)\n",
    "    ### END CODE HERE ### \n",
    "])\n",
    "\n",
    "# Create the target Q^-Network\n",
    "target_q_network = Sequential([\n",
    "    ### START CODE HERE ### \n",
    "    Input(shape=state_size),\n",
    "    Dense(64, activation='relu'),\n",
    "    Dense(64, activation='relu'),\n",
    "    Dense(num_actions)\n",
    "    ### END CODE HERE ###\n",
    "])\n",
    "\n",
    "### START CODE HERE ### \n",
    "optimizer = Adam(learning_rate=ALPHA)\n",
    "### END CODE HERE ###"
   ]
  },
  {
   "cell_type": "code",
   "execution_count": 11,
   "metadata": {
    "deletable": false,
    "editable": false
   },
   "outputs": [
    {
     "name": "stdout",
     "output_type": "stream",
     "text": [
      "\u001b[92mAll tests passed!\n",
      "\u001b[92mAll tests passed!\n",
      "\u001b[92mAll tests passed!\n"
     ]
    }
   ],
   "source": [
    "# UNIT TEST\n",
    "from public_tests import *\n",
    "\n",
    "test_network(q_network)\n",
    "test_network(target_q_network)\n",
    "test_optimizer(optimizer, ALPHA) "
   ]
  },
  {
   "cell_type": "markdown",
   "metadata": {},
   "source": [
    "<details>\n",
    "  <summary><font size=\"3\" color=\"darkgreen\"><b>Click for hints</b></font></summary>\n",
    "    \n",
    "```python\n",
    "# Create the Q-Network\n",
    "q_network = Sequential([\n",
    "    Input(shape=state_size),                      \n",
    "    Dense(units=64, activation='relu'),            \n",
    "    Dense(units=64, activation='relu'),            \n",
    "    Dense(units=num_actions, activation='linear'),\n",
    "    ])\n",
    "\n",
    "# Create the target Q^-Network\n",
    "target_q_network = Sequential([\n",
    "    Input(shape=state_size),                       \n",
    "    Dense(units=64, activation='relu'),            \n",
    "    Dense(units=64, activation='relu'),            \n",
    "    Dense(units=num_actions, activation='linear'), \n",
    "    ])\n",
    "\n",
    "optimizer = Adam(learning_rate=ALPHA)                                  \n",
    "``` "
   ]
  },
  {
   "cell_type": "markdown",
   "metadata": {},
   "source": [
    "<a name=\"6.2\"></a>\n",
    "### 6.2 Experience Replay\n",
    "\n",
    "When an agent interacts with the environment, the states, actions, and rewards the agent experiences are sequential by nature. If the agent tries to learn from these consecutive experiences it can run into problems due to the strong correlations between them. To avoid this, we employ a technique known as **Experience Replay** to generate uncorrelated experiences for training our agent. Experience replay consists of storing the agent's experiences (i.e the states, actions, and rewards the agent receives) in a memory buffer and then sampling a random mini-batch of experiences from the buffer to do the learning. The experience tuples $(S_t, A_t, R_t, S_{t+1})$ will be added to the memory buffer at each time step as the agent interacts with the environment.\n",
    "\n",
    "For convenience, we will store the experiences as named tuples."
   ]
  },
  {
   "cell_type": "code",
   "execution_count": 12,
   "metadata": {
    "deletable": false,
    "editable": false
   },
   "outputs": [],
   "source": [
    "# Store experiences as named tuples\n",
    "experience = namedtuple(\"Experience\", field_names=[\"state\", \"action\", \"reward\", \"next_state\", \"done\"])"
   ]
  },
  {
   "cell_type": "markdown",
   "metadata": {},
   "source": [
    "By using experience replay we avoid problematic correlations, oscillations and instabilities. In addition, experience replay also allows the agent to potentially use the same experience in multiple weight updates, which increases data efficiency."
   ]
  },
  {
   "cell_type": "markdown",
   "metadata": {},
   "source": [
    "<a name=\"7\"></a>\n",
    "## 7 - Deep Q-Learning Algorithm with Experience Replay\n",
    "\n",
    "Now that we know all the techniques that we are going to use, we can put them together to arrive at the Deep Q-Learning Algorithm With Experience Replay.\n",
    "<br>\n",
    "<br>\n",
    "<figure>\n",
    "  <img src = \"./images/C3_W3_A1_DeepQLearning.png\" width = 90% style = \"border: thin silver solid; padding: 0px\">\n",
    "      <figcaption style = \"text-align: center; font-style: italic\">Fig 3. Deep Q-Learning with Experience Replay.</figcaption>\n",
    "</figure>"
   ]
  },
  {
   "cell_type": "markdown",
   "metadata": {},
   "source": [
    "<a name=\"ex02\"></a>\n",
    "### Exercise 2\n",
    "\n",
    "In this exercise you will implement line ***12*** of the algorithm outlined in *Fig 3* above and you will also compute the loss between the $y$ targets and the $Q(s,a)$ values. In the cell below, complete the `compute_loss` function by setting the $y$ targets equal to:\n",
    "\n",
    "$$\n",
    "\\begin{equation}\n",
    "    y_j =\n",
    "    \\begin{cases}\n",
    "      R_j & \\text{if episode terminates at step  } j+1\\\\\n",
    "      R_j + \\gamma \\max_{a'}\\hat{Q}(s_{j+1},a') & \\text{otherwise}\\\\\n",
    "    \\end{cases}       \n",
    "\\end{equation}\n",
    "$$\n",
    "\n",
    "Here are a couple of things to note:\n",
    "\n",
    "* The `compute_loss` function takes in a mini-batch of experience tuples. This mini-batch of experience tuples is unpacked to extract the `states`, `actions`, `rewards`, `next_states`, and `done_vals`. You should keep in mind that these variables are *TensorFlow Tensors* whose size will depend on the mini-batch size. For example, if the mini-batch size is `64` then both `rewards` and `done_vals` will be TensorFlow Tensors with `64` elements.\n",
    "\n",
    "\n",
    "* Using `if/else` statements to set the $y$ targets will not work when the variables are tensors with many elements. However, notice that you can use the `done_vals` to implement the above in a single line of code. To do this, recall that the `done` variable is a Boolean variable that takes the value `True` when an episode terminates at step $j+1$ and it is `False` otherwise. Taking into account that a Boolean value of `True` has the numerical value of `1` and a Boolean value of `False` has the numerical value of `0`, you can use the factor `(1 - done_vals)` to implement the above in a single line of code. Here's a hint: notice that `(1 - done_vals)` has a value of `0` when `done_vals` is `True` and a value of `1` when `done_vals` is `False`. \n",
    "\n",
    "Lastly, compute the loss by calculating the Mean-Squared Error (`MSE`) between the `y_targets` and the `q_values`. To calculate the mean-squared error you should use the already imported package `MSE`:\n",
    "```python\n",
    "from tensorflow.keras.losses import MSE\n",
    "```"
   ]
  },
  {
   "cell_type": "code",
   "execution_count": 13,
   "metadata": {
    "deletable": false
   },
   "outputs": [],
   "source": [
    "# UNQ_C2\n",
    "# GRADED FUNCTION: calculate_loss\n",
    "\n",
    "def compute_loss(experiences, gamma, q_network, target_q_network):\n",
    "    \"\"\" \n",
    "    Calculates the loss.\n",
    "    \n",
    "    Args:\n",
    "      experiences: (tuple) tuple of [\"state\", \"action\", \"reward\", \"next_state\", \"done\"] namedtuples\n",
    "      gamma: (float) The discount factor.\n",
    "      q_network: (tf.keras.Sequential) Keras model for predicting the q_values\n",
    "      target_q_network: (tf.keras.Sequential) Keras model for predicting the targets\n",
    "          \n",
    "    Returns:\n",
    "      loss: (TensorFlow Tensor(shape=(0,), dtype=int32)) the Mean-Squared Error between\n",
    "            the y targets and the Q(s,a) values.\n",
    "    \"\"\"\n",
    "\n",
    "    # Unpack the mini-batch of experience tuples\n",
    "    states, actions, rewards, next_states, done_vals = experiences\n",
    "    \n",
    "    # Compute max Q^(s,a)\n",
    "    max_qsa = tf.reduce_max(target_q_network(next_states), axis=-1)\n",
    "    \n",
    "    # Set y = R if episode terminates, otherwise set y = R + γ max Q^(s,a).\n",
    "    ### START CODE HERE ### \n",
    "    y_targets = rewards + (1 - done_vals) * gamma * max_qsa\n",
    "    ### END CODE HERE ###\n",
    "    \n",
    "    # Get the q_values and reshape to match y_targets\n",
    "    q_values = q_network(states)\n",
    "    q_values = tf.gather_nd(q_values, tf.stack([tf.range(q_values.shape[0]),\n",
    "                                                tf.cast(actions, tf.int32)], axis=1))\n",
    "        \n",
    "    # Compute the loss\n",
    "    ### START CODE HERE ### \n",
    "    loss = MSE(y_targets, q_values)\n",
    "    ### END CODE HERE ### \n",
    "    \n",
    "    return loss"
   ]
  },
  {
   "cell_type": "code",
   "execution_count": 14,
   "metadata": {
    "deletable": false,
    "editable": false
   },
   "outputs": [
    {
     "name": "stdout",
     "output_type": "stream",
     "text": [
      "\u001b[92mAll tests passed!\n"
     ]
    }
   ],
   "source": [
    "# UNIT TEST    \n",
    "test_compute_loss(compute_loss)"
   ]
  },
  {
   "cell_type": "markdown",
   "metadata": {},
   "source": [
    "<details>\n",
    "  <summary><font size=\"3\" color=\"darkgreen\"><b>Click for hints</b></font></summary>\n",
    "    \n",
    "```python\n",
    "def compute_loss(experiences, gamma, q_network, target_q_network):\n",
    "    \"\"\" \n",
    "    Calculates the loss.\n",
    "    \n",
    "    Args:\n",
    "      experiences: (tuple) tuple of [\"state\", \"action\", \"reward\", \"next_state\", \"done\"] namedtuples\n",
    "      gamma: (float) The discount factor.\n",
    "      q_network: (tf.keras.Sequential) Keras model for predicting the q_values\n",
    "      target_q_network: (tf.keras.Sequential) Keras model for predicting the targets\n",
    "          \n",
    "    Returns:\n",
    "      loss: (TensorFlow Tensor(shape=(0,), dtype=int32)) the Mean-Squared Error between\n",
    "            the y targets and the Q(s,a) values.\n",
    "    \"\"\"\n",
    "\n",
    "    \n",
    "    # Unpack the mini-batch of experience tuples\n",
    "    states, actions, rewards, next_states, done_vals = experiences\n",
    "    \n",
    "    # Compute max Q^(s,a)\n",
    "    max_qsa = tf.reduce_max(target_q_network(next_states), axis=-1)\n",
    "    \n",
    "    # Set y = R if episode terminates, otherwise set y = R + γ max Q^(s,a).\n",
    "    y_targets = rewards + (gamma * max_qsa * (1 - done_vals))\n",
    "    \n",
    "    # Get the q_values\n",
    "    q_values = q_network(states)\n",
    "    q_values = tf.gather_nd(q_values, tf.stack([tf.range(q_values.shape[0]),\n",
    "                                                tf.cast(actions, tf.int32)], axis=1))\n",
    "    \n",
    "    # Calculate the loss\n",
    "    loss = MSE(y_targets, q_values)\n",
    "    \n",
    "    return loss\n",
    "\n",
    "``` \n",
    "    "
   ]
  },
  {
   "cell_type": "markdown",
   "metadata": {},
   "source": [
    "<a name=\"8\"></a>\n",
    "## 8 - Update the Network Weights\n",
    "\n",
    "We will use the `agent_learn` function below to implement lines ***12 -14*** of the algorithm outlined in [Fig 3](#7). The `agent_learn` function will update the weights of the $Q$ and target $\\hat Q$ networks using a custom training loop. Because we are using a custom training loop we need to retrieve the gradients via a `tf.GradientTape` instance, and then call `optimizer.apply_gradients()` to update the weights of our $Q$-Network. Note that we are also using the `@tf.function` decorator to increase performance. Without this decorator our training will take twice as long. If you would like to know more about how to increase performance with `@tf.function` take a look at the [TensorFlow documentation](https://www.tensorflow.org/guide/function).\n",
    "\n",
    "The last line of this function updates the weights of the target $\\hat Q$-Network using a [soft update](#6.1). If you want to know how this is implemented in code we encourage you to take a look at the `utils.update_target_network` function in the `utils` module."
   ]
  },
  {
   "cell_type": "code",
   "execution_count": 15,
   "metadata": {
    "deletable": false,
    "editable": false
   },
   "outputs": [],
   "source": [
    "@tf.function\n",
    "def agent_learn(experiences, gamma):\n",
    "    \"\"\"\n",
    "    Updates the weights of the Q networks.\n",
    "    \n",
    "    Args:\n",
    "      experiences: (tuple) tuple of [\"state\", \"action\", \"reward\", \"next_state\", \"done\"] namedtuples\n",
    "      gamma: (float) The discount factor.\n",
    "    \n",
    "    \"\"\"\n",
    "    \n",
    "    # Calculate the loss\n",
    "    with tf.GradientTape() as tape:\n",
    "        loss = compute_loss(experiences, gamma, q_network, target_q_network)\n",
    "\n",
    "    # Get the gradients of the loss with respect to the weights.\n",
    "    gradients = tape.gradient(loss, q_network.trainable_variables)\n",
    "    \n",
    "    # Update the weights of the q_network.\n",
    "    optimizer.apply_gradients(zip(gradients, q_network.trainable_variables))\n",
    "\n",
    "    # update the weights of target q_network\n",
    "    utils.update_target_network(q_network, target_q_network)"
   ]
  },
  {
   "cell_type": "markdown",
   "metadata": {},
   "source": [
    "<a name=\"9\"></a>\n",
    "## 9 - Train the Agent\n",
    "\n",
    "We are now ready to train our agent to solve the Lunar Lander environment. In the cell below we will implement the algorithm in [Fig 3](#7) line by line (please note that we have included the same algorithm below for easy reference. This will prevent you from scrolling up and down the notebook):\n",
    "\n",
    "* **Line 1**: We initialize the `memory_buffer` with a capacity of $N =$ `MEMORY_SIZE`. Notice that we are using a `deque` as the data structure for our `memory_buffer`.\n",
    "\n",
    "\n",
    "* **Line 2**: We skip this line since we already initialized the `q_network` in [Exercise 1](#ex01).\n",
    "\n",
    "\n",
    "* **Line 3**: We initialize the `target_q_network` by setting its weights to be equal to those of the `q_network`.\n",
    "\n",
    "\n",
    "* **Line 4**: We start the outer loop. Notice that we have set $M =$ `num_episodes = 2000`. This number is reasonable because the agent should be able to solve the Lunar Lander environment in less than `2000` episodes using this notebook's default parameters.\n",
    "\n",
    "\n",
    "* **Line 5**: We use the `.reset()` method to reset the environment to the initial state and get the initial state.\n",
    "\n",
    "\n",
    "* **Line 6**: We start the inner loop. Notice that we have set $T =$ `max_num_timesteps = 1000`. This means that the episode will automatically terminate if the episode hasn't terminated after `1000` time steps.\n",
    "\n",
    "\n",
    "* **Line 7**: The agent observes the current `state` and chooses an `action` using an $\\epsilon$-greedy policy. Our agent starts out using a value of $\\epsilon =$ `epsilon = 1` which yields an $\\epsilon$-greedy policy that is equivalent to the equiprobable random policy. This means that at the beginning of our training, the agent is just going to take random actions regardless of the observed `state`. As training progresses we will decrease the value of $\\epsilon$ slowly towards a minimum value using a given $\\epsilon$-decay rate. We want this minimum value to be close to zero because a value of $\\epsilon = 0$ will yield an $\\epsilon$-greedy policy that is equivalent to the greedy policy. This means that towards the end of training, the agent will lean towards selecting the `action` that it believes (based on its past experiences) will maximize $Q(s,a)$. We will set the minimum $\\epsilon$ value to be `0.01` and not exactly 0 because we always want to keep a little bit of exploration during training. If you want to know how this is implemented in code we encourage you to take a look at the `utils.get_action` function in the `utils` module.\n",
    "\n",
    "\n",
    "* **Line 8**: We use the `.step()` method to take the given `action` in the environment and get the `reward` and the `next_state`. \n",
    "\n",
    "\n",
    "* **Line 9**: We store the `experience(state, action, reward, next_state, done)` tuple in our `memory_buffer`. Notice that we also store the `done` variable so that we can keep track of when an episode terminates. This allowed us to set the $y$ targets in [Exercise 2](#ex02).\n",
    "\n",
    "\n",
    "* **Line 10**: We check if the conditions are met to perform a learning update. We do this by using our custom `utils.check_update_conditions` function. This function checks if $C =$ `NUM_STEPS_FOR_UPDATE = 4` time steps have occured and if our `memory_buffer` has enough experience tuples to fill a mini-batch. For example, if the mini-batch size is `64`, then our `memory_buffer` should have more than `64` experience tuples in order to pass the latter condition. If the conditions are met, then the `utils.check_update_conditions` function will return a value of `True`, otherwise it will return a value of `False`.\n",
    "\n",
    "\n",
    "* **Lines 11 - 14**: If the `update` variable is `True` then we perform a learning update. The learning update consists of sampling a random mini-batch of experience tuples from our `memory_buffer`, setting the $y$ targets, performing gradient descent, and updating the weights of the networks. We will use the `agent_learn` function we defined in [Section 8](#8) to perform the latter 3.\n",
    "\n",
    "\n",
    "* **Line 15**: At the end of each iteration of the inner loop we set `next_state` as our new `state` so that the loop can start again from this new state. In addition, we check if the episode has reached a terminal state (i.e we check if `done = True`). If a terminal state has been reached, then we break out of the inner loop.\n",
    "\n",
    "\n",
    "* **Line 16**: At the end of each iteration of the outer loop we update the value of $\\epsilon$, and check if the environment has been solved. We consider that the environment has been solved if the agent receives an average of `200` points in the last `100` episodes. If the environment has not been solved we continue the outer loop and start a new episode.\n",
    "\n",
    "Finally, we wanted to note that we have included some extra variables to keep track of the total number of points the agent received in each episode. This will help us determine if the agent has solved the environment and it will also allow us to see how our agent performed during training. We also use the `time` module to measure how long the training takes. \n",
    "\n",
    "<br>\n",
    "<br>\n",
    "<figure>\n",
    "  <img src = \"./images/C3_W3_A1_DeepQLearning.png\" width = 90% style = \"border: thin silver solid; padding: 0px\">\n",
    "      <figcaption style = \"text-align: center; font-style: italic\">Fig 4. Deep Q-Learning with Experience Replay.</figcaption>\n",
    "</figure>\n",
    "<br>\n",
    "\n",
    "**Note:** With this notebook's default parameters, the following cell takes between 10 to 15 minutes to run. "
   ]
  },
  {
   "cell_type": "code",
   "execution_count": 16,
   "metadata": {
    "deletable": false
   },
   "outputs": [
    {
     "name": "stdout",
     "output_type": "stream",
     "text": [
      "Episode 100 | Total point average of the last 100 episodes: -145.99\n",
      "Episode 200 | Total point average of the last 100 episodes: -92.405\n",
      "Episode 300 | Total point average of the last 100 episodes: -43.57\n",
      "Episode 400 | Total point average of the last 100 episodes: 79.879\n",
      "Episode 500 | Total point average of the last 100 episodes: 172.04\n",
      "Episode 600 | Total point average of the last 100 episodes: 223.97\n",
      "Episode 700 | Total point average of the last 100 episodes: 239.12\n",
      "Episode 800 | Total point average of the last 100 episodes: 251.79\n",
      "Episode 900 | Total point average of the last 100 episodes: 212.56\n",
      "Episode 1000 | Total point average of the last 100 episodes: 223.96\n",
      "WARNING:tensorflow:Compiled the loaded model, but the compiled metrics have yet to be built. `model.compile_metrics` will be empty until you train or evaluate the model.\n",
      "\n",
      "Total Runtime: 772.33 s (12.87 min)\n"
     ]
    }
   ],
   "source": [
    "start = time.time()\n",
    "\n",
    "num_episodes = 2000\n",
    "max_num_timesteps = 1000\n",
    "\n",
    "total_point_history = []\n",
    "\n",
    "num_p_av = 100    # number of total points to use for averaging\n",
    "epsilon = 1.0     # initial ε value for ε-greedy policy\n",
    "\n",
    "# Create a memory buffer D with capacity N\n",
    "memory_buffer = deque(maxlen=MEMORY_SIZE)\n",
    "\n",
    "# Set the target network weights equal to the Q-Network weights\n",
    "target_q_network.set_weights(q_network.get_weights())\n",
    "\n",
    "for i in range(num_episodes):\n",
    "    \n",
    "    # Reset the environment to the initial state and get the initial state\n",
    "    state = env.reset()\n",
    "    total_points = 0\n",
    "    \n",
    "    for t in range(max_num_timesteps):\n",
    "        \n",
    "        # From the current state S choose an action A using an ε-greedy policy\n",
    "        state_qn = np.expand_dims(state, axis=0)  # state needs to be the right shape for the q_network\n",
    "        q_values = q_network(state_qn)\n",
    "        action = utils.get_action(q_values, epsilon)\n",
    "        \n",
    "        # Take action A and receive reward R and the next state S'\n",
    "        next_state, reward, done, _ = env.step(action)\n",
    "        \n",
    "        # Store experience tuple (S,A,R,S') in the memory buffer.\n",
    "        # We store the done variable as well for convenience.\n",
    "        memory_buffer.append(experience(state, action, reward, next_state, done))\n",
    "        \n",
    "        # Only update the network every NUM_STEPS_FOR_UPDATE time steps.\n",
    "        update = utils.check_update_conditions(t, NUM_STEPS_FOR_UPDATE, memory_buffer)\n",
    "        \n",
    "        if update:\n",
    "            # Sample random mini-batch of experience tuples (S,A,R,S') from D\n",
    "            experiences = utils.get_experiences(memory_buffer)\n",
    "            \n",
    "            # Set the y targets, perform a gradient descent step,\n",
    "            # and update the network weights.\n",
    "            agent_learn(experiences, GAMMA)\n",
    "        \n",
    "        state = next_state.copy()\n",
    "        total_points += reward\n",
    "        \n",
    "        if done:\n",
    "            break\n",
    "            \n",
    "    total_point_history.append(total_points)\n",
    "    av_latest_points = np.mean(total_point_history[-num_p_av:])\n",
    "    \n",
    "    # Update the ε value\n",
    "    epsilon = utils.get_new_eps(epsilon)\n",
    "\n",
    "    print(f\"\\rEpisode {i+1} | Total point average of the last {num_p_av} episodes: {av_latest_points:.2f}\", end=\"\")\n",
    "\n",
    "    if (i+1) % num_p_av == 0:\n",
    "        print(f\"\\rEpisode {i+1} | Total point average of the last {num_p_av} episodes: {av_latest_points:.2f}\")\n",
    "\n",
    "    # We will consider that the environment is solved if we get an\n",
    "    # average of 200 points in the last 100 episodes.\n",
    "    #if av_latest_points >= 200.0:\n",
    "        #print(f\"\\n\\nEnvironment solved in {i+1} episodes!\")\n",
    "        #q_network.save('lunar_lander_model.h5')\n",
    "        #break\n",
    "        \n",
    "tot_time = time.time() - start\n",
    "q_network.save('lunar_lander_model.h5')\n",
    "print(f\"\\nTotal Runtime: {tot_time:.2f} s ({(tot_time/60):.2f} min)\")"
   ]
  },
  {
   "cell_type": "markdown",
   "metadata": {},
   "source": [
    "We can plot the total point history along with the moving average to see how our agent improved during training. If you want to know about the different plotting options available in the `utils.plot_history` function we encourage you to take a look at the `utils` module."
   ]
  },
  {
   "cell_type": "code",
   "execution_count": 17,
   "metadata": {
    "deletable": false,
    "editable": false,
    "id": "E_EUXxurfe8m"
   },
   "outputs": [
    {
     "data": {
      "image/png": "[encoded data removed]",
      "text/plain": [
       "<Figure size 1000x700 with 1 Axes>"
      ]
     },
     "metadata": {},
     "output_type": "display_data"
    }
   ],
   "source": [
    "# Plot the total point history along with the moving average\n",
    "utils.plot_history(total_point_history)"
   ]
  },
  {
   "cell_type": "markdown",
   "metadata": {
    "id": "c_xwgaX5MnYt"
   },
   "source": [
    "<a name=\"10\"></a>\n",
    "## 10 - See the Trained Agent In Action\n",
    "\n",
    "Now that we have trained our agent, we can see it in action. We will use the `utils.create_video` function to create a video of our agent interacting with the environment using the trained $Q$-Network. The `utils.create_video` function uses the `imageio` library to create the video. This library produces some warnings that can be distracting, so, to suppress these warnings we run the code below."
   ]
  },
  {
   "cell_type": "code",
   "execution_count": 18,
   "metadata": {
    "deletable": false,
    "editable": false
   },
   "outputs": [],
   "source": [
    "# Suppress warnings from imageio\n",
    "import logging\n",
    "logging.getLogger().setLevel(logging.ERROR)"
   ]
  },
  {
   "cell_type": "markdown",
   "metadata": {},
   "source": [
    "In the cell below we create a video of our agent interacting with the Lunar Lander environment using the trained `q_network`. The video is saved to the `videos` folder with the given `filename`. We use the `utils.embed_mp4` function to embed the video in the Jupyter Notebook so that we can see it here directly without having to download it.\n",
    "\n",
    "We should note that since the lunar lander starts with a random initial force applied to its center of mass, every time you run the cell below you will see a different video. If the agent was trained properly, it should be able to land the lunar lander in the landing pad every time, regardless of the initial force applied to its center of mass."
   ]
  },
  {
   "cell_type": "code",
   "execution_count": 19,
   "metadata": {},
   "outputs": [
    {
     "name": "stdout",
     "output_type": "stream",
     "text": [
      "Defaulting to user installation because normal site-packages is not writeable\n",
      "Requirement already satisfied: imageio-ffmpeg in /home/hope1300/.local/lib/python3.10/site-packages (0.5.1)\n",
      "Requirement already satisfied: setuptools in /usr/lib/python3/dist-packages (from imageio-ffmpeg) (59.6.0)\n",
      "\n",
      "\u001b[1m[\u001b[0m\u001b[34;49mnotice\u001b[0m\u001b[1;39;49m]\u001b[0m\u001b[39;49m A new release of pip is available: \u001b[0m\u001b[31;49m23.3\u001b[0m\u001b[39;49m -> \u001b[0m\u001b[32;49m24.3.1\u001b[0m\n",
      "\u001b[1m[\u001b[0m\u001b[34;49mnotice\u001b[0m\u001b[1;39;49m]\u001b[0m\u001b[39;49m To update, run: \u001b[0m\u001b[32;49m/usr/bin/python3 -m pip install --upgrade pip\u001b[0m\n",
      "Note: you may need to restart the kernel to use updated packages.\n"
     ]
    }
   ],
   "source": [
    "%pip install imageio-ffmpeg"
   ]
  },
  {
   "cell_type": "code",
   "execution_count": 20,
   "metadata": {
    "deletable": false,
    "id": "3Ttb_zLeJKiG"
   },
   "outputs": [
    {
     "name": "stderr",
     "output_type": "stream",
     "text": [
      "/home/hope1300/.local/lib/python3.10/site-packages/gym/core.py:43: DeprecationWarning: \u001b[33mWARN: The argument mode in render method is deprecated; use render_mode during environment initialization instead.\n",
      "See here for more information: https://www.gymlibrary.ml/content/api/\u001b[0m\n",
      "  deprecation(\n",
      "[swscaler @ 0x419a3e40] Warning: data is not aligned! This can lead to a speed loss\n"
     ]
    },
    {
     "data": {
      "text/html": [
       "\n",
       "    <video width=\"840\" height=\"480\" controls>\n",
       "    <source src=\"data:video/mp4;base64,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\" type=\"video/mp4\">\n",
       "    Your browser does not support the video tag.\n",
       "    </video>"
      ],
      "text/plain": [
       "<IPython.core.display.HTML object>"
      ]
     },
     "execution_count": 20,
     "metadata": {},
     "output_type": "execute_result"
    }
   ],
   "source": [
    "filename = \"./videos/lunar_lander2000.mp4\"\n",
    "\n",
    "utils.create_video(filename, env, q_network)\n",
    "utils.embed_mp4(filename)"
   ]
  },
  {
   "cell_type": "markdown",
   "metadata": {},
   "source": [
    "<a name=\"11\"></a>\n",
    "## 11 - Congratulations!\n",
    "\n",
    "You have successfully used Deep Q-Learning with Experience Replay to train an agent to land a lunar lander safely on a landing pad on the surface of the moon. Congratulations!"
   ]
  },
  {
   "cell_type": "markdown",
   "metadata": {},
   "source": [
    "<a name=\"12\"></a>\n",
    "## 12 - References\n",
    "\n",
    "If you would like to learn more about Deep Q-Learning, we recommend you check out the following papers.\n",
    "\n",
    "\n",
    "* Mnih, V., Kavukcuoglu, K., Silver, D. et al. Human-level control through deep reinforcement learning. Nature 518, 529–533 (2015).\n",
    "\n",
    "\n",
    "* Lillicrap, T. P., Hunt, J. J., Pritzel, A., et al. Continuous Control with Deep Reinforcement Learning. ICLR (2016).\n",
    "\n",
    "\n",
    "* Mnih, V., Kavukcuoglu, K., Silver, D. et al. Playing Atari with Deep Reinforcement Learning. arXiv e-prints.  arXiv:1312.5602 (2013)."
   ]
  },
  {
   "cell_type": "markdown",
   "metadata": {},
   "source": [
    "<details>\n",
    "  <summary><font size=\"2\" color=\"darkgreen\"><b>Please click here if you want to experiment with any of the non-graded code.</b></font></summary>\n",
    "    <p><i><b>Important Note: Please only do this when you've already passed the assignment to avoid problems with the autograder.</b></i>\n",
    "    <ol>\n",
    "        <li> On the notebook’s menu, click “View” > “Cell Toolbar” > “Edit Metadata”</li>\n",
    "        <li> Hit the “Edit Metadata” button next to the code cell which you want to lock/unlock</li>\n",
    "        <li> Set the attribute value for “editable” to:\n",
    "            <ul>\n",
    "                <li> “true” if you want to unlock it </li>\n",
    "                <li> “false” if you want to lock it </li>\n",
    "            </ul>\n",
    "        </li>\n",
    "        <li> On the notebook’s menu, click “View” > “Cell Toolbar” > “None” </li>\n",
    "    </ol>\n",
    "    <p> Here's a short demo of how to do the steps above: \n",
    "        <br>\n",
    "        <img src=\"./images/unlock_cells.gif\" align=\"center\" alt=\"unlock_cells.gif\">\n",
    "</details>"
   ]
  }
 ],
 "metadata": {
  "accelerator": "GPU",
  "colab": {
   "collapsed_sections": [],
   "name": "TensorFlow - Lunar Lander.ipynb",
   "provenance": []
  },
  "kernelspec": {
   "display_name": "Python 3 (ipykernel)",
   "language": "python",
   "name": "python3"
  },
  "language_info": {
   "codemirror_mode": {
    "name": "ipython",
    "version": 3
   },
   "file_extension": ".py",
   "mimetype": "text/x-python",
   "name": "python",
   "nbconvert_exporter": "python",
   "pygments_lexer": "ipython3",
   "version": "3.10.12"
  }
 },
 "nbformat": 4,
 "nbformat_minor": 4
}
