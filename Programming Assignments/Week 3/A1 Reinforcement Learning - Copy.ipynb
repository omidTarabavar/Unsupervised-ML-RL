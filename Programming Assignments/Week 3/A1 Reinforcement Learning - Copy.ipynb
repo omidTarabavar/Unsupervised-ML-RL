{
 "cells": [
  {
   "cell_type": "markdown",
   "metadata": {},
   "source": [
    "# Deep Q-Learning - Lunar Lander\n",
    "\n",
    "In this assignment, you will train an agent to land a lunar lander safely on a landing pad on the surface of the moon.\n",
    "\n",
    "\n",
    "# Outline\n",
    "- [ 1 - Import Packages](#1) <img align=\"Right\" src=\"./images/C3_W3_A1_LunarLander.gif\" width = 60% >\n",
    "- [ 2 - Hyperparameters](#2)\n",
    "- [ 3 - The Lunar Lander Environment](#3)\n",
    "  - [ 3.1 Action Space](#3.1)\n",
    "  - [ 3.2 Observation Space](#3.2)\n",
    "  - [ 3.3 Rewards](#3.3)\n",
    "  - [ 3.4 Episode Termination](#3.4)\n",
    "- [ 4 - Load the Environment](#4)\n",
    "- [ 5 - Interacting with the Gym Environment](#5)\n",
    "    - [ 5.1 Exploring the Environment's Dynamics](#5.1)\n",
    "- [ 6 - Deep Q-Learning](#6)\n",
    "  - [ 6.1 Target Network](#6.1)\n",
    "    - [ Exercise 1](#ex01)\n",
    "  - [ 6.2 Experience Replay](#6.2)\n",
    "- [ 7 - Deep Q-Learning Algorithm with Experience Replay](#7)\n",
    "  - [ Exercise 2](#ex02)\n",
    "- [ 8 - Update the Network Weights](#8)\n",
    "- [ 9 - Train the Agent](#9)\n",
    "- [ 10 - See the Trained Agent In Action](#10)\n",
    "- [ 11 - Congratulations!](#11)\n",
    "- [ 12 - References](#12)\n"
   ]
  },
  {
   "cell_type": "markdown",
   "metadata": {},
   "source": [
    "_**NOTE:** To prevent errors from the autograder, you are not allowed to edit or delete non-graded cells in this lab. Please also refrain from adding any new cells. \n",
    "**Once you have passed this assignment** and want to experiment with any of the non-graded code, you may follow the instructions at the bottom of this notebook._"
   ]
  },
  {
   "cell_type": "markdown",
   "metadata": {},
   "source": [
    "<a name=\"1\"></a>\n",
    "## 1 - Import Packages\n",
    "\n",
    "We'll make use of the following packages:\n",
    "- `numpy` is a package for scientific computing in python.\n",
    "- `deque` will be our data structure for our memory buffer.\n",
    "- `namedtuple` will be used to store the experience tuples.\n",
    "- The `gym` toolkit is a collection of environments that can be used to test reinforcement learning algorithms. We should note that in this notebook we are using `gym` version `0.24.0`.\n",
    "- `PIL.Image` and `pyvirtualdisplay` are needed to render the Lunar Lander environment.\n",
    "- We will use several modules from the `tensorflow.keras` framework for building deep learning models.\n",
    "- `utils` is a module that contains helper functions for this assignment. You do not need to modify the code in this file.\n",
    "\n",
    "Run the cell below to import all the necessary packages."
   ]
  },
  {
   "cell_type": "code",
   "execution_count": 1,
   "metadata": {
    "deletable": false,
    "id": "KYbOPKRtfQOr"
   },
   "outputs": [
    {
     "name": "stderr",
     "output_type": "stream",
     "text": [
      "Warning: Gym version v0.24.0 has a number of critical issues with `gym.make` such that the `reset` and `step` functions are called before returning the environment. It is recommend to downgrading to v0.23.1 or upgrading to v0.25.1\n",
      "2024-11-25 01:43:04.193382: I tensorflow/core/platform/cpu_feature_guard.cc:193] This TensorFlow binary is optimized with oneAPI Deep Neural Network Library (oneDNN) to use the following CPU instructions in performance-critical operations:  AVX2 FMA\n",
      "To enable them in other operations, rebuild TensorFlow with the appropriate compiler flags.\n",
      "2024-11-25 01:43:04.306086: W tensorflow/stream_executor/platform/default/dso_loader.cc:64] Could not load dynamic library 'libcudart.so.11.0'; dlerror: libcudart.so.11.0: cannot open shared object file: No such file or directory; LD_LIBRARY_PATH: /home/hope1300/miniconda3/envs/gym_env2/lib:\n",
      "2024-11-25 01:43:04.306109: I tensorflow/stream_executor/cuda/cudart_stub.cc:29] Ignore above cudart dlerror if you do not have a GPU set up on your machine.\n",
      "2024-11-25 01:43:04.322233: E tensorflow/stream_executor/cuda/cuda_blas.cc:2981] Unable to register cuBLAS factory: Attempting to register factory for plugin cuBLAS when one has already been registered\n",
      "2024-11-25 01:43:04.790655: W tensorflow/stream_executor/platform/default/dso_loader.cc:64] Could not load dynamic library 'libnvinfer.so.7'; dlerror: libnvinfer.so.7: cannot open shared object file: No such file or directory; LD_LIBRARY_PATH: /home/hope1300/miniconda3/envs/gym_env2/lib:\n",
      "2024-11-25 01:43:04.791569: W tensorflow/stream_executor/platform/default/dso_loader.cc:64] Could not load dynamic library 'libnvinfer_plugin.so.7'; dlerror: libnvinfer_plugin.so.7: cannot open shared object file: No such file or directory; LD_LIBRARY_PATH: /home/hope1300/miniconda3/envs/gym_env2/lib:\n",
      "2024-11-25 01:43:04.791582: W tensorflow/compiler/tf2tensorrt/utils/py_utils.cc:38] TF-TRT Warning: Cannot dlopen some TensorRT libraries. If you would like to use Nvidia GPU with TensorRT, please make sure the missing libraries mentioned above are installed properly.\n"
     ]
    }
   ],
   "source": [
    "import time\n",
    "from collections import deque, namedtuple\n",
    "\n",
    "import gym\n",
    "import utils\n",
    "from pyvirtualdisplay import Display\n",
    "import numpy as np\n",
    "import PIL.Image\n",
    "import tensorflow as tf\n",
    "\n",
    "\n",
    "\n",
    "from keras import Sequential\n",
    "from keras.layers import Dense, Input\n",
    "from keras.losses import MSE\n",
    "from tensorflow.keras.optimizers import Adam\n"
   ]
  },
  {
   "cell_type": "code",
   "execution_count": 2,
   "metadata": {
    "deletable": false,
    "editable": false
   },
   "outputs": [],
   "source": [
    "import os\n",
    "os.environ['PYVIRTUALDISPLAY_DISPLAYFD'] = '0'\n",
    "\n",
    "# Set up a virtual display to render the Lunar Lander environment.\n",
    "Display(visible=0, size=(840, 480)).start()\n",
    "\n",
    "# Set the random seed for TensorFlow\n",
    "tf.random.set_seed(utils.SEED)"
   ]
  },
  {
   "cell_type": "markdown",
   "metadata": {},
   "source": [
    "<a name=\"2\"></a>\n",
    "## 2 - Hyperparameters\n",
    "\n",
    "Run the cell below to set the hyperparameters."
   ]
  },
  {
   "cell_type": "code",
   "execution_count": 3,
   "metadata": {
    "deletable": false,
    "editable": false
   },
   "outputs": [],
   "source": [
    "MEMORY_SIZE = 100_000     # size of memory buffer\n",
    "GAMMA = 0.995             # discount factor\n",
    "ALPHA = 1e-3              # learning rate  \n",
    "NUM_STEPS_FOR_UPDATE = 4  # perform a learning update every C time steps"
   ]
  },
  {
   "cell_type": "markdown",
   "metadata": {},
   "source": [
    "<a name=\"3\"></a>\n",
    "## 3 - The Lunar Lander Environment\n",
    "\n",
    "In this notebook we will be using [OpenAI's Gym Library](https://www.gymlibrary.dev/). The Gym library provides a wide variety of environments for reinforcement learning. To put it simply, an environment represents a problem or task to be solved. In this notebook, we will try to solve the Lunar Lander environment using reinforcement learning.\n",
    "\n",
    "The goal of the Lunar Lander environment is to land the lunar lander safely on the landing pad on the surface of the moon. The landing pad is designated by two flag poles and its center is at coordinates `(0,0)` but the lander is also allowed to land outside of the landing pad. The lander starts at the top center of the environment with a random initial force applied to its center of mass and has infinite fuel. The environment is considered solved if you get `200` points. \n",
    "\n",
    "![LunarLander](./images/C3_W3_A1_LunarLander.gif)\n",
    "<p style=\"text-align: center; font-style: italic\">Fig 1. Lunar Lander Environment</p>\n",
    "\n",
    "<a name=\"3.1\"></a>\n",
    "### 3.1 Action Space\n",
    "\n",
    "The agent has four discrete actions available:\n",
    "\n",
    "* Do nothing.\n",
    "* Fire right engine.\n",
    "* Fire main engine.\n",
    "* Fire left engine.\n",
    "\n",
    "Each action has a corresponding numerical value:\n",
    "\n",
    "```text\n",
    "Do nothing = 0\n",
    "Fire right engine = 1\n",
    "Fire main engine = 2\n",
    "Fire left engine = 3\n",
    "```\n",
    "\n",
    "<a name=\"3.2\"></a>\n",
    "### 3.2 Observation Space\n",
    "\n",
    "The agent's observation space consists of a state vector with 8 variables:\n",
    "\n",
    "* Its $(x,y)$ coordinates. The landing pad is always at coordinates $(0,0)$.\n",
    "* Its linear velocities $(\\dot x,\\dot y)$.\n",
    "* Its angle $\\theta$.\n",
    "* Its angular velocity $\\dot \\theta$.\n",
    "* Two booleans, $l$ and $r$, that represent whether each leg is in contact with the ground or not.\n",
    "\n",
    "<a name=\"3.3\"></a>\n",
    "### 3.3 Rewards\n",
    "\n",
    "After every step, a reward is granted. The total reward of an episode is the sum of the rewards for all the steps within that episode.\n",
    "\n",
    "For each step, the reward:\n",
    "- is increased/decreased the closer/further the lander is to the landing pad.\n",
    "- is increased/decreased the slower/faster the lander is moving.\n",
    "- is decreased the more the lander is tilted (angle not horizontal).\n",
    "- is increased by 10 points for each leg that is in contact with the ground.\n",
    "- is decreased by 0.03 points each frame a side engine is firing.\n",
    "- is decreased by 0.3 points each frame the main engine is firing.\n",
    "\n",
    "The episode receives an additional reward of -100 or +100 points for crashing or landing safely respectively.\n",
    "\n",
    "<a name=\"3.4\"></a>\n",
    "### 3.4 Episode Termination\n",
    "\n",
    "An episode ends (i.e the environment enters a terminal state) if:\n",
    "\n",
    "* The lunar lander crashes (i.e if the body of the lunar lander comes in contact with the surface of the moon).\n",
    "\n",
    "* The absolute value of the lander's $x$-coordinate is greater than 1 (i.e. it goes beyond the left or right border)\n",
    "\n",
    "You can check out the [Open AI Gym documentation](https://www.gymlibrary.dev/environments/box2d/lunar_lander/) for a full description of the environment. "
   ]
  },
  {
   "cell_type": "markdown",
   "metadata": {},
   "source": [
    "<a name=\"4\"></a>\n",
    "## 4 - Load the Environment\n",
    "\n",
    "We start by loading the `LunarLander-v2` environment from the `gym` library by using the `.make()` method. `LunarLander-v2` is the latest version of the Lunar Lander environment and you can read about its version history in the [Open AI Gym documentation](https://www.gymlibrary.dev/environments/box2d/lunar_lander/#version-history)."
   ]
  },
  {
   "cell_type": "code",
   "execution_count": 4,
   "metadata": {
    "deletable": false,
    "editable": false,
    "id": "ILVMYKewfR0n"
   },
   "outputs": [],
   "source": [
    "env = gym.make('LunarLander-v2')"
   ]
  },
  {
   "cell_type": "markdown",
   "metadata": {},
   "source": [
    "Once we load the environment we use the `.reset()` method to reset the environment to the initial state. The lander starts at the top center of the environment and we can render the first frame of the environment by using the `.render()` method."
   ]
  },
  {
   "cell_type": "code",
   "execution_count": 5,
   "metadata": {
    "deletable": false,
    "editable": false
   },
   "outputs": [
    {
     "data": {
      "image/png": "[encoded data removed]",
      "text/plain": [
       "<PIL.Image.Image image mode=RGB size=600x400>"
      ]
     },
     "execution_count": 5,
     "metadata": {},
     "output_type": "execute_result"
    }
   ],
   "source": [
    "env.reset()\n",
    "PIL.Image.fromarray(env.render(mode='rgb_array'))"
   ]
  },
  {
   "cell_type": "markdown",
   "metadata": {},
   "source": [
    "In order to build our neural network later on we need to know the size of the state vector and the number of valid actions. We can get this information from our environment by using the `.observation_space.shape` and `action_space.n` methods, respectively."
   ]
  },
  {
   "cell_type": "code",
   "execution_count": 6,
   "metadata": {
    "deletable": false,
    "editable": false,
    "id": "x3fdqdG4CUu2"
   },
   "outputs": [
    {
     "name": "stdout",
     "output_type": "stream",
     "text": [
      "State Shape: (8,)\n",
      "Number of actions: 4\n"
     ]
    }
   ],
   "source": [
    "state_size = env.observation_space.shape\n",
    "num_actions = env.action_space.n\n",
    "\n",
    "print('State Shape:', state_size)\n",
    "print('Number of actions:', num_actions)"
   ]
  },
  {
   "cell_type": "markdown",
   "metadata": {},
   "source": [
    "<a name=\"5\"></a>\n",
    "## 5 - Interacting with the Gym Environment\n",
    "\n",
    "The Gym library implements the standard “agent-environment loop” formalism:\n",
    "\n",
    "<br>\n",
    "<center>\n",
    "<video src = \"./videos/C3_W3_A1_RLFormalism.m4v\" width=\"840\" height=\"480\" controls autoplay loop poster=\"./images/C3_W3_A1_RLFormalism.png\"> </video>\n",
    "<figcaption style = \"text-align:center; font-style:italic\">Fig 2. Agent-environment Loop Formalism.</figcaption>\n",
    "</center>\n",
    "<br>\n",
    "\n",
    "In the standard “agent-environment loop” formalism, an agent interacts with the environment in discrete time steps $t=0,1,2,...$. At each time step $t$, the agent uses a policy $\\pi$ to select an action $A_t$ based on its observation of the environment's state $S_t$. The agent receives a numerical reward $R_t$ and on the next time step, moves to a new state $S_{t+1}$.\n",
    "\n",
    "<a name=\"5.1\"></a>\n",
    "### 5.1 Exploring the Environment's Dynamics\n",
    "\n",
    "In Open AI's Gym environments, we use the `.step()` method to run a single time step of the environment's dynamics. In the version of `gym` that we are using the `.step()` method accepts an action and returns four values:\n",
    "\n",
    "* `observation` (**object**): an environment-specific object representing your observation of the environment. In the Lunar Lander environment this corresponds to a numpy array containing the positions and velocities of the lander as described in section [3.2 Observation Space](#3.2).\n",
    "\n",
    "\n",
    "* `reward` (**float**): amount of reward returned as a result of taking the given action. In the Lunar Lander environment this corresponds to a float of type `numpy.float64` as described in section [3.3 Rewards](#3.3).\n",
    "\n",
    "\n",
    "* `done` (**boolean**): When done is `True`, it indicates the episode has terminated and it’s time to reset the environment. \n",
    "\n",
    "\n",
    "* `info` (**dictionary**): diagnostic information useful for debugging. We won't be using this variable in this notebook but it is shown here for completeness.\n",
    "\n",
    "To begin an episode, we need to reset the environment to an initial state. We do this by using the `.reset()` method. "
   ]
  },
  {
   "cell_type": "code",
   "execution_count": 7,
   "metadata": {
    "deletable": false,
    "editable": false
   },
   "outputs": [],
   "source": [
    "# Reset the environment and get the initial state.\n",
    "current_state = env.reset()"
   ]
  },
  {
   "cell_type": "markdown",
   "metadata": {},
   "source": [
    "Once the environment is reset, the agent can start taking actions in the environment by using the `.step()` method. Note that the agent can only take one action per time step. \n",
    "\n",
    "In the cell below you can select different actions and see how the returned values change depending on the action taken. Remember that in this environment the agent has four discrete actions available and we specify them in code by using their corresponding numerical value:\n",
    "\n",
    "```text\n",
    "Do nothing = 0\n",
    "Fire right engine = 1\n",
    "Fire main engine = 2\n",
    "Fire left engine = 3\n",
    "```"
   ]
  },
  {
   "cell_type": "code",
   "execution_count": 8,
   "metadata": {
    "deletable": false
   },
   "outputs": [
    {
     "name": "stderr",
     "output_type": "stream",
     "text": [
      "/mnt/d/Github/Unsupervised-ML-RL/Programming Assignments/Week 3/utils.py:357: DeprecationWarning: `np.bool` is a deprecated alias for the builtin `bool`. To silence this warning, use `bool` by itself. Doing this will not modify any behavior and is safe. If you specifically wanted the numpy scalar type, use `np.bool_` here.\n",
      "Deprecated in NumPy 1.20; for more details and guidance: https://numpy.org/devdocs/release/1.20.0-notes.html#deprecations\n",
      "  (STATE_VECTOR_COL_NAME, 'Ground contact', 'Left Leg?'): get_state(6, np.bool),\n"
     ]
    },
    {
     "data": {
      "text/html": [
       "<style type=\"text/css\">\n",
       "#T_1384a_ th {\n",
       "  border: 1px solid grey;\n",
       "  text-align: center;\n",
       "}\n",
       "#T_1384a_ tbody td {\n",
       "  border: 1px solid grey;\n",
       "  text-align: center;\n",
       "}\n",
       "#T_1384a_row0_col0, #T_1384a_row1_col1, #T_1384a_row1_col2, #T_1384a_row1_col3, #T_1384a_row1_col4, #T_1384a_row1_col5, #T_1384a_row1_col6, #T_1384a_row1_col7, #T_1384a_row1_col8, #T_1384a_row1_col9, #T_1384a_row1_col10, #T_1384a_row1_col11, #T_1384a_row2_col0, #T_1384a_row3_col1, #T_1384a_row3_col2, #T_1384a_row3_col3, #T_1384a_row3_col4, #T_1384a_row3_col5, #T_1384a_row3_col6, #T_1384a_row3_col7, #T_1384a_row3_col8, #T_1384a_row3_col9, #T_1384a_row3_col10, #T_1384a_row3_col11, #T_1384a_row4_col1, #T_1384a_row4_col2, #T_1384a_row4_col3, #T_1384a_row4_col4, #T_1384a_row4_col5, #T_1384a_row4_col6, #T_1384a_row4_col7, #T_1384a_row4_col8, #T_1384a_row4_col9, #T_1384a_row4_col10, #T_1384a_row4_col11 {\n",
       "  background-color: grey;\n",
       "}\n",
       "</style>\n",
       "<table id=\"T_1384a_\">\n",
       "  <thead>\n",
       "    <tr>\n",
       "      <th class=\"blank level0\" >&nbsp;</th>\n",
       "      <th class=\"col_heading level0 col0\" ></th>\n",
       "      <th class=\"col_heading level0 col1\" colspan=\"8\">State Vector</th>\n",
       "      <th class=\"col_heading level0 col9\" colspan=\"3\">Derived from the State Vector (the closer to zero, the better)</th>\n",
       "    </tr>\n",
       "    <tr>\n",
       "      <th class=\"blank level1\" >&nbsp;</th>\n",
       "      <th class=\"col_heading level1 col0\" ></th>\n",
       "      <th class=\"col_heading level1 col1\" colspan=\"2\">Coordinate</th>\n",
       "      <th class=\"col_heading level1 col3\" colspan=\"2\">Velocity</th>\n",
       "      <th class=\"col_heading level1 col5\" colspan=\"2\">Tilting</th>\n",
       "      <th class=\"col_heading level1 col7\" colspan=\"2\">Ground contact</th>\n",
       "      <th class=\"col_heading level1 col9\" >Distance from landing pad</th>\n",
       "      <th class=\"col_heading level1 col10\" >Velocity</th>\n",
       "      <th class=\"col_heading level1 col11\" >Tilting Angle (absolute value)</th>\n",
       "    </tr>\n",
       "    <tr>\n",
       "      <th class=\"blank level2\" >&nbsp;</th>\n",
       "      <th class=\"col_heading level2 col0\" ></th>\n",
       "      <th class=\"col_heading level2 col1\" >X (Horizontal)</th>\n",
       "      <th class=\"col_heading level2 col2\" >Y (Vertical)</th>\n",
       "      <th class=\"col_heading level2 col3\" >X (Horizontal)</th>\n",
       "      <th class=\"col_heading level2 col4\" >Y (Vertical)</th>\n",
       "      <th class=\"col_heading level2 col5\" >Angle</th>\n",
       "      <th class=\"col_heading level2 col6\" >Angular Velocity</th>\n",
       "      <th class=\"col_heading level2 col7\" >Left Leg?</th>\n",
       "      <th class=\"col_heading level2 col8\" >Right Leg?</th>\n",
       "      <th class=\"col_heading level2 col9\" ></th>\n",
       "      <th class=\"col_heading level2 col10\" ></th>\n",
       "      <th class=\"col_heading level2 col11\" ></th>\n",
       "    </tr>\n",
       "  </thead>\n",
       "  <tbody>\n",
       "    <tr>\n",
       "      <th id=\"T_1384a_level0_row0\" class=\"row_heading level0 row0\" >Current State</th>\n",
       "      <td id=\"T_1384a_row0_col0\" class=\"data row0 col0\" ></td>\n",
       "      <td id=\"T_1384a_row0_col1\" class=\"data row0 col1\" >0.001919</td>\n",
       "      <td id=\"T_1384a_row0_col2\" class=\"data row0 col2\" >1.422301</td>\n",
       "      <td id=\"T_1384a_row0_col3\" class=\"data row0 col3\" >0.194400</td>\n",
       "      <td id=\"T_1384a_row0_col4\" class=\"data row0 col4\" >0.505814</td>\n",
       "      <td id=\"T_1384a_row0_col5\" class=\"data row0 col5\" >-0.002217</td>\n",
       "      <td id=\"T_1384a_row0_col6\" class=\"data row0 col6\" >-0.044034</td>\n",
       "      <td id=\"T_1384a_row0_col7\" class=\"data row0 col7\" >False</td>\n",
       "      <td id=\"T_1384a_row0_col8\" class=\"data row0 col8\" >False</td>\n",
       "      <td id=\"T_1384a_row0_col9\" class=\"data row0 col9\" >1.422302</td>\n",
       "      <td id=\"T_1384a_row0_col10\" class=\"data row0 col10\" >0.541885</td>\n",
       "      <td id=\"T_1384a_row0_col11\" class=\"data row0 col11\" >0.002217</td>\n",
       "    </tr>\n",
       "    <tr>\n",
       "      <th id=\"T_1384a_level0_row1\" class=\"row_heading level0 row1\" >Action</th>\n",
       "      <td id=\"T_1384a_row1_col0\" class=\"data row1 col0\" >Do nothing</td>\n",
       "      <td id=\"T_1384a_row1_col1\" class=\"data row1 col1\" ></td>\n",
       "      <td id=\"T_1384a_row1_col2\" class=\"data row1 col2\" ></td>\n",
       "      <td id=\"T_1384a_row1_col3\" class=\"data row1 col3\" ></td>\n",
       "      <td id=\"T_1384a_row1_col4\" class=\"data row1 col4\" ></td>\n",
       "      <td id=\"T_1384a_row1_col5\" class=\"data row1 col5\" ></td>\n",
       "      <td id=\"T_1384a_row1_col6\" class=\"data row1 col6\" ></td>\n",
       "      <td id=\"T_1384a_row1_col7\" class=\"data row1 col7\" ></td>\n",
       "      <td id=\"T_1384a_row1_col8\" class=\"data row1 col8\" ></td>\n",
       "      <td id=\"T_1384a_row1_col9\" class=\"data row1 col9\" ></td>\n",
       "      <td id=\"T_1384a_row1_col10\" class=\"data row1 col10\" ></td>\n",
       "      <td id=\"T_1384a_row1_col11\" class=\"data row1 col11\" ></td>\n",
       "    </tr>\n",
       "    <tr>\n",
       "      <th id=\"T_1384a_level0_row2\" class=\"row_heading level0 row2\" >Next State</th>\n",
       "      <td id=\"T_1384a_row2_col0\" class=\"data row2 col0\" ></td>\n",
       "      <td id=\"T_1384a_row2_col1\" class=\"data row2 col1\" >0.003839</td>\n",
       "      <td id=\"T_1384a_row2_col2\" class=\"data row2 col2\" >1.433103</td>\n",
       "      <td id=\"T_1384a_row2_col3\" class=\"data row2 col3\" >0.194137</td>\n",
       "      <td id=\"T_1384a_row2_col4\" class=\"data row2 col4\" >0.480094</td>\n",
       "      <td id=\"T_1384a_row2_col5\" class=\"data row2 col5\" >-0.004393</td>\n",
       "      <td id=\"T_1384a_row2_col6\" class=\"data row2 col6\" >-0.043519</td>\n",
       "      <td id=\"T_1384a_row2_col7\" class=\"data row2 col7\" >False</td>\n",
       "      <td id=\"T_1384a_row2_col8\" class=\"data row2 col8\" >False</td>\n",
       "      <td id=\"T_1384a_row2_col9\" class=\"data row2 col9\" >1.433108</td>\n",
       "      <td id=\"T_1384a_row2_col10\" class=\"data row2 col10\" >0.517860</td>\n",
       "      <td id=\"T_1384a_row2_col11\" class=\"data row2 col11\" >0.004393</td>\n",
       "    </tr>\n",
       "    <tr>\n",
       "      <th id=\"T_1384a_level0_row3\" class=\"row_heading level0 row3\" >Reward</th>\n",
       "      <td id=\"T_1384a_row3_col0\" class=\"data row3 col0\" >1.104326</td>\n",
       "      <td id=\"T_1384a_row3_col1\" class=\"data row3 col1\" ></td>\n",
       "      <td id=\"T_1384a_row3_col2\" class=\"data row3 col2\" ></td>\n",
       "      <td id=\"T_1384a_row3_col3\" class=\"data row3 col3\" ></td>\n",
       "      <td id=\"T_1384a_row3_col4\" class=\"data row3 col4\" ></td>\n",
       "      <td id=\"T_1384a_row3_col5\" class=\"data row3 col5\" ></td>\n",
       "      <td id=\"T_1384a_row3_col6\" class=\"data row3 col6\" ></td>\n",
       "      <td id=\"T_1384a_row3_col7\" class=\"data row3 col7\" ></td>\n",
       "      <td id=\"T_1384a_row3_col8\" class=\"data row3 col8\" ></td>\n",
       "      <td id=\"T_1384a_row3_col9\" class=\"data row3 col9\" ></td>\n",
       "      <td id=\"T_1384a_row3_col10\" class=\"data row3 col10\" ></td>\n",
       "      <td id=\"T_1384a_row3_col11\" class=\"data row3 col11\" ></td>\n",
       "    </tr>\n",
       "    <tr>\n",
       "      <th id=\"T_1384a_level0_row4\" class=\"row_heading level0 row4\" >Episode Terminated</th>\n",
       "      <td id=\"T_1384a_row4_col0\" class=\"data row4 col0\" >False</td>\n",
       "      <td id=\"T_1384a_row4_col1\" class=\"data row4 col1\" ></td>\n",
       "      <td id=\"T_1384a_row4_col2\" class=\"data row4 col2\" ></td>\n",
       "      <td id=\"T_1384a_row4_col3\" class=\"data row4 col3\" ></td>\n",
       "      <td id=\"T_1384a_row4_col4\" class=\"data row4 col4\" ></td>\n",
       "      <td id=\"T_1384a_row4_col5\" class=\"data row4 col5\" ></td>\n",
       "      <td id=\"T_1384a_row4_col6\" class=\"data row4 col6\" ></td>\n",
       "      <td id=\"T_1384a_row4_col7\" class=\"data row4 col7\" ></td>\n",
       "      <td id=\"T_1384a_row4_col8\" class=\"data row4 col8\" ></td>\n",
       "      <td id=\"T_1384a_row4_col9\" class=\"data row4 col9\" ></td>\n",
       "      <td id=\"T_1384a_row4_col10\" class=\"data row4 col10\" ></td>\n",
       "      <td id=\"T_1384a_row4_col11\" class=\"data row4 col11\" ></td>\n",
       "    </tr>\n",
       "  </tbody>\n",
       "</table>\n"
      ],
      "text/plain": [
       "<pandas.io.formats.style.Styler at 0x7fa39fa47e90>"
      ]
     },
     "metadata": {},
     "output_type": "display_data"
    }
   ],
   "source": [
    "# Select an action\n",
    "action = 0\n",
    "\n",
    "# Run a single time step of the environment's dynamics with the given action.\n",
    "next_state, reward, done, _ = env.step(action)\n",
    "\n",
    "# Display table with values.\n",
    "utils.display_table(current_state, action, next_state, reward, done)\n",
    "\n",
    "# Replace the `current_state` with the state after the action is taken\n",
    "current_state = next_state"
   ]
  },
  {
   "cell_type": "markdown",
   "metadata": {},
   "source": [
    "In practice, when we train the agent we use a loop to allow the agent to take many consecutive actions during an episode."
   ]
  },
  {
   "cell_type": "markdown",
   "metadata": {},
   "source": [
    "<a name=\"6\"></a>\n",
    "## 6 - Deep Q-Learning\n",
    "\n",
    "In cases where both the state and action space are discrete we can estimate the action-value function iteratively by using the Bellman equation:\n",
    "\n",
    "$$\n",
    "Q_{i+1}(s,a) = R + \\gamma \\max_{a'}Q_i(s',a')\n",
    "$$\n",
    "\n",
    "This iterative method converges to the optimal action-value function $Q^*(s,a)$ as $i\\to\\infty$. This means that the agent just needs to gradually explore the state-action space and keep updating the estimate of $Q(s,a)$ until it converges to the optimal action-value function $Q^*(s,a)$. However, in cases where the state space is continuous it becomes practically impossible to explore the entire state-action space. Consequently, this also makes it practically impossible to gradually estimate $Q(s,a)$ until it converges to $Q^*(s,a)$.\n",
    "\n",
    "In the Deep $Q$-Learning, we solve this problem by using a neural network to estimate the action-value function $Q(s,a)\\approx Q^*(s,a)$. We call this neural network a $Q$-Network and it can be trained by adjusting its weights at each iteration to minimize the mean-squared error in the Bellman equation.\n",
    "\n",
    "Unfortunately, using neural networks in reinforcement learning to estimate action-value functions has proven to be highly unstable. Luckily, there's a couple of techniques that can be employed to avoid instabilities. These techniques consist of using a ***Target Network*** and ***Experience Replay***. We will explore these two techniques in the following sections."
   ]
  },
  {
   "cell_type": "markdown",
   "metadata": {},
   "source": [
    "<a name=\"6.1\"></a>\n",
    "### 6.1 Target Network\n",
    "\n",
    "We can train the $Q$-Network by adjusting it's weights at each iteration to minimize the mean-squared error in the Bellman equation, where the target values are given by:\n",
    "\n",
    "$$\n",
    "y = R + \\gamma \\max_{a'}Q(s',a';w)\n",
    "$$\n",
    "\n",
    "where $w$ are the weights of the $Q$-Network. This means that we are adjusting the weights $w$ at each iteration to minimize the following error:\n",
    "\n",
    "$$\n",
    "\\overbrace{\\underbrace{R + \\gamma \\max_{a'}Q(s',a'; w)}_{\\rm {y~target}} - Q(s,a;w)}^{\\rm {Error}}\n",
    "$$\n",
    "\n",
    "Notice that this forms a problem because the $y$ target is changing on every iteration. Having a constantly moving target can lead to oscillations and instabilities. To avoid this, we can create\n",
    "a separate neural network for generating the $y$ targets. We call this separate neural network the **target $\\hat Q$-Network** and it will have the same architecture as the original $Q$-Network. By using the target $\\hat Q$-Network, the above error becomes:\n",
    "\n",
    "$$\n",
    "\\overbrace{\\underbrace{R + \\gamma \\max_{a'}\\hat{Q}(s',a'; w^-)}_{\\rm {y~target}} - Q(s,a;w)}^{\\rm {Error}}\n",
    "$$\n",
    "\n",
    "where $w^-$ and $w$ are the weights of the target $\\hat Q$-Network and $Q$-Network, respectively.\n",
    "\n",
    "In practice, we will use the following algorithm: every $C$ time steps we will use the $\\hat Q$-Network to generate the $y$ targets and update the weights of the target $\\hat Q$-Network using the weights of the $Q$-Network. We will update the weights $w^-$ of the the target $\\hat Q$-Network using a **soft update**. This means that we will update the weights $w^-$ using the following rule:\n",
    " \n",
    "$$\n",
    "w^-\\leftarrow \\tau w + (1 - \\tau) w^-\n",
    "$$\n",
    "\n",
    "where $\\tau\\ll 1$. By using the soft update, we are ensuring that the target values, $y$, change slowly, which greatly improves the stability of our learning algorithm."
   ]
  },
  {
   "cell_type": "markdown",
   "metadata": {},
   "source": [
    "<a name=\"ex01\"></a>\n",
    "### Exercise 1\n",
    "\n",
    "In this exercise you will create the $Q$ and target $\\hat Q$ networks and set the optimizer. Remember that the Deep $Q$-Network (DQN) is a neural network that approximates the action-value function $Q(s,a)\\approx Q^*(s,a)$. It does this by learning how to map states to $Q$ values.\n",
    "\n",
    "To solve the Lunar Lander environment, we are going to employ a DQN with the following architecture:\n",
    "\n",
    "* An `Input` layer that takes `state_size` as input.\n",
    "\n",
    "* A `Dense` layer with `64` units and a `relu` activation function.\n",
    "\n",
    "* A `Dense` layer with `64` units and a `relu` activation function.\n",
    "\n",
    "* A `Dense` layer with `num_actions` units and a `linear` activation function. This will be the output layer of our network.\n",
    "\n",
    "\n",
    "In the cell below you should create the $Q$-Network and the target $\\hat Q$-Network using the model architecture described above. Remember that both the $Q$-Network and the target $\\hat Q$-Network have the same architecture.\n",
    "\n",
    "Lastly, you should set `Adam` as the optimizer with a learning rate equal to `ALPHA`. Recall that `ALPHA` was defined in the [Hyperparameters](#2) section. We should note that for this exercise you should use the already imported packages:\n",
    "```python\n",
    "from tensorflow.keras.layers import Dense, Input\n",
    "from tensorflow.keras.optimizers import Adam\n",
    "```"
   ]
  },
  {
   "cell_type": "code",
   "execution_count": 9,
   "metadata": {
    "deletable": false
   },
   "outputs": [
    {
     "name": "stderr",
     "output_type": "stream",
     "text": [
      "2024-11-25 01:43:05.666737: I tensorflow/stream_executor/cuda/cuda_gpu_executor.cc:966] could not open file to read NUMA node: /sys/bus/pci/devices/0000:01:00.0/numa_node\n",
      "Your kernel may have been built without NUMA support.\n",
      "2024-11-25 01:43:05.667663: W tensorflow/stream_executor/platform/default/dso_loader.cc:64] Could not load dynamic library 'libcudart.so.11.0'; dlerror: libcudart.so.11.0: cannot open shared object file: No such file or directory; LD_LIBRARY_PATH: /home/hope1300/miniconda3/envs/gym_env2/lib:\n",
      "2024-11-25 01:43:05.668417: W tensorflow/stream_executor/platform/default/dso_loader.cc:64] Could not load dynamic library 'libcublas.so.11'; dlerror: libcublas.so.11: cannot open shared object file: No such file or directory; LD_LIBRARY_PATH: /home/hope1300/miniconda3/envs/gym_env2/lib:\n",
      "2024-11-25 01:43:05.669120: W tensorflow/stream_executor/platform/default/dso_loader.cc:64] Could not load dynamic library 'libcublasLt.so.11'; dlerror: libcublasLt.so.11: cannot open shared object file: No such file or directory; LD_LIBRARY_PATH: /home/hope1300/miniconda3/envs/gym_env2/lib:\n",
      "2024-11-25 01:43:05.669820: W tensorflow/stream_executor/platform/default/dso_loader.cc:64] Could not load dynamic library 'libcufft.so.10'; dlerror: libcufft.so.10: cannot open shared object file: No such file or directory; LD_LIBRARY_PATH: /home/hope1300/miniconda3/envs/gym_env2/lib:\n",
      "2024-11-25 01:43:05.670471: W tensorflow/stream_executor/platform/default/dso_loader.cc:64] Could not load dynamic library 'libcurand.so.10'; dlerror: libcurand.so.10: cannot open shared object file: No such file or directory; LD_LIBRARY_PATH: /home/hope1300/miniconda3/envs/gym_env2/lib:\n",
      "2024-11-25 01:43:05.671107: W tensorflow/stream_executor/platform/default/dso_loader.cc:64] Could not load dynamic library 'libcusolver.so.11'; dlerror: libcusolver.so.11: cannot open shared object file: No such file or directory; LD_LIBRARY_PATH: /home/hope1300/miniconda3/envs/gym_env2/lib:\n",
      "2024-11-25 01:43:05.671865: W tensorflow/stream_executor/platform/default/dso_loader.cc:64] Could not load dynamic library 'libcusparse.so.11'; dlerror: libcusparse.so.11: cannot open shared object file: No such file or directory; LD_LIBRARY_PATH: /home/hope1300/miniconda3/envs/gym_env2/lib:\n",
      "2024-11-25 01:43:05.672721: W tensorflow/stream_executor/platform/default/dso_loader.cc:64] Could not load dynamic library 'libcudnn.so.8'; dlerror: libcudnn.so.8: cannot open shared object file: No such file or directory; LD_LIBRARY_PATH: /home/hope1300/miniconda3/envs/gym_env2/lib:\n",
      "2024-11-25 01:43:05.672738: W tensorflow/core/common_runtime/gpu/gpu_device.cc:1934] Cannot dlopen some GPU libraries. Please make sure the missing libraries mentioned above are installed properly if you would like to use GPU. Follow the guide at https://www.tensorflow.org/install/gpu for how to download and setup the required libraries for your platform.\n",
      "Skipping registering GPU devices...\n",
      "2024-11-25 01:43:05.673129: I tensorflow/core/platform/cpu_feature_guard.cc:193] This TensorFlow binary is optimized with oneAPI Deep Neural Network Library (oneDNN) to use the following CPU instructions in performance-critical operations:  AVX2 FMA\n",
      "To enable them in other operations, rebuild TensorFlow with the appropriate compiler flags.\n"
     ]
    }
   ],
   "source": [
    "# UNQ_C1\n",
    "# GRADED CELL\n",
    "\n",
    "# Create the Q-Network\n",
    "q_network = Sequential([\n",
    "    ### START CODE HERE ### \n",
    "    Input(shape=state_size),\n",
    "    Dense(64,activation='relu'),\n",
    "    Dense(64,activation='relu'),\n",
    "    Dense(num_actions)\n",
    "    ### END CODE HERE ### \n",
    "])\n",
    "\n",
    "# Create the target Q^-Network\n",
    "target_q_network = Sequential([\n",
    "    ### START CODE HERE ### \n",
    "    Input(shape=state_size),\n",
    "    Dense(64,activation='relu'),\n",
    "    Dense(64,activation='relu'),\n",
    "    Dense(num_actions)\n",
    "    ### END CODE HERE ###\n",
    "])\n",
    "\n",
    "### START CODE HERE ### \n",
    "optimizer = Adam(learning_rate=ALPHA)\n",
    "### END CODE HERE ###"
   ]
  },
  {
   "cell_type": "code",
   "execution_count": 10,
   "metadata": {
    "deletable": false,
    "editable": false
   },
   "outputs": [
    {
     "name": "stdout",
     "output_type": "stream",
     "text": [
      "\u001b[92mAll tests passed!\n",
      "\u001b[92mAll tests passed!\n",
      "\u001b[92mAll tests passed!\n"
     ]
    }
   ],
   "source": [
    "# UNIT TEST\n",
    "from public_tests import *\n",
    "\n",
    "test_network(q_network)\n",
    "test_network(target_q_network)\n",
    "test_optimizer(optimizer, ALPHA) "
   ]
  },
  {
   "cell_type": "markdown",
   "metadata": {},
   "source": [
    "<details>\n",
    "  <summary><font size=\"3\" color=\"darkgreen\"><b>Click for hints</b></font></summary>\n",
    "    \n",
    "```python\n",
    "# Create the Q-Network\n",
    "q_network = Sequential([\n",
    "    Input(shape=state_size),                      \n",
    "    Dense(units=64, activation='relu'),            \n",
    "    Dense(units=64, activation='relu'),            \n",
    "    Dense(units=num_actions, activation='linear'),\n",
    "    ])\n",
    "\n",
    "# Create the target Q^-Network\n",
    "target_q_network = Sequential([\n",
    "    Input(shape=state_size),                       \n",
    "    Dense(units=64, activation='relu'),            \n",
    "    Dense(units=64, activation='relu'),            \n",
    "    Dense(units=num_actions, activation='linear'), \n",
    "    ])\n",
    "\n",
    "optimizer = Adam(learning_rate=ALPHA)                                  \n",
    "``` "
   ]
  },
  {
   "cell_type": "markdown",
   "metadata": {},
   "source": [
    "<a name=\"6.2\"></a>\n",
    "### 6.2 Experience Replay\n",
    "\n",
    "When an agent interacts with the environment, the states, actions, and rewards the agent experiences are sequential by nature. If the agent tries to learn from these consecutive experiences it can run into problems due to the strong correlations between them. To avoid this, we employ a technique known as **Experience Replay** to generate uncorrelated experiences for training our agent. Experience replay consists of storing the agent's experiences (i.e the states, actions, and rewards the agent receives) in a memory buffer and then sampling a random mini-batch of experiences from the buffer to do the learning. The experience tuples $(S_t, A_t, R_t, S_{t+1})$ will be added to the memory buffer at each time step as the agent interacts with the environment.\n",
    "\n",
    "For convenience, we will store the experiences as named tuples."
   ]
  },
  {
   "cell_type": "code",
   "execution_count": 11,
   "metadata": {
    "deletable": false,
    "editable": false
   },
   "outputs": [],
   "source": [
    "# Store experiences as named tuples\n",
    "experience = namedtuple(\"Experience\", field_names=[\"state\", \"action\", \"reward\", \"next_state\", \"done\"])"
   ]
  },
  {
   "cell_type": "markdown",
   "metadata": {},
   "source": [
    "By using experience replay we avoid problematic correlations, oscillations and instabilities. In addition, experience replay also allows the agent to potentially use the same experience in multiple weight updates, which increases data efficiency."
   ]
  },
  {
   "cell_type": "markdown",
   "metadata": {},
   "source": [
    "<a name=\"7\"></a>\n",
    "## 7 - Deep Q-Learning Algorithm with Experience Replay\n",
    "\n",
    "Now that we know all the techniques that we are going to use, we can put them together to arrive at the Deep Q-Learning Algorithm With Experience Replay.\n",
    "<br>\n",
    "<br>\n",
    "<figure>\n",
    "  <img src = \"./images/C3_W3_A1_DeepQLearning.png\" width = 90% style = \"border: thin silver solid; padding: 0px\">\n",
    "      <figcaption style = \"text-align: center; font-style: italic\">Fig 3. Deep Q-Learning with Experience Replay.</figcaption>\n",
    "</figure>"
   ]
  },
  {
   "cell_type": "markdown",
   "metadata": {},
   "source": [
    "<a name=\"ex02\"></a>\n",
    "### Exercise 2\n",
    "\n",
    "In this exercise you will implement line ***12*** of the algorithm outlined in *Fig 3* above and you will also compute the loss between the $y$ targets and the $Q(s,a)$ values. In the cell below, complete the `compute_loss` function by setting the $y$ targets equal to:\n",
    "\n",
    "$$\n",
    "\\begin{equation}\n",
    "    y_j =\n",
    "    \\begin{cases}\n",
    "      R_j & \\text{if episode terminates at step  } j+1\\\\\n",
    "      R_j + \\gamma \\max_{a'}\\hat{Q}(s_{j+1},a') & \\text{otherwise}\\\\\n",
    "    \\end{cases}       \n",
    "\\end{equation}\n",
    "$$\n",
    "\n",
    "Here are a couple of things to note:\n",
    "\n",
    "* The `compute_loss` function takes in a mini-batch of experience tuples. This mini-batch of experience tuples is unpacked to extract the `states`, `actions`, `rewards`, `next_states`, and `done_vals`. You should keep in mind that these variables are *TensorFlow Tensors* whose size will depend on the mini-batch size. For example, if the mini-batch size is `64` then both `rewards` and `done_vals` will be TensorFlow Tensors with `64` elements.\n",
    "\n",
    "\n",
    "* Using `if/else` statements to set the $y$ targets will not work when the variables are tensors with many elements. However, notice that you can use the `done_vals` to implement the above in a single line of code. To do this, recall that the `done` variable is a Boolean variable that takes the value `True` when an episode terminates at step $j+1$ and it is `False` otherwise. Taking into account that a Boolean value of `True` has the numerical value of `1` and a Boolean value of `False` has the numerical value of `0`, you can use the factor `(1 - done_vals)` to implement the above in a single line of code. Here's a hint: notice that `(1 - done_vals)` has a value of `0` when `done_vals` is `True` and a value of `1` when `done_vals` is `False`. \n",
    "\n",
    "Lastly, compute the loss by calculating the Mean-Squared Error (`MSE`) between the `y_targets` and the `q_values`. To calculate the mean-squared error you should use the already imported package `MSE`:\n",
    "```python\n",
    "from tensorflow.keras.losses import MSE\n",
    "```"
   ]
  },
  {
   "cell_type": "code",
   "execution_count": 12,
   "metadata": {
    "deletable": false
   },
   "outputs": [],
   "source": [
    "# UNQ_C2\n",
    "# GRADED FUNCTION: calculate_loss\n",
    "\n",
    "def compute_loss(experiences, gamma, q_network, target_q_network):\n",
    "    \"\"\" \n",
    "    Calculates the loss.\n",
    "    \n",
    "    Args:\n",
    "      experiences: (tuple) tuple of [\"state\", \"action\", \"reward\", \"next_state\", \"done\"] namedtuples\n",
    "      gamma: (float) The discount factor.\n",
    "      q_network: (tf.keras.Sequential) Keras model for predicting the q_values\n",
    "      target_q_network: (tf.keras.Sequential) Keras model for predicting the targets\n",
    "          \n",
    "    Returns:\n",
    "      loss: (TensorFlow Tensor(shape=(0,), dtype=int32)) the Mean-Squared Error between\n",
    "            the y targets and the Q(s,a) values.\n",
    "    \"\"\"\n",
    "\n",
    "    # Unpack the mini-batch of experience tuples\n",
    "    states, actions, rewards, next_states, done_vals = experiences\n",
    "    \n",
    "    # Compute max Q^(s,a)\n",
    "    max_qsa = tf.reduce_max(target_q_network(next_states), axis=-1)\n",
    "    \n",
    "    # Set y = R if episode terminates, otherwise set y = R + γ max Q^(s,a).\n",
    "    ### START CODE HERE ### \n",
    "    y_targets = rewards + (1-done_vals) * gamma * max_qsa\n",
    "    ### END CODE HERE ###\n",
    "    \n",
    "    # Get the q_values and reshape to match y_targets\n",
    "    q_values = q_network(states)\n",
    "    q_values = tf.gather_nd(q_values, tf.stack([tf.range(q_values.shape[0]),\n",
    "                                                tf.cast(actions, tf.int32)], axis=1))\n",
    "        \n",
    "    # Compute the loss\n",
    "    ### START CODE HERE ### \n",
    "    loss = MSE(y_targets,q_values)\n",
    "    ### END CODE HERE ### \n",
    "    \n",
    "    return loss"
   ]
  },
  {
   "cell_type": "code",
   "execution_count": 13,
   "metadata": {
    "deletable": false,
    "editable": false
   },
   "outputs": [
    {
     "name": "stdout",
     "output_type": "stream",
     "text": [
      "\u001b[92mAll tests passed!\n"
     ]
    }
   ],
   "source": [
    "# UNIT TEST    \n",
    "test_compute_loss(compute_loss)"
   ]
  },
  {
   "cell_type": "markdown",
   "metadata": {},
   "source": [
    "<details>\n",
    "  <summary><font size=\"3\" color=\"darkgreen\"><b>Click for hints</b></font></summary>\n",
    "    \n",
    "```python\n",
    "def compute_loss(experiences, gamma, q_network, target_q_network):\n",
    "    \"\"\" \n",
    "    Calculates the loss.\n",
    "    \n",
    "    Args:\n",
    "      experiences: (tuple) tuple of [\"state\", \"action\", \"reward\", \"next_state\", \"done\"] namedtuples\n",
    "      gamma: (float) The discount factor.\n",
    "      q_network: (tf.keras.Sequential) Keras model for predicting the q_values\n",
    "      target_q_network: (tf.keras.Sequential) Keras model for predicting the targets\n",
    "          \n",
    "    Returns:\n",
    "      loss: (TensorFlow Tensor(shape=(0,), dtype=int32)) the Mean-Squared Error between\n",
    "            the y targets and the Q(s,a) values.\n",
    "    \"\"\"\n",
    "\n",
    "    \n",
    "    # Unpack the mini-batch of experience tuples\n",
    "    states, actions, rewards, next_states, done_vals = experiences\n",
    "    \n",
    "    # Compute max Q^(s,a)\n",
    "    max_qsa = tf.reduce_max(target_q_network(next_states), axis=-1)\n",
    "    \n",
    "    # Set y = R if episode terminates, otherwise set y = R + γ max Q^(s,a).\n",
    "    y_targets = rewards + (gamma * max_qsa * (1 - done_vals))\n",
    "    \n",
    "    # Get the q_values\n",
    "    q_values = q_network(states)\n",
    "    q_values = tf.gather_nd(q_values, tf.stack([tf.range(q_values.shape[0]),\n",
    "                                                tf.cast(actions, tf.int32)], axis=1))\n",
    "    \n",
    "    # Calculate the loss\n",
    "    loss = MSE(y_targets, q_values)\n",
    "    \n",
    "    return loss\n",
    "\n",
    "``` \n",
    "    "
   ]
  },
  {
   "cell_type": "markdown",
   "metadata": {},
   "source": [
    "<a name=\"8\"></a>\n",
    "## 8 - Update the Network Weights\n",
    "\n",
    "We will use the `agent_learn` function below to implement lines ***12 -14*** of the algorithm outlined in [Fig 3](#7). The `agent_learn` function will update the weights of the $Q$ and target $\\hat Q$ networks using a custom training loop. Because we are using a custom training loop we need to retrieve the gradients via a `tf.GradientTape` instance, and then call `optimizer.apply_gradients()` to update the weights of our $Q$-Network. Note that we are also using the `@tf.function` decorator to increase performance. Without this decorator our training will take twice as long. If you would like to know more about how to increase performance with `@tf.function` take a look at the [TensorFlow documentation](https://www.tensorflow.org/guide/function).\n",
    "\n",
    "The last line of this function updates the weights of the target $\\hat Q$-Network using a [soft update](#6.1). If you want to know how this is implemented in code we encourage you to take a look at the `utils.update_target_network` function in the `utils` module."
   ]
  },
  {
   "cell_type": "code",
   "execution_count": 14,
   "metadata": {
    "deletable": false,
    "editable": false
   },
   "outputs": [],
   "source": [
    "@tf.function\n",
    "def agent_learn(experiences, gamma):\n",
    "    \"\"\"\n",
    "    Updates the weights of the Q networks.\n",
    "    \n",
    "    Args:\n",
    "      experiences: (tuple) tuple of [\"state\", \"action\", \"reward\", \"next_state\", \"done\"] namedtuples\n",
    "      gamma: (float) The discount factor.\n",
    "    \n",
    "    \"\"\"\n",
    "    \n",
    "    # Calculate the loss\n",
    "    with tf.GradientTape() as tape:\n",
    "        loss = compute_loss(experiences, gamma, q_network, target_q_network)\n",
    "\n",
    "    # Get the gradients of the loss with respect to the weights.\n",
    "    gradients = tape.gradient(loss, q_network.trainable_variables)\n",
    "    \n",
    "    # Update the weights of the q_network.\n",
    "    optimizer.apply_gradients(zip(gradients, q_network.trainable_variables))\n",
    "\n",
    "    # update the weights of target q_network\n",
    "    utils.update_target_network(q_network, target_q_network)"
   ]
  },
  {
   "cell_type": "markdown",
   "metadata": {},
   "source": [
    "<a name=\"9\"></a>\n",
    "## 9 - Train the Agent\n",
    "\n",
    "We are now ready to train our agent to solve the Lunar Lander environment. In the cell below we will implement the algorithm in [Fig 3](#7) line by line (please note that we have included the same algorithm below for easy reference. This will prevent you from scrolling up and down the notebook):\n",
    "\n",
    "* **Line 1**: We initialize the `memory_buffer` with a capacity of $N =$ `MEMORY_SIZE`. Notice that we are using a `deque` as the data structure for our `memory_buffer`.\n",
    "\n",
    "\n",
    "* **Line 2**: We skip this line since we already initialized the `q_network` in [Exercise 1](#ex01).\n",
    "\n",
    "\n",
    "* **Line 3**: We initialize the `target_q_network` by setting its weights to be equal to those of the `q_network`.\n",
    "\n",
    "\n",
    "* **Line 4**: We start the outer loop. Notice that we have set $M =$ `num_episodes = 2000`. This number is reasonable because the agent should be able to solve the Lunar Lander environment in less than `2000` episodes using this notebook's default parameters.\n",
    "\n",
    "\n",
    "* **Line 5**: We use the `.reset()` method to reset the environment to the initial state and get the initial state.\n",
    "\n",
    "\n",
    "* **Line 6**: We start the inner loop. Notice that we have set $T =$ `max_num_timesteps = 1000`. This means that the episode will automatically terminate if the episode hasn't terminated after `1000` time steps.\n",
    "\n",
    "\n",
    "* **Line 7**: The agent observes the current `state` and chooses an `action` using an $\\epsilon$-greedy policy. Our agent starts out using a value of $\\epsilon =$ `epsilon = 1` which yields an $\\epsilon$-greedy policy that is equivalent to the equiprobable random policy. This means that at the beginning of our training, the agent is just going to take random actions regardless of the observed `state`. As training progresses we will decrease the value of $\\epsilon$ slowly towards a minimum value using a given $\\epsilon$-decay rate. We want this minimum value to be close to zero because a value of $\\epsilon = 0$ will yield an $\\epsilon$-greedy policy that is equivalent to the greedy policy. This means that towards the end of training, the agent will lean towards selecting the `action` that it believes (based on its past experiences) will maximize $Q(s,a)$. We will set the minimum $\\epsilon$ value to be `0.01` and not exactly 0 because we always want to keep a little bit of exploration during training. If you want to know how this is implemented in code we encourage you to take a look at the `utils.get_action` function in the `utils` module.\n",
    "\n",
    "\n",
    "* **Line 8**: We use the `.step()` method to take the given `action` in the environment and get the `reward` and the `next_state`. \n",
    "\n",
    "\n",
    "* **Line 9**: We store the `experience(state, action, reward, next_state, done)` tuple in our `memory_buffer`. Notice that we also store the `done` variable so that we can keep track of when an episode terminates. This allowed us to set the $y$ targets in [Exercise 2](#ex02).\n",
    "\n",
    "\n",
    "* **Line 10**: We check if the conditions are met to perform a learning update. We do this by using our custom `utils.check_update_conditions` function. This function checks if $C =$ `NUM_STEPS_FOR_UPDATE = 4` time steps have occured and if our `memory_buffer` has enough experience tuples to fill a mini-batch. For example, if the mini-batch size is `64`, then our `memory_buffer` should have more than `64` experience tuples in order to pass the latter condition. If the conditions are met, then the `utils.check_update_conditions` function will return a value of `True`, otherwise it will return a value of `False`.\n",
    "\n",
    "\n",
    "* **Lines 11 - 14**: If the `update` variable is `True` then we perform a learning update. The learning update consists of sampling a random mini-batch of experience tuples from our `memory_buffer`, setting the $y$ targets, performing gradient descent, and updating the weights of the networks. We will use the `agent_learn` function we defined in [Section 8](#8) to perform the latter 3.\n",
    "\n",
    "\n",
    "* **Line 15**: At the end of each iteration of the inner loop we set `next_state` as our new `state` so that the loop can start again from this new state. In addition, we check if the episode has reached a terminal state (i.e we check if `done = True`). If a terminal state has been reached, then we break out of the inner loop.\n",
    "\n",
    "\n",
    "* **Line 16**: At the end of each iteration of the outer loop we update the value of $\\epsilon$, and check if the environment has been solved. We consider that the environment has been solved if the agent receives an average of `200` points in the last `100` episodes. If the environment has not been solved we continue the outer loop and start a new episode.\n",
    "\n",
    "Finally, we wanted to note that we have included some extra variables to keep track of the total number of points the agent received in each episode. This will help us determine if the agent has solved the environment and it will also allow us to see how our agent performed during training. We also use the `time` module to measure how long the training takes. \n",
    "\n",
    "<br>\n",
    "<br>\n",
    "<figure>\n",
    "  <img src = \"./images/C3_W3_A1_DeepQLearning.png\" width = 90% style = \"border: thin silver solid; padding: 0px\">\n",
    "      <figcaption style = \"text-align: center; font-style: italic\">Fig 4. Deep Q-Learning with Experience Replay.</figcaption>\n",
    "</figure>\n",
    "<br>\n",
    "\n",
    "**Note:** With this notebook's default parameters, the following cell takes between 10 to 15 minutes to run. "
   ]
  },
  {
   "cell_type": "code",
   "execution_count": 15,
   "metadata": {
    "deletable": false
   },
   "outputs": [
    {
     "name": "stdout",
     "output_type": "stream",
     "text": [
      "Episode 100 | Total point average of the last 100 episodes: -159.12\n",
      "Episode 200 | Total point average of the last 100 episodes: -127.07\n",
      "Episode 300 | Total point average of the last 100 episodes: -88.368\n",
      "Episode 400 | Total point average of the last 100 episodes: -37.93\n",
      "Episode 500 | Total point average of the last 100 episodes: -7.268\n",
      "Episode 600 | Total point average of the last 100 episodes: 110.31\n",
      "Episode 700 | Total point average of the last 100 episodes: 185.74\n",
      "Episode 723 | Total point average of the last 100 episodes: 200.98\n",
      "\n",
      "Environment solved in 723 episodes!\n",
      "WARNING:tensorflow:Compiled the loaded model, but the compiled metrics have yet to be built. `model.compile_metrics` will be empty until you train or evaluate the model.\n",
      "WARNING:tensorflow:Compiled the loaded model, but the compiled metrics have yet to be built. `model.compile_metrics` will be empty until you train or evaluate the model.\n",
      "\n",
      "Total Runtime: 1068.44 s (17.81 min)\n"
     ]
    }
   ],
   "source": [
    "start = time.time()\n",
    "\n",
    "num_episodes = 2000\n",
    "max_num_timesteps = 1000\n",
    "\n",
    "total_point_history = []\n",
    "\n",
    "num_p_av = 100    # number of total points to use for averaging\n",
    "epsilon = 1.0     # initial ε value for ε-greedy policy\n",
    "\n",
    "# Create a memory buffer D with capacity N\n",
    "memory_buffer = deque(maxlen=MEMORY_SIZE)\n",
    "\n",
    "# Set the target network weights equal to the Q-Network weights\n",
    "target_q_network.set_weights(q_network.get_weights())\n",
    "\n",
    "for i in range(num_episodes):\n",
    "    \n",
    "    # Reset the environment to the initial state and get the initial state\n",
    "    state = env.reset()\n",
    "    total_points = 0\n",
    "    \n",
    "    for t in range(max_num_timesteps):\n",
    "        \n",
    "        # From the current state S choose an action A using an ε-greedy policy\n",
    "        state_qn = np.expand_dims(state, axis=0)  # state needs to be the right shape for the q_network\n",
    "        q_values = q_network(state_qn)\n",
    "        action = utils.get_action(q_values, epsilon)\n",
    "        \n",
    "        # Take action A and receive reward R and the next state S'\n",
    "        next_state, reward, done, _ = env.step(action)\n",
    "        \n",
    "        # Store experience tuple (S,A,R,S') in the memory buffer.\n",
    "        # We store the done variable as well for convenience.\n",
    "        memory_buffer.append(experience(state, action, reward, next_state, done))\n",
    "        \n",
    "        # Only update the network every NUM_STEPS_FOR_UPDATE time steps.\n",
    "        update = utils.check_update_conditions(t, NUM_STEPS_FOR_UPDATE, memory_buffer)\n",
    "        \n",
    "        if update:\n",
    "            # Sample random mini-batch of experience tuples (S,A,R,S') from D\n",
    "            experiences = utils.get_experiences(memory_buffer)\n",
    "            \n",
    "            # Set the y targets, perform a gradient descent step,\n",
    "            # and update the network weights.\n",
    "            agent_learn(experiences, GAMMA)\n",
    "        \n",
    "        state = next_state.copy()\n",
    "        total_points += reward\n",
    "        \n",
    "        if done:\n",
    "            break\n",
    "            \n",
    "    total_point_history.append(total_points)\n",
    "    av_latest_points = np.mean(total_point_history[-num_p_av:])\n",
    "    \n",
    "    # Update the ε value\n",
    "    epsilon = utils.get_new_eps(epsilon)\n",
    "\n",
    "    print(f\"\\rEpisode {i+1} | Total point average of the last {num_p_av} episodes: {av_latest_points:.2f}\", end=\"\")\n",
    "\n",
    "    if (i+1) % num_p_av == 0:\n",
    "        print(f\"\\rEpisode {i+1} | Total point average of the last {num_p_av} episodes: {av_latest_points:.2f}\")\n",
    "\n",
    "    # We will consider that the environment is solved if we get an\n",
    "    # average of 200 points in the last 100 episodes.\n",
    "    if av_latest_points >= 200.0:\n",
    "        print(f\"\\n\\nEnvironment solved in {i+1} episodes!\")\n",
    "        q_network.save('lunar_lander_model.h5')\n",
    "        break\n",
    "        \n",
    "tot_time = time.time() - start\n",
    "q_network.save('lunar_lander_model.h5')\n",
    "print(f\"\\nTotal Runtime: {tot_time:.2f} s ({(tot_time/60):.2f} min)\")"
   ]
  },
  {
   "cell_type": "markdown",
   "metadata": {},
   "source": [
    "We can plot the total point history along with the moving average to see how our agent improved during training. If you want to know about the different plotting options available in the `utils.plot_history` function we encourage you to take a look at the `utils` module."
   ]
  },
  {
   "cell_type": "code",
   "execution_count": 16,
   "metadata": {
    "deletable": false,
    "editable": false,
    "id": "E_EUXxurfe8m"
   },
   "outputs": [
    {
     "data": {
      "image/png": "[encoded data removed]",
      "text/plain": [
       "<Figure size 1000x700 with 1 Axes>"
      ]
     },
     "metadata": {},
     "output_type": "display_data"
    }
   ],
   "source": [
    "# Plot the total point history along with the moving average\n",
    "utils.plot_history(total_point_history)"
   ]
  },
  {
   "cell_type": "markdown",
   "metadata": {
    "id": "c_xwgaX5MnYt"
   },
   "source": [
    "<a name=\"10\"></a>\n",
    "## 10 - See the Trained Agent In Action\n",
    "\n",
    "Now that we have trained our agent, we can see it in action. We will use the `utils.create_video` function to create a video of our agent interacting with the environment using the trained $Q$-Network. The `utils.create_video` function uses the `imageio` library to create the video. This library produces some warnings that can be distracting, so, to suppress these warnings we run the code below."
   ]
  },
  {
   "cell_type": "code",
   "execution_count": 17,
   "metadata": {
    "deletable": false,
    "editable": false
   },
   "outputs": [],
   "source": [
    "# Suppress warnings from imageio\n",
    "import logging\n",
    "logging.getLogger().setLevel(logging.ERROR)"
   ]
  },
  {
   "cell_type": "markdown",
   "metadata": {},
   "source": [
    "In the cell below we create a video of our agent interacting with the Lunar Lander environment using the trained `q_network`. The video is saved to the `videos` folder with the given `filename`. We use the `utils.embed_mp4` function to embed the video in the Jupyter Notebook so that we can see it here directly without having to download it.\n",
    "\n",
    "We should note that since the lunar lander starts with a random initial force applied to its center of mass, every time you run the cell below you will see a different video. If the agent was trained properly, it should be able to land the lunar lander in the landing pad every time, regardless of the initial force applied to its center of mass."
   ]
  },
  {
   "cell_type": "code",
   "execution_count": 18,
   "metadata": {},
   "outputs": [
    {
     "name": "stdout",
     "output_type": "stream",
     "text": [
      "/bin/bash: /home/hope1300/miniconda3/envs/gym_env2/lib/libtinfo.so.6: no version information available (required by /bin/bash)\n",
      "Collecting imageio-ffmpeg\n",
      "  Downloading imageio_ffmpeg-0.5.1-py3-none-manylinux2010_x86_64.whl (26.9 MB)\n",
      "\u001b[2K     \u001b[90m━━━━━━━━━━━━━━━━━━━━━━━━━━━━━━━━━━━━━━━━\u001b[0m \u001b[32m26.9/26.9 MB\u001b[0m \u001b[31m3.9 MB/s\u001b[0m eta \u001b[36m0:00:00\u001b[0m00:01\u001b[0m00:01\u001b[0mm\n",
      "\u001b[?25hRequirement already satisfied: setuptools in /home/hope1300/miniconda3/envs/gym_env2/lib/python3.7/site-packages (from imageio-ffmpeg) (65.6.3)\n",
      "Installing collected packages: imageio-ffmpeg\n",
      "Successfully installed imageio-ffmpeg-0.5.1\n",
      "Note: you may need to restart the kernel to use updated packages.\n"
     ]
    }
   ],
   "source": [
    "%pip install imageio-ffmpeg"
   ]
  },
  {
   "cell_type": "code",
   "execution_count": 20,
   "metadata": {
    "deletable": false,
    "id": "3Ttb_zLeJKiG"
   },
   "outputs": [
    {
     "name": "stderr",
     "output_type": "stream",
     "text": [
      "[swscaler @ 0x43cbc0c0] Warning: data is not aligned! This can lead to a speed loss\n"
     ]
    },
    {
     "data": {
      "text/html": [
       "\n",
       "    <video width=\"840\" height=\"480\" controls>\n",
       "    <source src=\"data:video/mp4;base64,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\" type=\"video/mp4\">\n",
       "    Your browser does not support the video tag.\n",
       "    </video>"
      ],
      "text/plain": [
       "<IPython.core.display.HTML object>"
      ]
     },
     "execution_count": 20,
     "metadata": {},
     "output_type": "execute_result"
    }
   ],
   "source": [
    "filename = \"./videos/lunar_lander2000.mp4\"\n",
    "\n",
    "utils.create_video(filename, env, q_network)\n",
    "utils.embed_mp4(filename)"
   ]
  },
  {
   "cell_type": "markdown",
   "metadata": {},
   "source": [
    "<a name=\"11\"></a>\n",
    "## 11 - Congratulations!\n",
    "\n",
    "You have successfully used Deep Q-Learning with Experience Replay to train an agent to land a lunar lander safely on a landing pad on the surface of the moon. Congratulations!"
   ]
  },
  {
   "cell_type": "markdown",
   "metadata": {},
   "source": [
    "<a name=\"12\"></a>\n",
    "## 12 - References\n",
    "\n",
    "If you would like to learn more about Deep Q-Learning, we recommend you check out the following papers.\n",
    "\n",
    "\n",
    "* Mnih, V., Kavukcuoglu, K., Silver, D. et al. Human-level control through deep reinforcement learning. Nature 518, 529–533 (2015).\n",
    "\n",
    "\n",
    "* Lillicrap, T. P., Hunt, J. J., Pritzel, A., et al. Continuous Control with Deep Reinforcement Learning. ICLR (2016).\n",
    "\n",
    "\n",
    "* Mnih, V., Kavukcuoglu, K., Silver, D. et al. Playing Atari with Deep Reinforcement Learning. arXiv e-prints.  arXiv:1312.5602 (2013)."
   ]
  },
  {
   "cell_type": "markdown",
   "metadata": {},
   "source": [
    "<details>\n",
    "  <summary><font size=\"2\" color=\"darkgreen\"><b>Please click here if you want to experiment with any of the non-graded code.</b></font></summary>\n",
    "    <p><i><b>Important Note: Please only do this when you've already passed the assignment to avoid problems with the autograder.</b></i>\n",
    "    <ol>\n",
    "        <li> On the notebook’s menu, click “View” > “Cell Toolbar” > “Edit Metadata”</li>\n",
    "        <li> Hit the “Edit Metadata” button next to the code cell which you want to lock/unlock</li>\n",
    "        <li> Set the attribute value for “editable” to:\n",
    "            <ul>\n",
    "                <li> “true” if you want to unlock it </li>\n",
    "                <li> “false” if you want to lock it </li>\n",
    "            </ul>\n",
    "        </li>\n",
    "        <li> On the notebook’s menu, click “View” > “Cell Toolbar” > “None” </li>\n",
    "    </ol>\n",
    "    <p> Here's a short demo of how to do the steps above: \n",
    "        <br>\n",
    "        <img src=\"./images/unlock_cells.gif\" align=\"center\" alt=\"unlock_cells.gif\">\n",
    "</details>"
   ]
  }
 ],
 "metadata": {
  "accelerator": "GPU",
  "colab": {
   "collapsed_sections": [],
   "name": "TensorFlow - Lunar Lander.ipynb",
   "provenance": []
  },
  "kernelspec": {
   "display_name": "gym_env2",
   "language": "python",
   "name": "python3"
  },
  "language_info": {
   "codemirror_mode": {
    "name": "ipython",
    "version": 3
   },
   "file_extension": ".py",
   "mimetype": "text/x-python",
   "name": "python",
   "nbconvert_exporter": "python",
   "pygments_lexer": "ipython3",
   "version": "3.7.12"
  }
 },
 "nbformat": 4,
 "nbformat_minor": 4
}
