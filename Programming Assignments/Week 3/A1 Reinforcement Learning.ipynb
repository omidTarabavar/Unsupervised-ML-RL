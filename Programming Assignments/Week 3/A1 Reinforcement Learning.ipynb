{
 "cells": [
  {
   "cell_type": "markdown",
   "metadata": {},
   "source": [
    "# Deep Q-Learning - Lunar Lander\n",
    "\n",
    "In this assignment, you will train an agent to land a lunar lander safely on a landing pad on the surface of the moon.\n",
    "\n",
    "\n",
    "# Outline\n",
    "- [ 1 - Import Packages](#1) <img align=\"Right\" src=\"./images/C3_W3_A1_LunarLander.gif\" width = 60% >\n",
    "- [ 2 - Hyperparameters](#2)\n",
    "- [ 3 - The Lunar Lander Environment](#3)\n",
    "  - [ 3.1 Action Space](#3.1)\n",
    "  - [ 3.2 Observation Space](#3.2)\n",
    "  - [ 3.3 Rewards](#3.3)\n",
    "  - [ 3.4 Episode Termination](#3.4)\n",
    "- [ 4 - Load the Environment](#4)\n",
    "- [ 5 - Interacting with the Gym Environment](#5)\n",
    "    - [ 5.1 Exploring the Environment's Dynamics](#5.1)\n",
    "- [ 6 - Deep Q-Learning](#6)\n",
    "  - [ 6.1 Target Network](#6.1)\n",
    "    - [ Exercise 1](#ex01)\n",
    "  - [ 6.2 Experience Replay](#6.2)\n",
    "- [ 7 - Deep Q-Learning Algorithm with Experience Replay](#7)\n",
    "  - [ Exercise 2](#ex02)\n",
    "- [ 8 - Update the Network Weights](#8)\n",
    "- [ 9 - Train the Agent](#9)\n",
    "- [ 10 - See the Trained Agent In Action](#10)\n",
    "- [ 11 - Congratulations!](#11)\n",
    "- [ 12 - References](#12)\n"
   ]
  },
  {
   "cell_type": "markdown",
   "metadata": {},
   "source": [
    "_**NOTE:** To prevent errors from the autograder, you are not allowed to edit or delete non-graded cells in this lab. Please also refrain from adding any new cells. \n",
    "**Once you have passed this assignment** and want to experiment with any of the non-graded code, you may follow the instructions at the bottom of this notebook._"
   ]
  },
  {
   "cell_type": "markdown",
   "metadata": {},
   "source": [
    "<a name=\"1\"></a>\n",
    "## 1 - Import Packages\n",
    "\n",
    "We'll make use of the following packages:\n",
    "- `numpy` is a package for scientific computing in python.\n",
    "- `deque` will be our data structure for our memory buffer.\n",
    "- `namedtuple` will be used to store the experience tuples.\n",
    "- The `gym` toolkit is a collection of environments that can be used to test reinforcement learning algorithms. We should note that in this notebook we are using `gym` version `0.24.0`.\n",
    "- `PIL.Image` and `pyvirtualdisplay` are needed to render the Lunar Lander environment.\n",
    "- We will use several modules from the `tensorflow.keras` framework for building deep learning models.\n",
    "- `utils` is a module that contains helper functions for this assignment. You do not need to modify the code in this file.\n",
    "\n",
    "Run the cell below to import all the necessary packages."
   ]
  },
  {
   "cell_type": "code",
   "execution_count": 1,
   "metadata": {
    "deletable": false,
    "id": "KYbOPKRtfQOr"
   },
   "outputs": [
    {
     "name": "stderr",
     "output_type": "stream",
     "text": [
      "/home/hope1300/.local/lib/python3.10/site-packages/tensorflow/__init__.py:29: DeprecationWarning: The distutils package is deprecated and slated for removal in Python 3.12. Use setuptools or check PEP 632 for potential alternatives\n",
      "  import distutils as _distutils\n",
      "2024-11-15 16:44:54.658978: I tensorflow/core/platform/cpu_feature_guard.cc:193] This TensorFlow binary is optimized with oneAPI Deep Neural Network Library (oneDNN) to use the following CPU instructions in performance-critical operations:  AVX2 FMA\n",
      "To enable them in other operations, rebuild TensorFlow with the appropriate compiler flags.\n",
      "2024-11-15 16:44:54.807837: W tensorflow/stream_executor/platform/default/dso_loader.cc:64] Could not load dynamic library 'libcudart.so.11.0'; dlerror: libcudart.so.11.0: cannot open shared object file: No such file or directory\n",
      "2024-11-15 16:44:54.807855: I tensorflow/stream_executor/cuda/cudart_stub.cc:29] Ignore above cudart dlerror if you do not have a GPU set up on your machine.\n",
      "2024-11-15 16:44:54.827956: E tensorflow/stream_executor/cuda/cuda_blas.cc:2981] Unable to register cuBLAS factory: Attempting to register factory for plugin cuBLAS when one has already been registered\n",
      "2024-11-15 16:44:55.515689: W tensorflow/stream_executor/platform/default/dso_loader.cc:64] Could not load dynamic library 'libnvinfer.so.7'; dlerror: libnvinfer.so.7: cannot open shared object file: No such file or directory\n",
      "2024-11-15 16:44:55.515765: W tensorflow/stream_executor/platform/default/dso_loader.cc:64] Could not load dynamic library 'libnvinfer_plugin.so.7'; dlerror: libnvinfer_plugin.so.7: cannot open shared object file: No such file or directory\n",
      "2024-11-15 16:44:55.515771: W tensorflow/compiler/tf2tensorrt/utils/py_utils.cc:38] TF-TRT Warning: Cannot dlopen some TensorRT libraries. If you would like to use Nvidia GPU with TensorRT, please make sure the missing libraries mentioned above are installed properly.\n"
     ]
    }
   ],
   "source": [
    "import time\n",
    "from collections import deque, namedtuple\n",
    "\n",
    "import gym\n",
    "import utils\n",
    "from pyvirtualdisplay import Display\n",
    "import numpy as np\n",
    "import PIL.Image\n",
    "import tensorflow as tf\n",
    "\n",
    "\n",
    "\n",
    "from keras import Sequential\n",
    "from keras.layers import Dense, Input\n",
    "from keras.losses import MSE\n",
    "from tensorflow.keras.optimizers import Adam\n"
   ]
  },
  {
   "cell_type": "code",
   "execution_count": 2,
   "metadata": {},
   "outputs": [
    {
     "name": "stdout",
     "output_type": "stream",
     "text": [
      "No GPUs detected.\n"
     ]
    },
    {
     "name": "stderr",
     "output_type": "stream",
     "text": [
      "2024-11-15 16:44:56.801232: I tensorflow/stream_executor/cuda/cuda_gpu_executor.cc:966] could not open file to read NUMA node: /sys/bus/pci/devices/0000:01:00.0/numa_node\n",
      "Your kernel may have been built without NUMA support.\n",
      "2024-11-15 16:44:56.801358: W tensorflow/stream_executor/platform/default/dso_loader.cc:64] Could not load dynamic library 'libcudart.so.11.0'; dlerror: libcudart.so.11.0: cannot open shared object file: No such file or directory\n",
      "2024-11-15 16:44:56.801400: W tensorflow/stream_executor/platform/default/dso_loader.cc:64] Could not load dynamic library 'libcublas.so.11'; dlerror: libcublas.so.11: cannot open shared object file: No such file or directory\n",
      "2024-11-15 16:44:56.801435: W tensorflow/stream_executor/platform/default/dso_loader.cc:64] Could not load dynamic library 'libcublasLt.so.11'; dlerror: libcublasLt.so.11: cannot open shared object file: No such file or directory\n",
      "2024-11-15 16:44:56.801467: W tensorflow/stream_executor/platform/default/dso_loader.cc:64] Could not load dynamic library 'libcufft.so.10'; dlerror: libcufft.so.10: cannot open shared object file: No such file or directory\n",
      "2024-11-15 16:44:56.801537: W tensorflow/stream_executor/platform/default/dso_loader.cc:64] Could not load dynamic library 'libcurand.so.10'; dlerror: libcurand.so.10: cannot open shared object file: No such file or directory\n",
      "2024-11-15 16:44:56.801575: W tensorflow/stream_executor/platform/default/dso_loader.cc:64] Could not load dynamic library 'libcusolver.so.11'; dlerror: libcusolver.so.11: cannot open shared object file: No such file or directory\n",
      "2024-11-15 16:44:56.801606: W tensorflow/stream_executor/platform/default/dso_loader.cc:64] Could not load dynamic library 'libcusparse.so.11'; dlerror: libcusparse.so.11: cannot open shared object file: No such file or directory\n",
      "2024-11-15 16:44:56.801636: W tensorflow/stream_executor/platform/default/dso_loader.cc:64] Could not load dynamic library 'libcudnn.so.8'; dlerror: libcudnn.so.8: cannot open shared object file: No such file or directory\n",
      "2024-11-15 16:44:56.801659: W tensorflow/core/common_runtime/gpu/gpu_device.cc:1934] Cannot dlopen some GPU libraries. Please make sure the missing libraries mentioned above are installed properly if you would like to use GPU. Follow the guide at https://www.tensorflow.org/install/gpu for how to download and setup the required libraries for your platform.\n",
      "Skipping registering GPU devices...\n"
     ]
    }
   ],
   "source": [
    "# List all physical devices (including GPUs)\n",
    "gpus = tf.config.list_physical_devices('GPU')\n",
    "\n",
    "if gpus:\n",
    "    for gpu in gpus:\n",
    "        print(f\"Device: {gpu}\")\n",
    "        \n",
    "        # Get memory info (optional)\n",
    "        memory_info = tf.config.experimental.get_memory_info(gpu)\n",
    "        print(f\"Memory Info: {memory_info}\")\n",
    "else:\n",
    "    print(\"No GPUs detected.\")\n"
   ]
  },
  {
   "cell_type": "code",
   "execution_count": 3,
   "metadata": {
    "deletable": false,
    "editable": false
   },
   "outputs": [],
   "source": [
    "# Set up a virtual display to render the Lunar Lander environment.\n",
    "Display(visible=0, size=(840, 480)).start();\n",
    "\n",
    "# Set the random seed for TensorFlow\n",
    "tf.random.set_seed(utils.SEED)"
   ]
  },
  {
   "cell_type": "markdown",
   "metadata": {},
   "source": [
    "<a name=\"2\"></a>\n",
    "## 2 - Hyperparameters\n",
    "\n",
    "Run the cell below to set the hyperparameters."
   ]
  },
  {
   "cell_type": "code",
   "execution_count": 4,
   "metadata": {
    "deletable": false,
    "editable": false
   },
   "outputs": [],
   "source": [
    "MEMORY_SIZE = 100_000     # size of memory buffer\n",
    "GAMMA = 0.995             # discount factor\n",
    "ALPHA = 1e-3              # learning rate  \n",
    "NUM_STEPS_FOR_UPDATE = 4  # perform a learning update every C time steps"
   ]
  },
  {
   "cell_type": "markdown",
   "metadata": {},
   "source": [
    "<a name=\"3\"></a>\n",
    "## 3 - The Lunar Lander Environment\n",
    "\n",
    "In this notebook we will be using [OpenAI's Gym Library](https://www.gymlibrary.dev/). The Gym library provides a wide variety of environments for reinforcement learning. To put it simply, an environment represents a problem or task to be solved. In this notebook, we will try to solve the Lunar Lander environment using reinforcement learning.\n",
    "\n",
    "The goal of the Lunar Lander environment is to land the lunar lander safely on the landing pad on the surface of the moon. The landing pad is designated by two flag poles and its center is at coordinates `(0,0)` but the lander is also allowed to land outside of the landing pad. The lander starts at the top center of the environment with a random initial force applied to its center of mass and has infinite fuel. The environment is considered solved if you get `200` points. \n",
    "\n",
    "![LunarLander](./images/C3_W3_A1_LunarLander.gif)\n",
    "<p style=\"text-align: center; font-style: italic\">Fig 1. Lunar Lander Environment</p>\n",
    "\n",
    "<a name=\"3.1\"></a>\n",
    "### 3.1 Action Space\n",
    "\n",
    "The agent has four discrete actions available:\n",
    "\n",
    "* Do nothing.\n",
    "* Fire right engine.\n",
    "* Fire main engine.\n",
    "* Fire left engine.\n",
    "\n",
    "Each action has a corresponding numerical value:\n",
    "\n",
    "```text\n",
    "Do nothing = 0\n",
    "Fire right engine = 1\n",
    "Fire main engine = 2\n",
    "Fire left engine = 3\n",
    "```\n",
    "\n",
    "<a name=\"3.2\"></a>\n",
    "### 3.2 Observation Space\n",
    "\n",
    "The agent's observation space consists of a state vector with 8 variables:\n",
    "\n",
    "* Its $(x,y)$ coordinates. The landing pad is always at coordinates $(0,0)$.\n",
    "* Its linear velocities $(\\dot x,\\dot y)$.\n",
    "* Its angle $\\theta$.\n",
    "* Its angular velocity $\\dot \\theta$.\n",
    "* Two booleans, $l$ and $r$, that represent whether each leg is in contact with the ground or not.\n",
    "\n",
    "<a name=\"3.3\"></a>\n",
    "### 3.3 Rewards\n",
    "\n",
    "After every step, a reward is granted. The total reward of an episode is the sum of the rewards for all the steps within that episode.\n",
    "\n",
    "For each step, the reward:\n",
    "- is increased/decreased the closer/further the lander is to the landing pad.\n",
    "- is increased/decreased the slower/faster the lander is moving.\n",
    "- is decreased the more the lander is tilted (angle not horizontal).\n",
    "- is increased by 10 points for each leg that is in contact with the ground.\n",
    "- is decreased by 0.03 points each frame a side engine is firing.\n",
    "- is decreased by 0.3 points each frame the main engine is firing.\n",
    "\n",
    "The episode receives an additional reward of -100 or +100 points for crashing or landing safely respectively.\n",
    "\n",
    "<a name=\"3.4\"></a>\n",
    "### 3.4 Episode Termination\n",
    "\n",
    "An episode ends (i.e the environment enters a terminal state) if:\n",
    "\n",
    "* The lunar lander crashes (i.e if the body of the lunar lander comes in contact with the surface of the moon).\n",
    "\n",
    "* The absolute value of the lander's $x$-coordinate is greater than 1 (i.e. it goes beyond the left or right border)\n",
    "\n",
    "You can check out the [Open AI Gym documentation](https://www.gymlibrary.dev/environments/box2d/lunar_lander/) for a full description of the environment. "
   ]
  },
  {
   "cell_type": "markdown",
   "metadata": {},
   "source": [
    "<a name=\"4\"></a>\n",
    "## 4 - Load the Environment\n",
    "\n",
    "We start by loading the `LunarLander-v2` environment from the `gym` library by using the `.make()` method. `LunarLander-v2` is the latest version of the Lunar Lander environment and you can read about its version history in the [Open AI Gym documentation](https://www.gymlibrary.dev/environments/box2d/lunar_lander/#version-history)."
   ]
  },
  {
   "cell_type": "code",
   "execution_count": 5,
   "metadata": {
    "deletable": false,
    "editable": false,
    "id": "ILVMYKewfR0n"
   },
   "outputs": [
    {
     "name": "stderr",
     "output_type": "stream",
     "text": [
      "/home/hope1300/.local/lib/python3.10/site-packages/gym/core.py:317: DeprecationWarning: \u001b[33mWARN: Initializing wrapper in old step API which returns one bool instead of two. It is recommended to set `new_step_api=True` to use new step API. This will be the default behaviour in future.\u001b[0m\n",
      "  deprecation(\n",
      "/home/hope1300/.local/lib/python3.10/site-packages/gym/wrappers/step_api_compatibility.py:39: DeprecationWarning: \u001b[33mWARN: Initializing environment in old step API which returns one bool instead of two. It is recommended to set `new_step_api=True` to use new step API. This will be the default behaviour in future.\u001b[0m\n",
      "  deprecation(\n"
     ]
    }
   ],
   "source": [
    "env = gym.make('LunarLander-v2')"
   ]
  },
  {
   "cell_type": "markdown",
   "metadata": {},
   "source": [
    "Once we load the environment we use the `.reset()` method to reset the environment to the initial state. The lander starts at the top center of the environment and we can render the first frame of the environment by using the `.render()` method."
   ]
  },
  {
   "cell_type": "code",
   "execution_count": 6,
   "metadata": {
    "deletable": false,
    "editable": false
   },
   "outputs": [
    {
     "name": "stderr",
     "output_type": "stream",
     "text": [
      "/home/hope1300/.local/lib/python3.10/site-packages/gym/core.py:43: DeprecationWarning: \u001b[33mWARN: The argument mode in render method is deprecated; use render_mode during environment initialization instead.\n",
      "See here for more information: https://www.gymlibrary.ml/content/api/\u001b[0m\n",
      "  deprecation(\n"
     ]
    },
    {
     "data": {
      "image/jpeg": "[encoded data removed]",
      "image/png": "[encoded data removed]",
      "text/plain": [
       "<PIL.Image.Image image mode=RGB size=600x400>"
      ]
     },
     "execution_count": 6,
     "metadata": {},
     "output_type": "execute_result"
    }
   ],
   "source": [
    "env.reset()\n",
    "PIL.Image.fromarray(env.render(mode='rgb_array'))"
   ]
  },
  {
   "cell_type": "markdown",
   "metadata": {},
   "source": [
    "In order to build our neural network later on we need to know the size of the state vector and the number of valid actions. We can get this information from our environment by using the `.observation_space.shape` and `action_space.n` methods, respectively."
   ]
  },
  {
   "cell_type": "code",
   "execution_count": 7,
   "metadata": {
    "deletable": false,
    "editable": false,
    "id": "x3fdqdG4CUu2"
   },
   "outputs": [
    {
     "name": "stdout",
     "output_type": "stream",
     "text": [
      "State Shape: (8,)\n",
      "Number of actions: 4\n"
     ]
    }
   ],
   "source": [
    "state_size = env.observation_space.shape\n",
    "num_actions = env.action_space.n\n",
    "\n",
    "print('State Shape:', state_size)\n",
    "print('Number of actions:', num_actions)"
   ]
  },
  {
   "cell_type": "markdown",
   "metadata": {},
   "source": [
    "<a name=\"5\"></a>\n",
    "## 5 - Interacting with the Gym Environment\n",
    "\n",
    "The Gym library implements the standard “agent-environment loop” formalism:\n",
    "\n",
    "<br>\n",
    "<center>\n",
    "<video src = \"./videos/C3_W3_A1_RLFormalism.m4v\" width=\"840\" height=\"480\" controls autoplay loop poster=\"./images/C3_W3_A1_RLFormalism.png\"> </video>\n",
    "<figcaption style = \"text-align:center; font-style:italic\">Fig 2. Agent-environment Loop Formalism.</figcaption>\n",
    "</center>\n",
    "<br>\n",
    "\n",
    "In the standard “agent-environment loop” formalism, an agent interacts with the environment in discrete time steps $t=0,1,2,...$. At each time step $t$, the agent uses a policy $\\pi$ to select an action $A_t$ based on its observation of the environment's state $S_t$. The agent receives a numerical reward $R_t$ and on the next time step, moves to a new state $S_{t+1}$.\n",
    "\n",
    "<a name=\"5.1\"></a>\n",
    "### 5.1 Exploring the Environment's Dynamics\n",
    "\n",
    "In Open AI's Gym environments, we use the `.step()` method to run a single time step of the environment's dynamics. In the version of `gym` that we are using the `.step()` method accepts an action and returns four values:\n",
    "\n",
    "* `observation` (**object**): an environment-specific object representing your observation of the environment. In the Lunar Lander environment this corresponds to a numpy array containing the positions and velocities of the lander as described in section [3.2 Observation Space](#3.2).\n",
    "\n",
    "\n",
    "* `reward` (**float**): amount of reward returned as a result of taking the given action. In the Lunar Lander environment this corresponds to a float of type `numpy.float64` as described in section [3.3 Rewards](#3.3).\n",
    "\n",
    "\n",
    "* `done` (**boolean**): When done is `True`, it indicates the episode has terminated and it’s time to reset the environment. \n",
    "\n",
    "\n",
    "* `info` (**dictionary**): diagnostic information useful for debugging. We won't be using this variable in this notebook but it is shown here for completeness.\n",
    "\n",
    "To begin an episode, we need to reset the environment to an initial state. We do this by using the `.reset()` method. "
   ]
  },
  {
   "cell_type": "code",
   "execution_count": 8,
   "metadata": {
    "deletable": false,
    "editable": false
   },
   "outputs": [],
   "source": [
    "# Reset the environment and get the initial state.\n",
    "current_state = env.reset()"
   ]
  },
  {
   "cell_type": "markdown",
   "metadata": {},
   "source": [
    "Once the environment is reset, the agent can start taking actions in the environment by using the `.step()` method. Note that the agent can only take one action per time step. \n",
    "\n",
    "In the cell below you can select different actions and see how the returned values change depending on the action taken. Remember that in this environment the agent has four discrete actions available and we specify them in code by using their corresponding numerical value:\n",
    "\n",
    "```text\n",
    "Do nothing = 0\n",
    "Fire right engine = 1\n",
    "Fire main engine = 2\n",
    "Fire left engine = 3\n",
    "```"
   ]
  },
  {
   "cell_type": "code",
   "execution_count": 9,
   "metadata": {
    "deletable": false
   },
   "outputs": [
    {
     "name": "stderr",
     "output_type": "stream",
     "text": [
      "/mnt/f/Github/Unsupervised-ML-RL/Programming Assignments/Week 3/utils.py:357: DeprecationWarning: `np.bool` is a deprecated alias for the builtin `bool`. To silence this warning, use `bool` by itself. Doing this will not modify any behavior and is safe. If you specifically wanted the numpy scalar type, use `np.bool_` here.\n",
      "Deprecated in NumPy 1.20; for more details and guidance: https://numpy.org/devdocs/release/1.20.0-notes.html#deprecations\n",
      "  (STATE_VECTOR_COL_NAME, 'Ground contact', 'Left Leg?'): get_state(6, np.bool),\n"
     ]
    },
    {
     "data": {
      "text/html": [
       "<style type=\"text/css\">\n",
       "#T_79a08_ th {\n",
       "  border: 1px solid grey;\n",
       "  text-align: center;\n",
       "}\n",
       "#T_79a08_ tbody td {\n",
       "  border: 1px solid grey;\n",
       "  text-align: center;\n",
       "}\n",
       "#T_79a08_row0_col0, #T_79a08_row1_col1, #T_79a08_row1_col2, #T_79a08_row1_col3, #T_79a08_row1_col4, #T_79a08_row1_col5, #T_79a08_row1_col6, #T_79a08_row1_col7, #T_79a08_row1_col8, #T_79a08_row1_col9, #T_79a08_row1_col10, #T_79a08_row1_col11, #T_79a08_row2_col0, #T_79a08_row3_col1, #T_79a08_row3_col2, #T_79a08_row3_col3, #T_79a08_row3_col4, #T_79a08_row3_col5, #T_79a08_row3_col6, #T_79a08_row3_col7, #T_79a08_row3_col8, #T_79a08_row3_col9, #T_79a08_row3_col10, #T_79a08_row3_col11, #T_79a08_row4_col1, #T_79a08_row4_col2, #T_79a08_row4_col3, #T_79a08_row4_col4, #T_79a08_row4_col5, #T_79a08_row4_col6, #T_79a08_row4_col7, #T_79a08_row4_col8, #T_79a08_row4_col9, #T_79a08_row4_col10, #T_79a08_row4_col11 {\n",
       "  background-color: grey;\n",
       "}\n",
       "</style>\n",
       "<table id=\"T_79a08_\">\n",
       "  <thead>\n",
       "    <tr>\n",
       "      <th class=\"blank level0\" >&nbsp;</th>\n",
       "      <th class=\"col_heading level0 col0\" ></th>\n",
       "      <th class=\"col_heading level0 col1\" colspan=\"8\">State Vector</th>\n",
       "      <th class=\"col_heading level0 col9\" colspan=\"3\">Derived from the State Vector (the closer to zero, the better)</th>\n",
       "    </tr>\n",
       "    <tr>\n",
       "      <th class=\"blank level1\" >&nbsp;</th>\n",
       "      <th class=\"col_heading level1 col0\" ></th>\n",
       "      <th class=\"col_heading level1 col1\" colspan=\"2\">Coordinate</th>\n",
       "      <th class=\"col_heading level1 col3\" colspan=\"2\">Velocity</th>\n",
       "      <th class=\"col_heading level1 col5\" colspan=\"2\">Tilting</th>\n",
       "      <th class=\"col_heading level1 col7\" colspan=\"2\">Ground contact</th>\n",
       "      <th class=\"col_heading level1 col9\" >Distance from landing pad</th>\n",
       "      <th class=\"col_heading level1 col10\" >Velocity</th>\n",
       "      <th class=\"col_heading level1 col11\" >Tilting Angle (absolute value)</th>\n",
       "    </tr>\n",
       "    <tr>\n",
       "      <th class=\"blank level2\" >&nbsp;</th>\n",
       "      <th class=\"col_heading level2 col0\" ></th>\n",
       "      <th class=\"col_heading level2 col1\" >X (Horizontal)</th>\n",
       "      <th class=\"col_heading level2 col2\" >Y (Vertical)</th>\n",
       "      <th class=\"col_heading level2 col3\" >X (Horizontal)</th>\n",
       "      <th class=\"col_heading level2 col4\" >Y (Vertical)</th>\n",
       "      <th class=\"col_heading level2 col5\" >Angle</th>\n",
       "      <th class=\"col_heading level2 col6\" >Angular Velocity</th>\n",
       "      <th class=\"col_heading level2 col7\" >Left Leg?</th>\n",
       "      <th class=\"col_heading level2 col8\" >Right Leg?</th>\n",
       "      <th class=\"col_heading level2 col9\" ></th>\n",
       "      <th class=\"col_heading level2 col10\" ></th>\n",
       "      <th class=\"col_heading level2 col11\" ></th>\n",
       "    </tr>\n",
       "  </thead>\n",
       "  <tbody>\n",
       "    <tr>\n",
       "      <th id=\"T_79a08_level0_row0\" class=\"row_heading level0 row0\" >Current State</th>\n",
       "      <td id=\"T_79a08_row0_col0\" class=\"data row0 col0\" ></td>\n",
       "      <td id=\"T_79a08_row0_col1\" class=\"data row0 col1\" >0.005286</td>\n",
       "      <td id=\"T_79a08_row0_col2\" class=\"data row0 col2\" >1.413432</td>\n",
       "      <td id=\"T_79a08_row0_col3\" class=\"data row0 col3\" >0.535355</td>\n",
       "      <td id=\"T_79a08_row0_col4\" class=\"data row0 col4\" >0.111608</td>\n",
       "      <td id=\"T_79a08_row0_col5\" class=\"data row0 col5\" >-0.006118</td>\n",
       "      <td id=\"T_79a08_row0_col6\" class=\"data row0 col6\" >-0.121266</td>\n",
       "      <td id=\"T_79a08_row0_col7\" class=\"data row0 col7\" >False</td>\n",
       "      <td id=\"T_79a08_row0_col8\" class=\"data row0 col8\" >False</td>\n",
       "      <td id=\"T_79a08_row0_col9\" class=\"data row0 col9\" >1.413442</td>\n",
       "      <td id=\"T_79a08_row0_col10\" class=\"data row0 col10\" >0.546865</td>\n",
       "      <td id=\"T_79a08_row0_col11\" class=\"data row0 col11\" >0.006118</td>\n",
       "    </tr>\n",
       "    <tr>\n",
       "      <th id=\"T_79a08_level0_row1\" class=\"row_heading level0 row1\" >Action</th>\n",
       "      <td id=\"T_79a08_row1_col0\" class=\"data row1 col0\" >Do nothing</td>\n",
       "      <td id=\"T_79a08_row1_col1\" class=\"data row1 col1\" ></td>\n",
       "      <td id=\"T_79a08_row1_col2\" class=\"data row1 col2\" ></td>\n",
       "      <td id=\"T_79a08_row1_col3\" class=\"data row1 col3\" ></td>\n",
       "      <td id=\"T_79a08_row1_col4\" class=\"data row1 col4\" ></td>\n",
       "      <td id=\"T_79a08_row1_col5\" class=\"data row1 col5\" ></td>\n",
       "      <td id=\"T_79a08_row1_col6\" class=\"data row1 col6\" ></td>\n",
       "      <td id=\"T_79a08_row1_col7\" class=\"data row1 col7\" ></td>\n",
       "      <td id=\"T_79a08_row1_col8\" class=\"data row1 col8\" ></td>\n",
       "      <td id=\"T_79a08_row1_col9\" class=\"data row1 col9\" ></td>\n",
       "      <td id=\"T_79a08_row1_col10\" class=\"data row1 col10\" ></td>\n",
       "      <td id=\"T_79a08_row1_col11\" class=\"data row1 col11\" ></td>\n",
       "    </tr>\n",
       "    <tr>\n",
       "      <th id=\"T_79a08_level0_row2\" class=\"row_heading level0 row2\" >Next State</th>\n",
       "      <td id=\"T_79a08_row2_col0\" class=\"data row2 col0\" ></td>\n",
       "      <td id=\"T_79a08_row2_col1\" class=\"data row2 col1\" >0.010571</td>\n",
       "      <td id=\"T_79a08_row2_col2\" class=\"data row2 col2\" >1.415366</td>\n",
       "      <td id=\"T_79a08_row2_col3\" class=\"data row2 col3\" >0.534631</td>\n",
       "      <td id=\"T_79a08_row2_col4\" class=\"data row2 col4\" >0.085921</td>\n",
       "      <td id=\"T_79a08_row2_col5\" class=\"data row2 col5\" >-0.012110</td>\n",
       "      <td id=\"T_79a08_row2_col6\" class=\"data row2 col6\" >-0.119855</td>\n",
       "      <td id=\"T_79a08_row2_col7\" class=\"data row2 col7\" >False</td>\n",
       "      <td id=\"T_79a08_row2_col8\" class=\"data row2 col8\" >False</td>\n",
       "      <td id=\"T_79a08_row2_col9\" class=\"data row2 col9\" >1.415405</td>\n",
       "      <td id=\"T_79a08_row2_col10\" class=\"data row2 col10\" >0.541492</td>\n",
       "      <td id=\"T_79a08_row2_col11\" class=\"data row2 col11\" >0.012110</td>\n",
       "    </tr>\n",
       "    <tr>\n",
       "      <th id=\"T_79a08_level0_row3\" class=\"row_heading level0 row3\" >Reward</th>\n",
       "      <td id=\"T_79a08_row3_col0\" class=\"data row3 col0\" >-0.258234</td>\n",
       "      <td id=\"T_79a08_row3_col1\" class=\"data row3 col1\" ></td>\n",
       "      <td id=\"T_79a08_row3_col2\" class=\"data row3 col2\" ></td>\n",
       "      <td id=\"T_79a08_row3_col3\" class=\"data row3 col3\" ></td>\n",
       "      <td id=\"T_79a08_row3_col4\" class=\"data row3 col4\" ></td>\n",
       "      <td id=\"T_79a08_row3_col5\" class=\"data row3 col5\" ></td>\n",
       "      <td id=\"T_79a08_row3_col6\" class=\"data row3 col6\" ></td>\n",
       "      <td id=\"T_79a08_row3_col7\" class=\"data row3 col7\" ></td>\n",
       "      <td id=\"T_79a08_row3_col8\" class=\"data row3 col8\" ></td>\n",
       "      <td id=\"T_79a08_row3_col9\" class=\"data row3 col9\" ></td>\n",
       "      <td id=\"T_79a08_row3_col10\" class=\"data row3 col10\" ></td>\n",
       "      <td id=\"T_79a08_row3_col11\" class=\"data row3 col11\" ></td>\n",
       "    </tr>\n",
       "    <tr>\n",
       "      <th id=\"T_79a08_level0_row4\" class=\"row_heading level0 row4\" >Episode Terminated</th>\n",
       "      <td id=\"T_79a08_row4_col0\" class=\"data row4 col0\" >False</td>\n",
       "      <td id=\"T_79a08_row4_col1\" class=\"data row4 col1\" ></td>\n",
       "      <td id=\"T_79a08_row4_col2\" class=\"data row4 col2\" ></td>\n",
       "      <td id=\"T_79a08_row4_col3\" class=\"data row4 col3\" ></td>\n",
       "      <td id=\"T_79a08_row4_col4\" class=\"data row4 col4\" ></td>\n",
       "      <td id=\"T_79a08_row4_col5\" class=\"data row4 col5\" ></td>\n",
       "      <td id=\"T_79a08_row4_col6\" class=\"data row4 col6\" ></td>\n",
       "      <td id=\"T_79a08_row4_col7\" class=\"data row4 col7\" ></td>\n",
       "      <td id=\"T_79a08_row4_col8\" class=\"data row4 col8\" ></td>\n",
       "      <td id=\"T_79a08_row4_col9\" class=\"data row4 col9\" ></td>\n",
       "      <td id=\"T_79a08_row4_col10\" class=\"data row4 col10\" ></td>\n",
       "      <td id=\"T_79a08_row4_col11\" class=\"data row4 col11\" ></td>\n",
       "    </tr>\n",
       "  </tbody>\n",
       "</table>\n"
      ],
      "text/plain": [
       "<pandas.io.formats.style.Styler at 0x7fe6f343e830>"
      ]
     },
     "metadata": {},
     "output_type": "display_data"
    }
   ],
   "source": [
    "# Select an action\n",
    "action = 0\n",
    "\n",
    "# Run a single time step of the environment's dynamics with the given action.\n",
    "next_state, reward, done, _ = env.step(action)\n",
    "\n",
    "# Display table with values.\n",
    "utils.display_table(current_state, action, next_state, reward, done)\n",
    "\n",
    "# Replace the `current_state` with the state after the action is taken\n",
    "current_state = next_state"
   ]
  },
  {
   "cell_type": "markdown",
   "metadata": {},
   "source": [
    "In practice, when we train the agent we use a loop to allow the agent to take many consecutive actions during an episode."
   ]
  },
  {
   "cell_type": "markdown",
   "metadata": {},
   "source": [
    "<a name=\"6\"></a>\n",
    "## 6 - Deep Q-Learning\n",
    "\n",
    "In cases where both the state and action space are discrete we can estimate the action-value function iteratively by using the Bellman equation:\n",
    "\n",
    "$$\n",
    "Q_{i+1}(s,a) = R + \\gamma \\max_{a'}Q_i(s',a')\n",
    "$$\n",
    "\n",
    "This iterative method converges to the optimal action-value function $Q^*(s,a)$ as $i\\to\\infty$. This means that the agent just needs to gradually explore the state-action space and keep updating the estimate of $Q(s,a)$ until it converges to the optimal action-value function $Q^*(s,a)$. However, in cases where the state space is continuous it becomes practically impossible to explore the entire state-action space. Consequently, this also makes it practically impossible to gradually estimate $Q(s,a)$ until it converges to $Q^*(s,a)$.\n",
    "\n",
    "In the Deep $Q$-Learning, we solve this problem by using a neural network to estimate the action-value function $Q(s,a)\\approx Q^*(s,a)$. We call this neural network a $Q$-Network and it can be trained by adjusting its weights at each iteration to minimize the mean-squared error in the Bellman equation.\n",
    "\n",
    "Unfortunately, using neural networks in reinforcement learning to estimate action-value functions has proven to be highly unstable. Luckily, there's a couple of techniques that can be employed to avoid instabilities. These techniques consist of using a ***Target Network*** and ***Experience Replay***. We will explore these two techniques in the following sections."
   ]
  },
  {
   "cell_type": "markdown",
   "metadata": {},
   "source": [
    "<a name=\"6.1\"></a>\n",
    "### 6.1 Target Network\n",
    "\n",
    "We can train the $Q$-Network by adjusting it's weights at each iteration to minimize the mean-squared error in the Bellman equation, where the target values are given by:\n",
    "\n",
    "$$\n",
    "y = R + \\gamma \\max_{a'}Q(s',a';w)\n",
    "$$\n",
    "\n",
    "where $w$ are the weights of the $Q$-Network. This means that we are adjusting the weights $w$ at each iteration to minimize the following error:\n",
    "\n",
    "$$\n",
    "\\overbrace{\\underbrace{R + \\gamma \\max_{a'}Q(s',a'; w)}_{\\rm {y~target}} - Q(s,a;w)}^{\\rm {Error}}\n",
    "$$\n",
    "\n",
    "Notice that this forms a problem because the $y$ target is changing on every iteration. Having a constantly moving target can lead to oscillations and instabilities. To avoid this, we can create\n",
    "a separate neural network for generating the $y$ targets. We call this separate neural network the **target $\\hat Q$-Network** and it will have the same architecture as the original $Q$-Network. By using the target $\\hat Q$-Network, the above error becomes:\n",
    "\n",
    "$$\n",
    "\\overbrace{\\underbrace{R + \\gamma \\max_{a'}\\hat{Q}(s',a'; w^-)}_{\\rm {y~target}} - Q(s,a;w)}^{\\rm {Error}}\n",
    "$$\n",
    "\n",
    "where $w^-$ and $w$ are the weights of the target $\\hat Q$-Network and $Q$-Network, respectively.\n",
    "\n",
    "In practice, we will use the following algorithm: every $C$ time steps we will use the $\\hat Q$-Network to generate the $y$ targets and update the weights of the target $\\hat Q$-Network using the weights of the $Q$-Network. We will update the weights $w^-$ of the the target $\\hat Q$-Network using a **soft update**. This means that we will update the weights $w^-$ using the following rule:\n",
    " \n",
    "$$\n",
    "w^-\\leftarrow \\tau w + (1 - \\tau) w^-\n",
    "$$\n",
    "\n",
    "where $\\tau\\ll 1$. By using the soft update, we are ensuring that the target values, $y$, change slowly, which greatly improves the stability of our learning algorithm."
   ]
  },
  {
   "cell_type": "markdown",
   "metadata": {},
   "source": [
    "<a name=\"ex01\"></a>\n",
    "### Exercise 1\n",
    "\n",
    "In this exercise you will create the $Q$ and target $\\hat Q$ networks and set the optimizer. Remember that the Deep $Q$-Network (DQN) is a neural network that approximates the action-value function $Q(s,a)\\approx Q^*(s,a)$. It does this by learning how to map states to $Q$ values.\n",
    "\n",
    "To solve the Lunar Lander environment, we are going to employ a DQN with the following architecture:\n",
    "\n",
    "* An `Input` layer that takes `state_size` as input.\n",
    "\n",
    "* A `Dense` layer with `64` units and a `relu` activation function.\n",
    "\n",
    "* A `Dense` layer with `64` units and a `relu` activation function.\n",
    "\n",
    "* A `Dense` layer with `num_actions` units and a `linear` activation function. This will be the output layer of our network.\n",
    "\n",
    "\n",
    "In the cell below you should create the $Q$-Network and the target $\\hat Q$-Network using the model architecture described above. Remember that both the $Q$-Network and the target $\\hat Q$-Network have the same architecture.\n",
    "\n",
    "Lastly, you should set `Adam` as the optimizer with a learning rate equal to `ALPHA`. Recall that `ALPHA` was defined in the [Hyperparameters](#2) section. We should note that for this exercise you should use the already imported packages:\n",
    "```python\n",
    "from tensorflow.keras.layers import Dense, Input\n",
    "from tensorflow.keras.optimizers import Adam\n",
    "```"
   ]
  },
  {
   "cell_type": "code",
   "execution_count": 10,
   "metadata": {
    "deletable": false
   },
   "outputs": [
    {
     "name": "stderr",
     "output_type": "stream",
     "text": [
      "2024-11-15 16:44:58.229170: I tensorflow/core/platform/cpu_feature_guard.cc:193] This TensorFlow binary is optimized with oneAPI Deep Neural Network Library (oneDNN) to use the following CPU instructions in performance-critical operations:  AVX2 FMA\n",
      "To enable them in other operations, rebuild TensorFlow with the appropriate compiler flags.\n",
      "/usr/lib/python3.10/random.py:370: DeprecationWarning: non-integer arguments to randrange() have been deprecated since Python 3.10 and will be removed in a subsequent version\n",
      "  return self.randrange(a, b+1)\n"
     ]
    }
   ],
   "source": [
    "# UNQ_C1\n",
    "# GRADED CELL\n",
    "\n",
    "# Create the Q-Network\n",
    "q_network = Sequential([\n",
    "    ### START CODE HERE ### \n",
    "    Input(shape=state_size),\n",
    "    Dense(64, activation='relu'),\n",
    "    Dense(64, activation='relu'),\n",
    "    Dense(num_actions)\n",
    "    ### END CODE HERE ### \n",
    "])\n",
    "\n",
    "# Create the target Q^-Network\n",
    "target_q_network = Sequential([\n",
    "    ### START CODE HERE ### \n",
    "    Input(shape=state_size),\n",
    "    Dense(64, activation='relu'),\n",
    "    Dense(64, activation='relu'),\n",
    "    Dense(num_actions)\n",
    "    ### END CODE HERE ###\n",
    "])\n",
    "\n",
    "### START CODE HERE ### \n",
    "optimizer = Adam(learning_rate=ALPHA)\n",
    "### END CODE HERE ###"
   ]
  },
  {
   "cell_type": "code",
   "execution_count": 11,
   "metadata": {
    "deletable": false,
    "editable": false
   },
   "outputs": [
    {
     "name": "stdout",
     "output_type": "stream",
     "text": [
      "\u001b[92mAll tests passed!\n",
      "\u001b[92mAll tests passed!\n",
      "\u001b[92mAll tests passed!\n"
     ]
    }
   ],
   "source": [
    "# UNIT TEST\n",
    "from public_tests import *\n",
    "\n",
    "test_network(q_network)\n",
    "test_network(target_q_network)\n",
    "test_optimizer(optimizer, ALPHA) "
   ]
  },
  {
   "cell_type": "markdown",
   "metadata": {},
   "source": [
    "<details>\n",
    "  <summary><font size=\"3\" color=\"darkgreen\"><b>Click for hints</b></font></summary>\n",
    "    \n",
    "```python\n",
    "# Create the Q-Network\n",
    "q_network = Sequential([\n",
    "    Input(shape=state_size),                      \n",
    "    Dense(units=64, activation='relu'),            \n",
    "    Dense(units=64, activation='relu'),            \n",
    "    Dense(units=num_actions, activation='linear'),\n",
    "    ])\n",
    "\n",
    "# Create the target Q^-Network\n",
    "target_q_network = Sequential([\n",
    "    Input(shape=state_size),                       \n",
    "    Dense(units=64, activation='relu'),            \n",
    "    Dense(units=64, activation='relu'),            \n",
    "    Dense(units=num_actions, activation='linear'), \n",
    "    ])\n",
    "\n",
    "optimizer = Adam(learning_rate=ALPHA)                                  \n",
    "``` "
   ]
  },
  {
   "cell_type": "markdown",
   "metadata": {},
   "source": [
    "<a name=\"6.2\"></a>\n",
    "### 6.2 Experience Replay\n",
    "\n",
    "When an agent interacts with the environment, the states, actions, and rewards the agent experiences are sequential by nature. If the agent tries to learn from these consecutive experiences it can run into problems due to the strong correlations between them. To avoid this, we employ a technique known as **Experience Replay** to generate uncorrelated experiences for training our agent. Experience replay consists of storing the agent's experiences (i.e the states, actions, and rewards the agent receives) in a memory buffer and then sampling a random mini-batch of experiences from the buffer to do the learning. The experience tuples $(S_t, A_t, R_t, S_{t+1})$ will be added to the memory buffer at each time step as the agent interacts with the environment.\n",
    "\n",
    "For convenience, we will store the experiences as named tuples."
   ]
  },
  {
   "cell_type": "code",
   "execution_count": 12,
   "metadata": {
    "deletable": false,
    "editable": false
   },
   "outputs": [],
   "source": [
    "# Store experiences as named tuples\n",
    "experience = namedtuple(\"Experience\", field_names=[\"state\", \"action\", \"reward\", \"next_state\", \"done\"])"
   ]
  },
  {
   "cell_type": "markdown",
   "metadata": {},
   "source": [
    "By using experience replay we avoid problematic correlations, oscillations and instabilities. In addition, experience replay also allows the agent to potentially use the same experience in multiple weight updates, which increases data efficiency."
   ]
  },
  {
   "cell_type": "markdown",
   "metadata": {},
   "source": [
    "<a name=\"7\"></a>\n",
    "## 7 - Deep Q-Learning Algorithm with Experience Replay\n",
    "\n",
    "Now that we know all the techniques that we are going to use, we can put them together to arrive at the Deep Q-Learning Algorithm With Experience Replay.\n",
    "<br>\n",
    "<br>\n",
    "<figure>\n",
    "  <img src = \"./images/C3_W3_A1_DeepQLearning.png\" width = 90% style = \"border: thin silver solid; padding: 0px\">\n",
    "      <figcaption style = \"text-align: center; font-style: italic\">Fig 3. Deep Q-Learning with Experience Replay.</figcaption>\n",
    "</figure>"
   ]
  },
  {
   "cell_type": "markdown",
   "metadata": {},
   "source": [
    "<a name=\"ex02\"></a>\n",
    "### Exercise 2\n",
    "\n",
    "In this exercise you will implement line ***12*** of the algorithm outlined in *Fig 3* above and you will also compute the loss between the $y$ targets and the $Q(s,a)$ values. In the cell below, complete the `compute_loss` function by setting the $y$ targets equal to:\n",
    "\n",
    "$$\n",
    "\\begin{equation}\n",
    "    y_j =\n",
    "    \\begin{cases}\n",
    "      R_j & \\text{if episode terminates at step  } j+1\\\\\n",
    "      R_j + \\gamma \\max_{a'}\\hat{Q}(s_{j+1},a') & \\text{otherwise}\\\\\n",
    "    \\end{cases}       \n",
    "\\end{equation}\n",
    "$$\n",
    "\n",
    "Here are a couple of things to note:\n",
    "\n",
    "* The `compute_loss` function takes in a mini-batch of experience tuples. This mini-batch of experience tuples is unpacked to extract the `states`, `actions`, `rewards`, `next_states`, and `done_vals`. You should keep in mind that these variables are *TensorFlow Tensors* whose size will depend on the mini-batch size. For example, if the mini-batch size is `64` then both `rewards` and `done_vals` will be TensorFlow Tensors with `64` elements.\n",
    "\n",
    "\n",
    "* Using `if/else` statements to set the $y$ targets will not work when the variables are tensors with many elements. However, notice that you can use the `done_vals` to implement the above in a single line of code. To do this, recall that the `done` variable is a Boolean variable that takes the value `True` when an episode terminates at step $j+1$ and it is `False` otherwise. Taking into account that a Boolean value of `True` has the numerical value of `1` and a Boolean value of `False` has the numerical value of `0`, you can use the factor `(1 - done_vals)` to implement the above in a single line of code. Here's a hint: notice that `(1 - done_vals)` has a value of `0` when `done_vals` is `True` and a value of `1` when `done_vals` is `False`. \n",
    "\n",
    "Lastly, compute the loss by calculating the Mean-Squared Error (`MSE`) between the `y_targets` and the `q_values`. To calculate the mean-squared error you should use the already imported package `MSE`:\n",
    "```python\n",
    "from tensorflow.keras.losses import MSE\n",
    "```"
   ]
  },
  {
   "cell_type": "code",
   "execution_count": 13,
   "metadata": {
    "deletable": false
   },
   "outputs": [],
   "source": [
    "# UNQ_C2\n",
    "# GRADED FUNCTION: calculate_loss\n",
    "\n",
    "def compute_loss(experiences, gamma, q_network, target_q_network):\n",
    "    \"\"\" \n",
    "    Calculates the loss.\n",
    "    \n",
    "    Args:\n",
    "      experiences: (tuple) tuple of [\"state\", \"action\", \"reward\", \"next_state\", \"done\"] namedtuples\n",
    "      gamma: (float) The discount factor.\n",
    "      q_network: (tf.keras.Sequential) Keras model for predicting the q_values\n",
    "      target_q_network: (tf.keras.Sequential) Keras model for predicting the targets\n",
    "          \n",
    "    Returns:\n",
    "      loss: (TensorFlow Tensor(shape=(0,), dtype=int32)) the Mean-Squared Error between\n",
    "            the y targets and the Q(s,a) values.\n",
    "    \"\"\"\n",
    "\n",
    "    # Unpack the mini-batch of experience tuples\n",
    "    states, actions, rewards, next_states, done_vals = experiences\n",
    "    \n",
    "    # Compute max Q^(s,a)\n",
    "    max_qsa = tf.reduce_max(target_q_network(next_states), axis=-1)\n",
    "    \n",
    "    # Set y = R if episode terminates, otherwise set y = R + γ max Q^(s,a).\n",
    "    ### START CODE HERE ### \n",
    "    y_targets = rewards + (1 - done_vals) * gamma * max_qsa\n",
    "    ### END CODE HERE ###\n",
    "    \n",
    "    # Get the q_values and reshape to match y_targets\n",
    "    q_values = q_network(states)\n",
    "    q_values = tf.gather_nd(q_values, tf.stack([tf.range(q_values.shape[0]),\n",
    "                                                tf.cast(actions, tf.int32)], axis=1))\n",
    "        \n",
    "    # Compute the loss\n",
    "    ### START CODE HERE ### \n",
    "    loss = MSE(y_targets, q_values)\n",
    "    ### END CODE HERE ### \n",
    "    \n",
    "    return loss"
   ]
  },
  {
   "cell_type": "code",
   "execution_count": 14,
   "metadata": {
    "deletable": false,
    "editable": false
   },
   "outputs": [
    {
     "name": "stdout",
     "output_type": "stream",
     "text": [
      "\u001b[92mAll tests passed!\n"
     ]
    }
   ],
   "source": [
    "# UNIT TEST    \n",
    "test_compute_loss(compute_loss)"
   ]
  },
  {
   "cell_type": "markdown",
   "metadata": {},
   "source": [
    "<details>\n",
    "  <summary><font size=\"3\" color=\"darkgreen\"><b>Click for hints</b></font></summary>\n",
    "    \n",
    "```python\n",
    "def compute_loss(experiences, gamma, q_network, target_q_network):\n",
    "    \"\"\" \n",
    "    Calculates the loss.\n",
    "    \n",
    "    Args:\n",
    "      experiences: (tuple) tuple of [\"state\", \"action\", \"reward\", \"next_state\", \"done\"] namedtuples\n",
    "      gamma: (float) The discount factor.\n",
    "      q_network: (tf.keras.Sequential) Keras model for predicting the q_values\n",
    "      target_q_network: (tf.keras.Sequential) Keras model for predicting the targets\n",
    "          \n",
    "    Returns:\n",
    "      loss: (TensorFlow Tensor(shape=(0,), dtype=int32)) the Mean-Squared Error between\n",
    "            the y targets and the Q(s,a) values.\n",
    "    \"\"\"\n",
    "\n",
    "    \n",
    "    # Unpack the mini-batch of experience tuples\n",
    "    states, actions, rewards, next_states, done_vals = experiences\n",
    "    \n",
    "    # Compute max Q^(s,a)\n",
    "    max_qsa = tf.reduce_max(target_q_network(next_states), axis=-1)\n",
    "    \n",
    "    # Set y = R if episode terminates, otherwise set y = R + γ max Q^(s,a).\n",
    "    y_targets = rewards + (gamma * max_qsa * (1 - done_vals))\n",
    "    \n",
    "    # Get the q_values\n",
    "    q_values = q_network(states)\n",
    "    q_values = tf.gather_nd(q_values, tf.stack([tf.range(q_values.shape[0]),\n",
    "                                                tf.cast(actions, tf.int32)], axis=1))\n",
    "    \n",
    "    # Calculate the loss\n",
    "    loss = MSE(y_targets, q_values)\n",
    "    \n",
    "    return loss\n",
    "\n",
    "``` \n",
    "    "
   ]
  },
  {
   "cell_type": "markdown",
   "metadata": {},
   "source": [
    "<a name=\"8\"></a>\n",
    "## 8 - Update the Network Weights\n",
    "\n",
    "We will use the `agent_learn` function below to implement lines ***12 -14*** of the algorithm outlined in [Fig 3](#7). The `agent_learn` function will update the weights of the $Q$ and target $\\hat Q$ networks using a custom training loop. Because we are using a custom training loop we need to retrieve the gradients via a `tf.GradientTape` instance, and then call `optimizer.apply_gradients()` to update the weights of our $Q$-Network. Note that we are also using the `@tf.function` decorator to increase performance. Without this decorator our training will take twice as long. If you would like to know more about how to increase performance with `@tf.function` take a look at the [TensorFlow documentation](https://www.tensorflow.org/guide/function).\n",
    "\n",
    "The last line of this function updates the weights of the target $\\hat Q$-Network using a [soft update](#6.1). If you want to know how this is implemented in code we encourage you to take a look at the `utils.update_target_network` function in the `utils` module."
   ]
  },
  {
   "cell_type": "code",
   "execution_count": 15,
   "metadata": {
    "deletable": false,
    "editable": false
   },
   "outputs": [],
   "source": [
    "@tf.function\n",
    "def agent_learn(experiences, gamma):\n",
    "    \"\"\"\n",
    "    Updates the weights of the Q networks.\n",
    "    \n",
    "    Args:\n",
    "      experiences: (tuple) tuple of [\"state\", \"action\", \"reward\", \"next_state\", \"done\"] namedtuples\n",
    "      gamma: (float) The discount factor.\n",
    "    \n",
    "    \"\"\"\n",
    "    \n",
    "    # Calculate the loss\n",
    "    with tf.GradientTape() as tape:\n",
    "        loss = compute_loss(experiences, gamma, q_network, target_q_network)\n",
    "\n",
    "    # Get the gradients of the loss with respect to the weights.\n",
    "    gradients = tape.gradient(loss, q_network.trainable_variables)\n",
    "    \n",
    "    # Update the weights of the q_network.\n",
    "    optimizer.apply_gradients(zip(gradients, q_network.trainable_variables))\n",
    "\n",
    "    # update the weights of target q_network\n",
    "    utils.update_target_network(q_network, target_q_network)"
   ]
  },
  {
   "cell_type": "markdown",
   "metadata": {},
   "source": [
    "<a name=\"9\"></a>\n",
    "## 9 - Train the Agent\n",
    "\n",
    "We are now ready to train our agent to solve the Lunar Lander environment. In the cell below we will implement the algorithm in [Fig 3](#7) line by line (please note that we have included the same algorithm below for easy reference. This will prevent you from scrolling up and down the notebook):\n",
    "\n",
    "* **Line 1**: We initialize the `memory_buffer` with a capacity of $N =$ `MEMORY_SIZE`. Notice that we are using a `deque` as the data structure for our `memory_buffer`.\n",
    "\n",
    "\n",
    "* **Line 2**: We skip this line since we already initialized the `q_network` in [Exercise 1](#ex01).\n",
    "\n",
    "\n",
    "* **Line 3**: We initialize the `target_q_network` by setting its weights to be equal to those of the `q_network`.\n",
    "\n",
    "\n",
    "* **Line 4**: We start the outer loop. Notice that we have set $M =$ `num_episodes = 2000`. This number is reasonable because the agent should be able to solve the Lunar Lander environment in less than `2000` episodes using this notebook's default parameters.\n",
    "\n",
    "\n",
    "* **Line 5**: We use the `.reset()` method to reset the environment to the initial state and get the initial state.\n",
    "\n",
    "\n",
    "* **Line 6**: We start the inner loop. Notice that we have set $T =$ `max_num_timesteps = 1000`. This means that the episode will automatically terminate if the episode hasn't terminated after `1000` time steps.\n",
    "\n",
    "\n",
    "* **Line 7**: The agent observes the current `state` and chooses an `action` using an $\\epsilon$-greedy policy. Our agent starts out using a value of $\\epsilon =$ `epsilon = 1` which yields an $\\epsilon$-greedy policy that is equivalent to the equiprobable random policy. This means that at the beginning of our training, the agent is just going to take random actions regardless of the observed `state`. As training progresses we will decrease the value of $\\epsilon$ slowly towards a minimum value using a given $\\epsilon$-decay rate. We want this minimum value to be close to zero because a value of $\\epsilon = 0$ will yield an $\\epsilon$-greedy policy that is equivalent to the greedy policy. This means that towards the end of training, the agent will lean towards selecting the `action` that it believes (based on its past experiences) will maximize $Q(s,a)$. We will set the minimum $\\epsilon$ value to be `0.01` and not exactly 0 because we always want to keep a little bit of exploration during training. If you want to know how this is implemented in code we encourage you to take a look at the `utils.get_action` function in the `utils` module.\n",
    "\n",
    "\n",
    "* **Line 8**: We use the `.step()` method to take the given `action` in the environment and get the `reward` and the `next_state`. \n",
    "\n",
    "\n",
    "* **Line 9**: We store the `experience(state, action, reward, next_state, done)` tuple in our `memory_buffer`. Notice that we also store the `done` variable so that we can keep track of when an episode terminates. This allowed us to set the $y$ targets in [Exercise 2](#ex02).\n",
    "\n",
    "\n",
    "* **Line 10**: We check if the conditions are met to perform a learning update. We do this by using our custom `utils.check_update_conditions` function. This function checks if $C =$ `NUM_STEPS_FOR_UPDATE = 4` time steps have occured and if our `memory_buffer` has enough experience tuples to fill a mini-batch. For example, if the mini-batch size is `64`, then our `memory_buffer` should have more than `64` experience tuples in order to pass the latter condition. If the conditions are met, then the `utils.check_update_conditions` function will return a value of `True`, otherwise it will return a value of `False`.\n",
    "\n",
    "\n",
    "* **Lines 11 - 14**: If the `update` variable is `True` then we perform a learning update. The learning update consists of sampling a random mini-batch of experience tuples from our `memory_buffer`, setting the $y$ targets, performing gradient descent, and updating the weights of the networks. We will use the `agent_learn` function we defined in [Section 8](#8) to perform the latter 3.\n",
    "\n",
    "\n",
    "* **Line 15**: At the end of each iteration of the inner loop we set `next_state` as our new `state` so that the loop can start again from this new state. In addition, we check if the episode has reached a terminal state (i.e we check if `done = True`). If a terminal state has been reached, then we break out of the inner loop.\n",
    "\n",
    "\n",
    "* **Line 16**: At the end of each iteration of the outer loop we update the value of $\\epsilon$, and check if the environment has been solved. We consider that the environment has been solved if the agent receives an average of `200` points in the last `100` episodes. If the environment has not been solved we continue the outer loop and start a new episode.\n",
    "\n",
    "Finally, we wanted to note that we have included some extra variables to keep track of the total number of points the agent received in each episode. This will help us determine if the agent has solved the environment and it will also allow us to see how our agent performed during training. We also use the `time` module to measure how long the training takes. \n",
    "\n",
    "<br>\n",
    "<br>\n",
    "<figure>\n",
    "  <img src = \"./images/C3_W3_A1_DeepQLearning.png\" width = 90% style = \"border: thin silver solid; padding: 0px\">\n",
    "      <figcaption style = \"text-align: center; font-style: italic\">Fig 4. Deep Q-Learning with Experience Replay.</figcaption>\n",
    "</figure>\n",
    "<br>\n",
    "\n",
    "**Note:** With this notebook's default parameters, the following cell takes between 10 to 15 minutes to run. "
   ]
  },
  {
   "cell_type": "code",
   "execution_count": 16,
   "metadata": {
    "deletable": false
   },
   "outputs": [
    {
     "name": "stdout",
     "output_type": "stream",
     "text": [
      "Episode 100 | Total point average of the last 100 episodes: -154.64\n",
      "Episode 200 | Total point average of the last 100 episodes: -78.265\n",
      "Episode 300 | Total point average of the last 100 episodes: -28.45\n",
      "Episode 400 | Total point average of the last 100 episodes: 97.162\n",
      "Episode 500 | Total point average of the last 100 episodes: 158.74\n",
      "Episode 600 | Total point average of the last 100 episodes: 202.58\n",
      "Episode 700 | Total point average of the last 100 episodes: 236.47\n",
      "Episode 800 | Total point average of the last 100 episodes: 238.52\n",
      "Episode 900 | Total point average of the last 100 episodes: 226.13\n",
      "Episode 1000 | Total point average of the last 100 episodes: 231.85\n",
      "Episode 1100 | Total point average of the last 100 episodes: 239.58\n",
      "Episode 1200 | Total point average of the last 100 episodes: 252.92\n",
      "Episode 1300 | Total point average of the last 100 episodes: 243.82\n",
      "Episode 1400 | Total point average of the last 100 episodes: 234.35\n",
      "Episode 1500 | Total point average of the last 100 episodes: 232.96\n",
      "Episode 1600 | Total point average of the last 100 episodes: 245.79\n",
      "Episode 1700 | Total point average of the last 100 episodes: 255.23\n",
      "Episode 1800 | Total point average of the last 100 episodes: 262.06\n",
      "Episode 1900 | Total point average of the last 100 episodes: 264.77\n",
      "Episode 2000 | Total point average of the last 100 episodes: 262.91\n",
      "WARNING:tensorflow:Compiled the loaded model, but the compiled metrics have yet to be built. `model.compile_metrics` will be empty until you train or evaluate the model.\n",
      "\n",
      "Total Runtime: 1234.56 s (20.58 min)\n"
     ]
    }
   ],
   "source": [
    "start = time.time()\n",
    "\n",
    "num_episodes = 2000\n",
    "max_num_timesteps = 1000\n",
    "\n",
    "total_point_history = []\n",
    "\n",
    "num_p_av = 100    # number of total points to use for averaging\n",
    "epsilon = 1.0     # initial ε value for ε-greedy policy\n",
    "\n",
    "# Create a memory buffer D with capacity N\n",
    "memory_buffer = deque(maxlen=MEMORY_SIZE)\n",
    "\n",
    "# Set the target network weights equal to the Q-Network weights\n",
    "target_q_network.set_weights(q_network.get_weights())\n",
    "\n",
    "for i in range(num_episodes):\n",
    "    \n",
    "    # Reset the environment to the initial state and get the initial state\n",
    "    state = env.reset()\n",
    "    total_points = 0\n",
    "    \n",
    "    for t in range(max_num_timesteps):\n",
    "        \n",
    "        # From the current state S choose an action A using an ε-greedy policy\n",
    "        state_qn = np.expand_dims(state, axis=0)  # state needs to be the right shape for the q_network\n",
    "        q_values = q_network(state_qn)\n",
    "        action = utils.get_action(q_values, epsilon)\n",
    "        \n",
    "        # Take action A and receive reward R and the next state S'\n",
    "        next_state, reward, done, _ = env.step(action)\n",
    "        \n",
    "        # Store experience tuple (S,A,R,S') in the memory buffer.\n",
    "        # We store the done variable as well for convenience.\n",
    "        memory_buffer.append(experience(state, action, reward, next_state, done))\n",
    "        \n",
    "        # Only update the network every NUM_STEPS_FOR_UPDATE time steps.\n",
    "        update = utils.check_update_conditions(t, NUM_STEPS_FOR_UPDATE, memory_buffer)\n",
    "        \n",
    "        if update:\n",
    "            # Sample random mini-batch of experience tuples (S,A,R,S') from D\n",
    "            experiences = utils.get_experiences(memory_buffer)\n",
    "            \n",
    "            # Set the y targets, perform a gradient descent step,\n",
    "            # and update the network weights.\n",
    "            agent_learn(experiences, GAMMA)\n",
    "        \n",
    "        state = next_state.copy()\n",
    "        total_points += reward\n",
    "        \n",
    "        if done:\n",
    "            break\n",
    "            \n",
    "    total_point_history.append(total_points)\n",
    "    av_latest_points = np.mean(total_point_history[-num_p_av:])\n",
    "    \n",
    "    # Update the ε value\n",
    "    epsilon = utils.get_new_eps(epsilon)\n",
    "\n",
    "    print(f\"\\rEpisode {i+1} | Total point average of the last {num_p_av} episodes: {av_latest_points:.2f}\", end=\"\")\n",
    "\n",
    "    if (i+1) % num_p_av == 0:\n",
    "        print(f\"\\rEpisode {i+1} | Total point average of the last {num_p_av} episodes: {av_latest_points:.2f}\")\n",
    "\n",
    "    # We will consider that the environment is solved if we get an\n",
    "    # average of 200 points in the last 100 episodes.\n",
    "    #if av_latest_points >= 200.0:\n",
    "        #print(f\"\\n\\nEnvironment solved in {i+1} episodes!\")\n",
    "        #q_network.save('lunar_lander_model.h5')\n",
    "        #break\n",
    "        \n",
    "tot_time = time.time() - start\n",
    "q_network.save('lunar_lander_model.h5')\n",
    "print(f\"\\nTotal Runtime: {tot_time:.2f} s ({(tot_time/60):.2f} min)\")"
   ]
  },
  {
   "cell_type": "markdown",
   "metadata": {},
   "source": [
    "We can plot the total point history along with the moving average to see how our agent improved during training. If you want to know about the different plotting options available in the `utils.plot_history` function we encourage you to take a look at the `utils` module."
   ]
  },
  {
   "cell_type": "code",
   "execution_count": 17,
   "metadata": {
    "deletable": false,
    "editable": false,
    "id": "E_EUXxurfe8m"
   },
   "outputs": [
    {
     "data": {
      "image/png": "[encoded data removed]",
      "text/plain": [
       "<Figure size 1000x700 with 1 Axes>"
      ]
     },
     "metadata": {},
     "output_type": "display_data"
    }
   ],
   "source": [
    "# Plot the total point history along with the moving average\n",
    "utils.plot_history(total_point_history)"
   ]
  },
  {
   "cell_type": "markdown",
   "metadata": {
    "id": "c_xwgaX5MnYt"
   },
   "source": [
    "<a name=\"10\"></a>\n",
    "## 10 - See the Trained Agent In Action\n",
    "\n",
    "Now that we have trained our agent, we can see it in action. We will use the `utils.create_video` function to create a video of our agent interacting with the environment using the trained $Q$-Network. The `utils.create_video` function uses the `imageio` library to create the video. This library produces some warnings that can be distracting, so, to suppress these warnings we run the code below."
   ]
  },
  {
   "cell_type": "code",
   "execution_count": 18,
   "metadata": {
    "deletable": false,
    "editable": false
   },
   "outputs": [],
   "source": [
    "# Suppress warnings from imageio\n",
    "import logging\n",
    "logging.getLogger().setLevel(logging.ERROR)"
   ]
  },
  {
   "cell_type": "markdown",
   "metadata": {},
   "source": [
    "In the cell below we create a video of our agent interacting with the Lunar Lander environment using the trained `q_network`. The video is saved to the `videos` folder with the given `filename`. We use the `utils.embed_mp4` function to embed the video in the Jupyter Notebook so that we can see it here directly without having to download it.\n",
    "\n",
    "We should note that since the lunar lander starts with a random initial force applied to its center of mass, every time you run the cell below you will see a different video. If the agent was trained properly, it should be able to land the lunar lander in the landing pad every time, regardless of the initial force applied to its center of mass."
   ]
  },
  {
   "cell_type": "code",
   "execution_count": 19,
   "metadata": {},
   "outputs": [
    {
     "name": "stdout",
     "output_type": "stream",
     "text": [
      "Defaulting to user installation because normal site-packages is not writeable\n",
      "Requirement already satisfied: imageio-ffmpeg in /home/hope1300/.local/lib/python3.10/site-packages (0.5.1)\n",
      "Requirement already satisfied: setuptools in /usr/lib/python3/dist-packages (from imageio-ffmpeg) (59.6.0)\n",
      "\n",
      "\u001b[1m[\u001b[0m\u001b[34;49mnotice\u001b[0m\u001b[1;39;49m]\u001b[0m\u001b[39;49m A new release of pip is available: \u001b[0m\u001b[31;49m23.3\u001b[0m\u001b[39;49m -> \u001b[0m\u001b[32;49m24.3.1\u001b[0m\n",
      "\u001b[1m[\u001b[0m\u001b[34;49mnotice\u001b[0m\u001b[1;39;49m]\u001b[0m\u001b[39;49m To update, run: \u001b[0m\u001b[32;49m/usr/bin/python3 -m pip install --upgrade pip\u001b[0m\n",
      "Note: you may need to restart the kernel to use updated packages.\n"
     ]
    }
   ],
   "source": [
    "%pip install imageio-ffmpeg"
   ]
  },
  {
   "cell_type": "code",
   "execution_count": 20,
   "metadata": {
    "deletable": false,
    "id": "3Ttb_zLeJKiG"
   },
   "outputs": [
    {
     "name": "stderr",
     "output_type": "stream",
     "text": [
      "/home/hope1300/.local/lib/python3.10/site-packages/gym/core.py:43: DeprecationWarning: \u001b[33mWARN: The argument mode in render method is deprecated; use render_mode during environment initialization instead.\n",
      "See here for more information: https://www.gymlibrary.ml/content/api/\u001b[0m\n",
      "  deprecation(\n",
      "[swscaler @ 0x11f7ce40] Warning: data is not aligned! This can lead to a speed loss\n"
     ]
    },
    {
     "data": {
      "text/html": [
       "\n",
       "    <video width=\"840\" height=\"480\" controls>\n",
       "    <source src=\"data:video/mp4;base64,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\" type=\"video/mp4\">\n",
       "    Your browser does not support the video tag.\n",
       "    </video>"
      ],
      "text/plain": [
       "<IPython.core.display.HTML object>"
      ]
     },
     "execution_count": 20,
     "metadata": {},
     "output_type": "execute_result"
    }
   ],
   "source": [
    "filename = \"./videos/lunar_lander2000.mp4\"\n",
    "\n",
    "utils.create_video(filename, env, q_network)\n",
    "utils.embed_mp4(filename)"
   ]
  },
  {
   "cell_type": "markdown",
   "metadata": {},
   "source": [
    "<a name=\"11\"></a>\n",
    "## 11 - Congratulations!\n",
    "\n",
    "You have successfully used Deep Q-Learning with Experience Replay to train an agent to land a lunar lander safely on a landing pad on the surface of the moon. Congratulations!"
   ]
  },
  {
   "cell_type": "markdown",
   "metadata": {},
   "source": [
    "<a name=\"12\"></a>\n",
    "## 12 - References\n",
    "\n",
    "If you would like to learn more about Deep Q-Learning, we recommend you check out the following papers.\n",
    "\n",
    "\n",
    "* Mnih, V., Kavukcuoglu, K., Silver, D. et al. Human-level control through deep reinforcement learning. Nature 518, 529–533 (2015).\n",
    "\n",
    "\n",
    "* Lillicrap, T. P., Hunt, J. J., Pritzel, A., et al. Continuous Control with Deep Reinforcement Learning. ICLR (2016).\n",
    "\n",
    "\n",
    "* Mnih, V., Kavukcuoglu, K., Silver, D. et al. Playing Atari with Deep Reinforcement Learning. arXiv e-prints.  arXiv:1312.5602 (2013)."
   ]
  },
  {
   "cell_type": "markdown",
   "metadata": {},
   "source": [
    "<details>\n",
    "  <summary><font size=\"2\" color=\"darkgreen\"><b>Please click here if you want to experiment with any of the non-graded code.</b></font></summary>\n",
    "    <p><i><b>Important Note: Please only do this when you've already passed the assignment to avoid problems with the autograder.</b></i>\n",
    "    <ol>\n",
    "        <li> On the notebook’s menu, click “View” > “Cell Toolbar” > “Edit Metadata”</li>\n",
    "        <li> Hit the “Edit Metadata” button next to the code cell which you want to lock/unlock</li>\n",
    "        <li> Set the attribute value for “editable” to:\n",
    "            <ul>\n",
    "                <li> “true” if you want to unlock it </li>\n",
    "                <li> “false” if you want to lock it </li>\n",
    "            </ul>\n",
    "        </li>\n",
    "        <li> On the notebook’s menu, click “View” > “Cell Toolbar” > “None” </li>\n",
    "    </ol>\n",
    "    <p> Here's a short demo of how to do the steps above: \n",
    "        <br>\n",
    "        <img src=\"./images/unlock_cells.gif\" align=\"center\" alt=\"unlock_cells.gif\">\n",
    "</details>"
   ]
  }
 ],
 "metadata": {
  "accelerator": "GPU",
  "colab": {
   "collapsed_sections": [],
   "name": "TensorFlow - Lunar Lander.ipynb",
   "provenance": []
  },
  "kernelspec": {
   "display_name": "Python 3 (ipykernel)",
   "language": "python",
   "name": "python3"
  },
  "language_info": {
   "codemirror_mode": {
    "name": "ipython",
    "version": 3
   },
   "file_extension": ".py",
   "mimetype": "text/x-python",
   "name": "python",
   "nbconvert_exporter": "python",
   "pygments_lexer": "ipython3",
   "version": "3.10.12"
  }
 },
 "nbformat": 4,
 "nbformat_minor": 4
}
